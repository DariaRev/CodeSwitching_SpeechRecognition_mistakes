{
  "nbformat": 4,
  "nbformat_minor": 0,
  "metadata": {
    "colab": {
      "name": "alignment_new_ipa.ipynb",
      "provenance": []
    },
    "kernelspec": {
      "name": "python3",
      "display_name": "Python 3"
    },
    "language_info": {
      "name": "python"
    }
  },
  "cells": [
    {
      "cell_type": "code",
      "execution_count": null,
      "metadata": {
        "id": "Up_minoBk9EG"
      },
      "outputs": [],
      "source": [
        ""
      ]
    },
    {
      "cell_type": "code",
      "execution_count": null,
      "metadata": {
        "id": "ttVtiPlriFsc"
      },
      "outputs": [],
      "source": [
        ""
      ]
    },
    {
      "cell_type": "markdown",
      "source": [
        "# Cloning and making fast align plus importing needed libraries"
      ],
      "metadata": {
        "id": "i61wbc63G0pm"
      }
    },
    {
      "cell_type": "code",
      "source": [
        "! git clone https://github.com/clab/fast_align"
      ],
      "metadata": {
        "colab": {
          "base_uri": "https://localhost:8080/"
        },
        "id": "qa5uqTod4ZNv",
        "outputId": "611e6f23-5840-48db-b6e9-4d08af12196f"
      },
      "execution_count": 1,
      "outputs": [
        {
          "output_type": "stream",
          "name": "stdout",
          "text": [
            "Cloning into 'fast_align'...\n",
            "remote: Enumerating objects: 213, done.\u001b[K\n",
            "remote: Counting objects: 100% (9/9), done.\u001b[K\n",
            "remote: Compressing objects: 100% (7/7), done.\u001b[K\n",
            "remote: Total 213 (delta 2), reused 4 (delta 2), pack-reused 204\u001b[K\n",
            "Receiving objects: 100% (213/213), 70.68 KiB | 552.00 KiB/s, done.\n",
            "Resolving deltas: 100% (110/110), done.\n"
          ]
        }
      ]
    },
    {
      "cell_type": "code",
      "source": [
        "%cd fast_align"
      ],
      "metadata": {
        "colab": {
          "base_uri": "https://localhost:8080/"
        },
        "id": "R_TqlJyA4r2S",
        "outputId": "914c2e63-1f8c-4bd2-a324-99dc13bb3488"
      },
      "execution_count": 2,
      "outputs": [
        {
          "output_type": "stream",
          "name": "stdout",
          "text": [
            "/content/fast_align\n"
          ]
        }
      ]
    },
    {
      "cell_type": "code",
      "source": [
        "!mkdir build\n",
        "%cd build\n",
        "!cmake ..\n",
        "!make"
      ],
      "metadata": {
        "colab": {
          "base_uri": "https://localhost:8080/"
        },
        "id": "eVpcgXye4dGd",
        "outputId": "78c8d657-3bcf-41c6-cb12-dc5e8b7d244a"
      },
      "execution_count": 3,
      "outputs": [
        {
          "output_type": "stream",
          "name": "stdout",
          "text": [
            "/content/fast_align/build\n",
            "-- The C compiler identification is GNU 7.5.0\n",
            "-- The CXX compiler identification is GNU 7.5.0\n",
            "-- Detecting C compiler ABI info\n",
            "-- Detecting C compiler ABI info - done\n",
            "-- Check for working C compiler: /usr/bin/cc - skipped\n",
            "-- Detecting C compile features\n",
            "-- Detecting C compile features - done\n",
            "-- Detecting CXX compiler ABI info\n",
            "-- Detecting CXX compiler ABI info - done\n",
            "-- Check for working CXX compiler: /usr/bin/c++ - skipped\n",
            "-- Detecting CXX compile features\n",
            "-- Detecting CXX compile features - done\n",
            "\u001b[0mCMake Deprecation Warning at CMakeLists.txt:2 (cmake_minimum_required):\n",
            "  Compatibility with CMake < 2.8.12 will be removed from a future version of\n",
            "  CMake.\n",
            "\n",
            "  Update the VERSION argument <min> value or use a ...<max> suffix to tell\n",
            "  CMake that the project does not need compatibility with older versions.\n",
            "\n",
            "\u001b[0m\n",
            "-- Could NOT find SparseHash (missing: SPARSEHASH_INCLUDE_DIR) \n",
            "-- Configuring done\n",
            "-- Generating done\n",
            "-- Build files have been written to: /content/fast_align/build\n",
            "[ 16%] \u001b[32mBuilding CXX object CMakeFiles/fast_align.dir/src/fast_align.cc.o\u001b[0m\n",
            "[ 33%] \u001b[32mBuilding CXX object CMakeFiles/fast_align.dir/src/ttables.cc.o\u001b[0m\n",
            "[ 50%] \u001b[32m\u001b[1mLinking CXX executable fast_align\u001b[0m\n",
            "[ 50%] Built target fast_align\n",
            "[ 66%] \u001b[32mBuilding CXX object CMakeFiles/atools.dir/src/alignment_io.cc.o\u001b[0m\n",
            "[ 83%] \u001b[32mBuilding CXX object CMakeFiles/atools.dir/src/atools.cc.o\u001b[0m\n",
            "[100%] \u001b[32m\u001b[1mLinking CXX executable atools\u001b[0m\n",
            "[100%] Built target atools\n"
          ]
        }
      ]
    },
    {
      "cell_type": "code",
      "source": [
        "!pwd"
      ],
      "metadata": {
        "colab": {
          "base_uri": "https://localhost:8080/"
        },
        "id": "eOW23tph5Yhf",
        "outputId": "24dc6ffa-db69-4a3d-cfe4-b435120bd6a8"
      },
      "execution_count": 4,
      "outputs": [
        {
          "output_type": "stream",
          "name": "stdout",
          "text": [
            "/content/fast_align/build\n"
          ]
        }
      ]
    },
    {
      "cell_type": "code",
      "source": [
        "!git clone https://github.com/jpuigcerver/xer"
      ],
      "metadata": {
        "colab": {
          "base_uri": "https://localhost:8080/"
        },
        "id": "uPncDFTwHEWZ",
        "outputId": "d41bf8d5-c8b6-4d97-b02b-c47b37c26475"
      },
      "execution_count": 5,
      "outputs": [
        {
          "output_type": "stream",
          "name": "stdout",
          "text": [
            "Cloning into 'xer'...\n",
            "remote: Enumerating objects: 11, done.\u001b[K\n",
            "remote: Total 11 (delta 0), reused 0 (delta 0), pack-reused 11\u001b[K\n",
            "Unpacking objects: 100% (11/11), done.\n"
          ]
        }
      ]
    },
    {
      "cell_type": "code",
      "source": [
        "!pip install jiwer"
      ],
      "metadata": {
        "id": "njY1JLNLHiug",
        "colab": {
          "base_uri": "https://localhost:8080/"
        },
        "outputId": "b2334131-1f7a-401b-9f9c-0ae739078e31"
      },
      "execution_count": 6,
      "outputs": [
        {
          "output_type": "stream",
          "name": "stdout",
          "text": [
            "Looking in indexes: https://pypi.org/simple, https://us-python.pkg.dev/colab-wheels/public/simple/\n",
            "Collecting jiwer\n",
            "  Downloading jiwer-2.3.0-py3-none-any.whl (15 kB)\n",
            "Collecting python-Levenshtein==0.12.2\n",
            "  Downloading python-Levenshtein-0.12.2.tar.gz (50 kB)\n",
            "\u001b[K     |████████████████████████████████| 50 kB 2.7 MB/s \n",
            "\u001b[?25hRequirement already satisfied: setuptools in /usr/local/lib/python3.7/dist-packages (from python-Levenshtein==0.12.2->jiwer) (57.4.0)\n",
            "Building wheels for collected packages: python-Levenshtein\n",
            "  Building wheel for python-Levenshtein (setup.py) ... \u001b[?25l\u001b[?25hdone\n",
            "  Created wheel for python-Levenshtein: filename=python_Levenshtein-0.12.2-cp37-cp37m-linux_x86_64.whl size=149870 sha256=85d29807e1d94edc4f6a4ac6e61916bf452e129b8af06efa40285f73d05c39d5\n",
            "  Stored in directory: /root/.cache/pip/wheels/05/5f/ca/7c4367734892581bb5ff896f15027a932c551080b2abd3e00d\n",
            "Successfully built python-Levenshtein\n",
            "Installing collected packages: python-Levenshtein, jiwer\n",
            "Successfully installed jiwer-2.3.0 python-Levenshtein-0.12.2\n"
          ]
        }
      ]
    },
    {
      "cell_type": "code",
      "source": [
        "from jiwer import cer\n",
        "from jiwer import wer"
      ],
      "metadata": {
        "id": "arPETiNrHrLw"
      },
      "execution_count": 7,
      "outputs": []
    },
    {
      "cell_type": "markdown",
      "source": [
        "# Making one file with 1000 entities from two files"
      ],
      "metadata": {
        "id": "Sx_nWtgaHF9W"
      }
    },
    {
      "cell_type": "code",
      "source": [
        "open(\"file_for_align_1000_opp.ru-ru\",\"w\").write(open(\"/content/file_for_align_opp_445.ru-ru\",\"r\").read() + open(\"/content/file_for_align_opp_555.ru-ru\",\"r\").read())"
      ],
      "metadata": {
        "colab": {
          "base_uri": "https://localhost:8080/"
        },
        "id": "VRBlEESTMmQM",
        "outputId": "f81f0ddf-dd93-4c56-a5a6-5e421a60799f"
      },
      "execution_count": null,
      "outputs": [
        {
          "output_type": "execute_result",
          "data": {
            "text/plain": [
              "242538"
            ]
          },
          "metadata": {},
          "execution_count": 8
        }
      ]
    },
    {
      "cell_type": "code",
      "source": [
        "open(\"file_for_align_1000.ru-ru\",\"w\").write(open(\"/content/file_for_align_445.ru-ru\",\"r\").read() + open(\"/content/file_for_align_555.ru-ru\",\"r\").read())"
      ],
      "metadata": {
        "colab": {
          "base_uri": "https://localhost:8080/"
        },
        "id": "pt5nUVfcM3sG",
        "outputId": "e8f9b3a3-0b3f-4b5e-bb7a-f19ba86367e2"
      },
      "execution_count": null,
      "outputs": [
        {
          "output_type": "execute_result",
          "data": {
            "text/plain": [
              "242538"
            ]
          },
          "metadata": {},
          "execution_count": 9
        }
      ]
    },
    {
      "cell_type": "markdown",
      "source": [
        "# Preprocess files"
      ],
      "metadata": {
        "id": "cGTNuYusHLnh"
      }
    },
    {
      "cell_type": "code",
      "source": [
        "import re\n",
        "def remove_emojis(data):\n",
        "    emoj = re.compile(\"[\"\n",
        "        u\"\\U0001F600-\\U0001F64F\"  # emoticons\n",
        "        u\"\\U0001F300-\\U0001F5FF\"  # symbols & pictographs\n",
        "        u\"\\U0001F680-\\U0001F6FF\"  # transport & map symbols\n",
        "        u\"\\U0001F1E0-\\U0001F1FF\"  # flags (iOS)\n",
        "        u\"\\U00002500-\\U00002BEF\"  # chinese char\n",
        "        u\"\\U00002702-\\U000027B0\"\n",
        "        u\"\\U00002702-\\U000027B0\"\n",
        "        u\"\\U000024C2-\\U0001F251\"\n",
        "        u\"\\U0001f926-\\U0001f937\"\n",
        "        u\"\\U00010000-\\U0010ffff\"\n",
        "        u\"\\u2640-\\u2642\" \n",
        "        u\"\\u2600-\\u2B55\"\n",
        "        u\"\\u200d\"\n",
        "        u\"\\u23cf\"\n",
        "        u\"\\u23e9\"\n",
        "        u\"\\u231a\"\n",
        "        u\"\\ufe0f\"  # dingbats\n",
        "        u\"\\u3030\"\n",
        "                      \"]+\", re.UNICODE)\n",
        "    return re.sub(emoj, '', data)"
      ],
      "metadata": {
        "id": "7AjLyd3SvyBc"
      },
      "execution_count": 8,
      "outputs": []
    },
    {
      "cell_type": "code",
      "source": [
        "def replace_char(true):\n",
        "    if 'ё' in true:\n",
        "        true = true.replace('ё', 'е')\n",
        "    if '“' in true:\n",
        "        true = true.replace('“', '')\n",
        "    return true"
      ],
      "metadata": {
        "id": "jMdD7F1h252I"
      },
      "execution_count": 9,
      "outputs": []
    },
    {
      "cell_type": "code",
      "source": [
        "def minus_punkt(true):\n",
        "    tokens = word_tokenize(true)\n",
        "    tokens = list(filter(lambda token: token not in string.punctuation, tokens))\n",
        "    return tokens"
      ],
      "metadata": {
        "id": "UA0Iv8oe3JuR"
      },
      "execution_count": 10,
      "outputs": []
    },
    {
      "cell_type": "code",
      "source": [
        "import string\n",
        "import nltk\n",
        "nltk.download('punkt')\n",
        "from nltk.tokenize import word_tokenize\n",
        "def preprocess(file, numb, true_li = 1):\n",
        "    new_f = []\n",
        "    with open(file) as f:\n",
        "        with open(f'preproc_{numb}.ru-ru', 'w') as f1:\n",
        "            read = f.readlines()\n",
        "            for st in read:\n",
        "                if true_li == 1:\n",
        "                    true, pred = st.split('|||')\n",
        "                else:\n",
        "                    pred, true = st.split('|||') \n",
        "                     #print(pred)\n",
        "                true = true.lower()\n",
        "                if 'ё' in true:\n",
        "                    true = true.replace('ё', 'е')\n",
        "                true = re.sub(r'[^A-Za-zА-Яа-я0-9 ]', ' ',true)\n",
        "                true = remove_emojis(true)\n",
        "                tokens = word_tokenize(true)\n",
        "                tokens = list(filter(lambda token: token not in string.punctuation, tokens))\n",
        "                tokens_str = ' '.join(tokens)\n",
        "                pred = pred.replace('\\n', '')\n",
        "                if true_li == 1:\n",
        "                    str_append = tokens_str + \" |||\" + pred\n",
        "                else:\n",
        "                    str_append = pred + \"||| \" + tokens_str\n",
        "                f1.write(str_append)\n",
        "                f1.write('\\n')\n",
        "\n",
        "    return "
      ],
      "metadata": {
        "colab": {
          "base_uri": "https://localhost:8080/"
        },
        "id": "JdboZXs5rc8O",
        "outputId": "e23298e8-070e-4b26-a1da-624e4b1ed061"
      },
      "execution_count": 11,
      "outputs": [
        {
          "output_type": "stream",
          "name": "stdout",
          "text": [
            "[nltk_data] Downloading package punkt to /root/nltk_data...\n",
            "[nltk_data]   Unzipping tokenizers/punkt.zip.\n"
          ]
        }
      ]
    },
    {
      "cell_type": "code",
      "source": [
        "preproc_new_985 = preprocess('/content/fast_align/build/preproc_1000.ru-ru', 985, 2)"
      ],
      "metadata": {
        "id": "OWn05QUyjZ2b"
      },
      "execution_count": 19,
      "outputs": []
    },
    {
      "cell_type": "markdown",
      "source": [
        "# Making fast align on original and preprocessed files. Saving to files like 'forward_{number}.align'"
      ],
      "metadata": {
        "id": "gbjuIUUUHRgC"
      }
    },
    {
      "cell_type": "code",
      "source": [
        "! ./fast_align"
      ],
      "metadata": {
        "colab": {
          "base_uri": "https://localhost:8080/"
        },
        "id": "O1wdcIlI5BgN",
        "outputId": "6bc7fefd-53e3-4700-aa2c-148f79b1bd58"
      },
      "execution_count": 13,
      "outputs": [
        {
          "output_type": "stream",
          "name": "stdout",
          "text": [
            "Usage: ./fast_align -i file.fr-en\n",
            " Standard options ([USE] = strongly recommended):\n",
            "  -i: [REQ] Input parallel corpus\n",
            "  -v: [USE] Use Dirichlet prior on lexical translation distributions\n",
            "  -d: [USE] Favor alignment points close to the monotonic diagonoal\n",
            "  -o: [USE] Optimize how close to the diagonal alignment points should be\n",
            "  -r: Run alignment in reverse (condition on target and predict source)\n",
            "  -c: Output conditional probability table\n",
            " Advanced options:\n",
            "  -I: number of iterations in EM training (default = 5)\n",
            "  -q: p_null parameter (default = 0.08)\n",
            "  -N: No null word\n",
            "  -a: alpha parameter for optional Dirichlet prior (default = 0.01)\n",
            "  -T: starting lambda for diagonal distance parameter (default = 4)\n",
            "  -s: print alignment scores (alignment ||| score, disabled by default)\n"
          ]
        }
      ]
    },
    {
      "cell_type": "code",
      "source": [
        "def align(file, numb):\n",
        "    !./fast_align -i {file} -d -o -v > forward_{numb}.align"
      ],
      "metadata": {
        "id": "smEo_xzx-1M_"
      },
      "execution_count": 14,
      "outputs": []
    },
    {
      "cell_type": "code",
      "source": [
        "align_preproc_985 = align('/content/fast_align/build/preproc_985.ru-ru', 5)"
      ],
      "metadata": {
        "id": "PbvvlF0IkVNm",
        "colab": {
          "base_uri": "https://localhost:8080/"
        },
        "outputId": "c906f854-3b97-4b66-8a40-d93ab658fe39"
      },
      "execution_count": 20,
      "outputs": [
        {
          "output_type": "stream",
          "name": "stdout",
          "text": [
            "ARG=i\n",
            "ARG=d\n",
            "ARG=o\n",
            "ARG=v\n",
            "INITIAL PASS \n",
            "expected target length = source length * 1.0115\n",
            "ITERATION 1\n",
            "  log_e likelihood: -295493\n",
            "  log_2 likelihood: -426306\n",
            "     cross entropy: 29.8974\n",
            "        perplexity: 1e+09\n",
            "      posterior p0: 0.08\n",
            " posterior al-feat: -0.175397\n",
            "       size counts: 228\n",
            "ITERATION 2\n",
            "  log_e likelihood: -88890.2\n",
            "  log_2 likelihood: -128241\n",
            "     cross entropy: 8.99372\n",
            "        perplexity: 509.776\n",
            "      posterior p0: 0.0444841\n",
            " posterior al-feat: -0.0833492\n",
            "       size counts: 228\n",
            "  1  model al-feat: -0.170391 (tension=4)\n",
            "  2  model al-feat: -0.132702 (tension=5.74083)\n",
            "  3  model al-feat: -0.116933 (tension=6.72789)\n",
            "  4  model al-feat: -0.107928 (tension=7.39956)\n",
            "  5  model al-feat: -0.102069 (tension=7.89114)\n",
            "  6  model al-feat: -0.0979688 (tension=8.26555)\n",
            "  7  model al-feat: -0.0949631 (tension=8.55794)\n",
            "  8  model al-feat: -0.0926891 (tension=8.79021)\n",
            "     final tension: 8.97701\n",
            "ITERATION 3\n",
            "  log_e likelihood: -33094.2\n",
            "  log_2 likelihood: -47744.8\n",
            "     cross entropy: 3.3484\n",
            "        perplexity: 10.1852\n",
            "      posterior p0: 0.029807\n",
            " posterior al-feat: -0.0753242\n",
            "       size counts: 228\n",
            "  1  model al-feat: -0.0909292 (tension=8.97701)\n",
            "  2  model al-feat: -0.0881173 (tension=9.28911)\n",
            "  3  model al-feat: -0.085925 (tension=9.54497)\n",
            "  4  model al-feat: -0.0841805 (tension=9.75699)\n",
            "  5  model al-feat: -0.0827708 (tension=9.93411)\n",
            "  6  model al-feat: -0.0816177 (tension=10.083)\n",
            "  7  model al-feat: -0.0806652 (tension=10.2089)\n",
            "  8  model al-feat: -0.0798722 (tension=10.3157)\n",
            "     final tension: 10.4067\n",
            "ITERATION 4\n",
            "  log_e likelihood: -28943\n",
            "  log_2 likelihood: -41756\n",
            "     cross entropy: 2.92839\n",
            "        perplexity: 7.61263\n",
            "      posterior p0: 0.0288778\n",
            " posterior al-feat: -0.0744378\n",
            "       size counts: 228\n",
            "  1  model al-feat: -0.0792079 (tension=10.4067)\n",
            "  2  model al-feat: -0.0785216 (tension=10.5021)\n",
            "  3  model al-feat: -0.0779425 (tension=10.5838)\n",
            "  4  model al-feat: -0.0774515 (tension=10.6539)\n",
            "  5  model al-feat: -0.0770337 (tension=10.7141)\n",
            "  6  model al-feat: -0.076677 (tension=10.7661)\n",
            "  7  model al-feat: -0.0763717 (tension=10.8108)\n",
            "  8  model al-feat: -0.0761098 (tension=10.8495)\n",
            "     final tension: 10.883\n",
            "ITERATION 5 (FINAL)\n",
            "  log_e likelihood: -28074.8\n",
            "  log_2 likelihood: -40503.4\n",
            "     cross entropy: 2.84055\n",
            "        perplexity: 7.16294\n",
            "      posterior p0: 0\n",
            " posterior al-feat: 0\n",
            "       size counts: 228\n"
          ]
        }
      ]
    },
    {
      "cell_type": "markdown",
      "source": [
        "# Converting alignments from earlier saved files"
      ],
      "metadata": {
        "id": "671hggIEHa5D"
      }
    },
    {
      "cell_type": "code",
      "source": [
        "def convert(alignment_file, text_file):\n",
        "    with open (alignment_file) as f:\n",
        "        with open (text_file) as text:\n",
        "            li_1 = []\n",
        "            li_2 = []\n",
        "            li_3 = []\n",
        "            li_4 = []\n",
        "            read1 = f.readlines() \n",
        "            read2 = text.readlines()\n",
        "            for i in range(len(read1)):\n",
        "                numbs = read1[i].split()\n",
        "                pred, true = read2[i].split('|||')\n",
        "                true = true.replace('\\n', '')\n",
        "                pred = pred.split()\n",
        "                true = true.split()\n",
        "                #print(pred, true)  \n",
        "                numbs_i = []\n",
        "                numbs_j = []\n",
        "                numbs_new = list(map(lambda x: x.split('-'), numbs))\n",
        "                for elem in numbs_new:\n",
        "                    numbs_i.append(int(elem[0]))\n",
        "                    numbs_j.append(int(elem[1]))\n",
        "                li_1.append(numbs_i)\n",
        "                li_2.append(numbs_j)\n",
        "                #print(pred[0])\n",
        "                li_pred = []\n",
        "                li_true = []\n",
        "                for i in range(len(numbs_i)):\n",
        "                    li_pred.append(pred[numbs_i[i]])\n",
        "                    li_true.append(true[numbs_j[i]])\n",
        "                    #print(true[numbs_j[i]])\n",
        "                #print(li_pred, li_true)\n",
        "                li_3.append(li_pred)\n",
        "                li_4.append(li_true)\n",
        "        return li_1, li_2, li_3, li_4"
      ],
      "metadata": {
        "id": "hh87Slwe9Syq"
      },
      "execution_count": 16,
      "outputs": []
    },
    {
      "cell_type": "code",
      "source": [
        "preproc_985_conv = convert('/content/fast_align/build/forward_5.align', '/content/fast_align/build/preproc_985.ru-ru')"
      ],
      "metadata": {
        "id": "qe2-QDtHn_db"
      },
      "execution_count": 21,
      "outputs": []
    },
    {
      "cell_type": "code",
      "source": [
        "len(preproc_985_conv[3])"
      ],
      "metadata": {
        "colab": {
          "base_uri": "https://localhost:8080/"
        },
        "id": "b0GR82BjohDN",
        "outputId": "52dc085d-37de-4bb5-fb4f-49bee00d5a83"
      },
      "execution_count": 22,
      "outputs": [
        {
          "output_type": "execute_result",
          "data": {
            "text/plain": [
              "985"
            ]
          },
          "metadata": {},
          "execution_count": 22
        }
      ]
    },
    {
      "cell_type": "code",
      "source": [
        "preproc_985_conv[3][0]"
      ],
      "metadata": {
        "colab": {
          "base_uri": "https://localhost:8080/"
        },
        "id": "UTUOXe99wcir",
        "outputId": "4e6fd1c8-3824-4765-88bd-67e48259dd5d"
      },
      "execution_count": 23,
      "outputs": [
        {
          "output_type": "execute_result",
          "data": {
            "text/plain": [
              "['navigation', 'drawer', 'боковая', 'панель', 'навигации']"
            ]
          },
          "metadata": {},
          "execution_count": 23
        }
      ]
    },
    {
      "cell_type": "code",
      "source": [
        "preproc_985_conv[2][0]"
      ],
      "metadata": {
        "colab": {
          "base_uri": "https://localhost:8080/"
        },
        "id": "ZCCQt68yvFk7",
        "outputId": "3b56167e-1650-4847-caf7-f3156c00aef7"
      },
      "execution_count": 24,
      "outputs": [
        {
          "output_type": "execute_result",
          "data": {
            "text/plain": [
              "['навагейшендрор', 'навагейшендрор', 'боковая', 'панель', 'навигации']"
            ]
          },
          "metadata": {},
          "execution_count": 24
        }
      ]
    },
    {
      "cell_type": "code",
      "source": [
        "count = 0\n",
        "for elem in preproc_985_conv[0]:\n",
        "    for el in elem:\n",
        "        count += 1\n",
        "print(count)"
      ],
      "metadata": {
        "colab": {
          "base_uri": "https://localhost:8080/"
        },
        "id": "w8r8CeHxju8Q",
        "outputId": "41afe1d9-7a38-48ff-82cf-d5499e63470e"
      },
      "execution_count": 25,
      "outputs": [
        {
          "output_type": "stream",
          "name": "stdout",
          "text": [
            "13885\n"
          ]
        }
      ]
    },
    {
      "cell_type": "markdown",
      "source": [
        "# Creating list of only english words for preprocessed text (cause with lower cases and without punctuation cer is usually better)"
      ],
      "metadata": {
        "id": "477CT3X-Hwxo"
      }
    },
    {
      "cell_type": "code",
      "source": [
        "def create_eng_li(convert_preproc_true_1000,numb, not_eng = False):\n",
        "    new_li = ()\n",
        "    true_li_eng = []\n",
        "    pred_li_eng = []\n",
        "    for i in range(len(convert_preproc_true_1000[0])):\n",
        "        if numb == 1:\n",
        "            pred_text = convert_preproc_true_1000[0][i]\n",
        "            true_text = convert_preproc_true_1000[1][i]\n",
        "        else:\n",
        "            pred_text = convert_preproc_true_1000[1][i]\n",
        "            true_text = convert_preproc_true_1000[0][i] \n",
        "        if len(pred_text) == len(true_text):\n",
        "            for i in range(len(true_text)):\n",
        "                if not_eng == False:\n",
        "                    if re.search(r'[a-zA-Z]', true_text[i]):\n",
        "                        true_li_eng.append(true_text[i])\n",
        "                        pred_li_eng.append(pred_text[i])\n",
        "                else:\n",
        "                    if re.search(r'[а-яА-Я]', true_text[i]):\n",
        "                        true_li_eng.append(true_text[i])\n",
        "                        pred_li_eng.append(pred_text[i])\n",
        "    new_li = (pred_li_eng, true_li_eng)\n",
        "    return new_li"
      ],
      "metadata": {
        "id": "DNcb6mNkkbZU"
      },
      "execution_count": 26,
      "outputs": []
    },
    {
      "cell_type": "code",
      "source": [
        "li_985 = create_eng_li((preproc_985_conv[2],preproc_985_conv[3]), 1)"
      ],
      "metadata": {
        "id": "Ac9OkGU-srTI"
      },
      "execution_count": 28,
      "outputs": []
    },
    {
      "cell_type": "code",
      "source": [
        "li_985"
      ],
      "metadata": {
        "id": "r_xI6mqNtHYy"
      },
      "execution_count": null,
      "outputs": []
    },
    {
      "cell_type": "code",
      "source": [
        "len(li_985[1])"
      ],
      "metadata": {
        "id": "ZEFlj_Greeyg",
        "colab": {
          "base_uri": "https://localhost:8080/"
        },
        "outputId": "8877db0c-a83d-4da5-b12c-bc5cb5d1fc9d"
      },
      "execution_count": 29,
      "outputs": [
        {
          "output_type": "execute_result",
          "data": {
            "text/plain": [
              "1999"
            ]
          },
          "metadata": {},
          "execution_count": 29
        }
      ]
    },
    {
      "cell_type": "code",
      "source": [
        "li_985_ru=create_eng_li((preproc_985_conv[2],preproc_985_conv[3]), 1, True)"
      ],
      "metadata": {
        "id": "LUawFKa0tuk3"
      },
      "execution_count": 30,
      "outputs": []
    },
    {
      "cell_type": "code",
      "source": [
        "len(li_985_ru[0])"
      ],
      "metadata": {
        "colab": {
          "base_uri": "https://localhost:8080/"
        },
        "id": "lFIPSrr_t3OR",
        "outputId": "81739426-b0f2-48cc-eb79-807c8123527b"
      },
      "execution_count": 31,
      "outputs": [
        {
          "output_type": "execute_result",
          "data": {
            "text/plain": [
              "11757"
            ]
          },
          "metadata": {},
          "execution_count": 31
        }
      ]
    },
    {
      "cell_type": "markdown",
      "source": [
        "# Converting to ipa"
      ],
      "metadata": {
        "id": "Zcf8Xuy0I-1j"
      }
    },
    {
      "cell_type": "code",
      "source": [
        "! git clone https://github.com/dmort27/epitran"
      ],
      "metadata": {
        "colab": {
          "base_uri": "https://localhost:8080/"
        },
        "id": "jy2AozH26Jrs",
        "outputId": "dfa44c5a-65dc-47dd-ac63-fd2d24776af5"
      },
      "execution_count": 32,
      "outputs": [
        {
          "output_type": "stream",
          "name": "stdout",
          "text": [
            "Cloning into 'epitran'...\n",
            "remote: Enumerating objects: 6333, done.\u001b[K\n",
            "remote: Counting objects: 100% (1030/1030), done.\u001b[K\n",
            "remote: Compressing objects: 100% (372/372), done.\u001b[K\n",
            "remote: Total 6333 (delta 738), reused 933 (delta 655), pack-reused 5303\u001b[K\n",
            "Receiving objects: 100% (6333/6333), 886.11 KiB | 5.12 MiB/s, done.\n",
            "Resolving deltas: 100% (4503/4503), done.\n"
          ]
        }
      ]
    },
    {
      "cell_type": "code",
      "source": [
        "!pip install epitran"
      ],
      "metadata": {
        "colab": {
          "base_uri": "https://localhost:8080/"
        },
        "id": "3ItgNTbu6r4L",
        "outputId": "ca937880-c01a-4121-d7c5-23e431b55f3d"
      },
      "execution_count": 33,
      "outputs": [
        {
          "output_type": "stream",
          "name": "stdout",
          "text": [
            "Looking in indexes: https://pypi.org/simple, https://us-python.pkg.dev/colab-wheels/public/simple/\n",
            "Collecting epitran\n",
            "  Downloading epitran-1.19-py2.py3-none-any.whl (160 kB)\n",
            "\u001b[K     |████████████████████████████████| 160 kB 4.2 MB/s \n",
            "\u001b[?25hRequirement already satisfied: setuptools in /usr/local/lib/python3.7/dist-packages (from epitran) (57.4.0)\n",
            "Requirement already satisfied: requests in /usr/local/lib/python3.7/dist-packages (from epitran) (2.23.0)\n",
            "Requirement already satisfied: regex in /usr/local/lib/python3.7/dist-packages (from epitran) (2019.12.20)\n",
            "Collecting unicodecsv\n",
            "  Downloading unicodecsv-0.14.1.tar.gz (10 kB)\n",
            "Collecting panphon>=0.19\n",
            "  Downloading panphon-0.20.0-py2.py3-none-any.whl (73 kB)\n",
            "\u001b[K     |████████████████████████████████| 73 kB 1.9 MB/s \n",
            "\u001b[?25hCollecting marisa-trie\n",
            "  Downloading marisa_trie-0.7.7-cp37-cp37m-manylinux_2_5_x86_64.manylinux1_x86_64.manylinux_2_12_x86_64.manylinux2010_x86_64.whl (1.2 MB)\n",
            "\u001b[K     |████████████████████████████████| 1.2 MB 52.8 MB/s \n",
            "\u001b[?25hRequirement already satisfied: numpy>=1.20.2 in /usr/local/lib/python3.7/dist-packages (from panphon>=0.19->epitran) (1.21.6)\n",
            "Collecting munkres\n",
            "  Downloading munkres-1.1.4-py2.py3-none-any.whl (7.0 kB)\n",
            "Requirement already satisfied: editdistance in /usr/local/lib/python3.7/dist-packages (from panphon>=0.19->epitran) (0.5.3)\n",
            "Requirement already satisfied: PyYAML in /usr/local/lib/python3.7/dist-packages (from panphon>=0.19->epitran) (3.13)\n",
            "Requirement already satisfied: idna<3,>=2.5 in /usr/local/lib/python3.7/dist-packages (from requests->epitran) (2.10)\n",
            "Requirement already satisfied: certifi>=2017.4.17 in /usr/local/lib/python3.7/dist-packages (from requests->epitran) (2022.5.18.1)\n",
            "Requirement already satisfied: urllib3!=1.25.0,!=1.25.1,<1.26,>=1.21.1 in /usr/local/lib/python3.7/dist-packages (from requests->epitran) (1.24.3)\n",
            "Requirement already satisfied: chardet<4,>=3.0.2 in /usr/local/lib/python3.7/dist-packages (from requests->epitran) (3.0.4)\n",
            "Building wheels for collected packages: unicodecsv\n",
            "  Building wheel for unicodecsv (setup.py) ... \u001b[?25l\u001b[?25hdone\n",
            "  Created wheel for unicodecsv: filename=unicodecsv-0.14.1-py3-none-any.whl size=10768 sha256=5578511a9fc5aaacef8f65b81af9fbc6d97e1ed1da27623f5f236de45a1a4319\n",
            "  Stored in directory: /root/.cache/pip/wheels/1a/f4/8a/a5024fb77b32ed369e5c409081e5f00fbe3b92fdad653f6e69\n",
            "Successfully built unicodecsv\n",
            "Installing collected packages: unicodecsv, munkres, panphon, marisa-trie, epitran\n",
            "Successfully installed epitran-1.19 marisa-trie-0.7.7 munkres-1.1.4 panphon-0.20.0 unicodecsv-0.14.1\n"
          ]
        }
      ]
    },
    {
      "cell_type": "code",
      "source": [
        "import epitran"
      ],
      "metadata": {
        "id": "ylFrHBVp6vsW"
      },
      "execution_count": 34,
      "outputs": []
    },
    {
      "cell_type": "code",
      "source": [
        "epi = epitran.Epitran('rus-Cyrl')"
      ],
      "metadata": {
        "id": "bsWtxu1D6z5z"
      },
      "execution_count": 35,
      "outputs": []
    },
    {
      "cell_type": "code",
      "source": [
        "def convert_to_ipa(epi, li):\n",
        "    epi_li_ipa = []\n",
        "    for elem in li:\n",
        "        conv2 = epi.transliterate(elem)\n",
        "        epi_li_ipa.append(conv2)\n",
        "    return epi_li_ipa"
      ],
      "metadata": {
        "id": "JkVvXHEl7CPj"
      },
      "execution_count": 36,
      "outputs": []
    },
    {
      "cell_type": "code",
      "source": [
        "epi_li_rus_ipa = convert_to_ipa(epi, li_985[0])"
      ],
      "metadata": {
        "id": "sHpD_MlB7QMz"
      },
      "execution_count": 37,
      "outputs": []
    },
    {
      "cell_type": "code",
      "source": [
        ""
      ],
      "metadata": {
        "id": "GWG1do0B74ri"
      },
      "execution_count": null,
      "outputs": []
    },
    {
      "cell_type": "code",
      "source": [
        "epi_li_rus_ipa[0]"
      ],
      "metadata": {
        "id": "OWox262wCVwi",
        "colab": {
          "base_uri": "https://localhost:8080/",
          "height": 37
        },
        "outputId": "890500b6-1604-467f-d6d6-e5902e4273b7"
      },
      "execution_count": 38,
      "outputs": [
        {
          "output_type": "execute_result",
          "data": {
            "text/plain": [
              "'navaɡejʂendror'"
            ],
            "application/vnd.google.colaboratory.intrinsic+json": {
              "type": "string"
            }
          },
          "metadata": {},
          "execution_count": 38
        }
      ]
    },
    {
      "cell_type": "code",
      "source": [
        "!git clone http://github.com/festvox/flite\n",
        "%cd flite/"
      ],
      "metadata": {
        "colab": {
          "base_uri": "https://localhost:8080/"
        },
        "id": "4DahIlrj9Df_",
        "outputId": "0ba0a850-91b7-4904-c6bf-aef88e9e04e3"
      },
      "execution_count": 39,
      "outputs": [
        {
          "output_type": "stream",
          "name": "stdout",
          "text": [
            "Cloning into 'flite'...\n",
            "warning: redirecting to https://github.com/festvox/flite/\n",
            "remote: Enumerating objects: 1020, done.\u001b[K\n",
            "remote: Counting objects: 100% (94/94), done.\u001b[K\n",
            "remote: Compressing objects: 100% (55/55), done.\u001b[K\n",
            "remote: Total 1020 (delta 45), reused 81 (delta 38), pack-reused 926\u001b[K\n",
            "Receiving objects: 100% (1020/1020), 19.82 MiB | 11.44 MiB/s, done.\n",
            "Resolving deltas: 100% (614/614), done.\n",
            "/content/fast_align/build/flite\n"
          ]
        }
      ]
    },
    {
      "cell_type": "code",
      "source": [
        "%cd /content/fast_align/build/flite"
      ],
      "metadata": {
        "colab": {
          "base_uri": "https://localhost:8080/"
        },
        "id": "ObkDu0D5-eWi",
        "outputId": "e20f0afd-b335-4ce5-a7e4-7e61dd51750c"
      },
      "execution_count": 40,
      "outputs": [
        {
          "output_type": "stream",
          "name": "stdout",
          "text": [
            "/content/fast_align/build/flite\n"
          ]
        }
      ]
    },
    {
      "cell_type": "code",
      "source": [
        "!./configure && make\n",
        "!sudo make install\n",
        "%cd testsuite\n",
        "!make lex_lookup\n",
        "!sudo cp lex_lookup /usr/local/bin"
      ],
      "metadata": {
        "id": "qkbtHxcr9blU"
      },
      "execution_count": null,
      "outputs": []
    },
    {
      "cell_type": "code",
      "source": [
        "epi2 = epitran.Epitran('eng-Latn')"
      ],
      "metadata": {
        "id": "WdxYrdAW9p8Q"
      },
      "execution_count": 42,
      "outputs": []
    },
    {
      "cell_type": "code",
      "source": [
        "ipa_li_epi = convert_to_ipa(epi2, li_985[1])"
      ],
      "metadata": {
        "id": "ckZFonU196oF"
      },
      "execution_count": 43,
      "outputs": []
    },
    {
      "cell_type": "code",
      "source": [
        "len(ipa_li_epi)"
      ],
      "metadata": {
        "colab": {
          "base_uri": "https://localhost:8080/"
        },
        "id": "Cj5mGHtTfiFg",
        "outputId": "88558766-64a4-42f4-93db-a6416ba11f3a"
      },
      "execution_count": 44,
      "outputs": [
        {
          "output_type": "execute_result",
          "data": {
            "text/plain": [
              "1999"
            ]
          },
          "metadata": {},
          "execution_count": 44
        }
      ]
    },
    {
      "cell_type": "code",
      "source": [
        "new_li_ipa = (ipa_li_epi, epi_li_rus_ipa)"
      ],
      "metadata": {
        "id": "nLRwWFww8PP6"
      },
      "execution_count": 45,
      "outputs": []
    },
    {
      "cell_type": "markdown",
      "source": [
        "# Counting cer"
      ],
      "metadata": {
        "id": "mIzHQ47iI7JM"
      }
    },
    {
      "cell_type": "code",
      "source": [
        "def get_cer(p):\n",
        "  errors = []\n",
        "  for i in range(len(p[0])):\n",
        "    true_text = p[0][i]\n",
        "    prediction = p[1][i]\n",
        "    if len(true_text) == len(prediction):\n",
        "        error = cer(true_text, prediction)\n",
        "        #print(type(error))\n",
        "        errors.append(error)\n",
        "    else:\n",
        "        errors.append('-')\n",
        "  return errors"
      ],
      "metadata": {
        "id": "3HHnSBQLIKHm"
      },
      "execution_count": 46,
      "outputs": []
    },
    {
      "cell_type": "markdown",
      "source": [
        "# creating list of english words with assumption that one word can actually be two\n",
        "## alignment with cer and phonetic distance from abydos"
      ],
      "metadata": {
        "id": "4eCtLt0FFYj-"
      }
    },
    {
      "cell_type": "code",
      "source": [
        "# 0: [0,1]       numbs_i = [0, 0, 3, 2, 5, 6, 6, 8, 11, 12]\n",
        "# 3:[2]          numbs_j = [0, 1, 2, 3, 4, 5, 6, 7, 9, 10]\n",
        "def group_by_ind(numbs_i, numbs_j):\n",
        "    di ={}\n",
        "    jis_li = []\n",
        "    for i, elem in enumerate(numbs_i):\n",
        "        if elem not in di:\n",
        "            jis_li = [numbs_j[i]]\n",
        "            #di[elem] = jis_li\n",
        "        else:\n",
        "            jis_li.append(numbs_j[i])\n",
        "        di[elem] = jis_li\n",
        "    return di    "
      ],
      "metadata": {
        "id": "mV3nS-6dFXrF"
      },
      "execution_count": 47,
      "outputs": []
    },
    {
      "cell_type": "code",
      "source": [
        "def check_eng_in_li(li):\n",
        "\tstr_li = ''.join(li)\n",
        "\treturn re.search(r'[a-z]', str_li)"
      ],
      "metadata": {
        "id": "cSL19bnYRbIO"
      },
      "execution_count": 48,
      "outputs": []
    },
    {
      "cell_type": "code",
      "source": [
        "def make_ipa(li_of_words, numb): #['в', 'unigine']\n",
        "    if not check_eng_in_li(li_of_words) and numb == 1:\n",
        "        return \n",
        "    else:\n",
        "        li_ipas = ''\n",
        "        for elem in li_of_words:\n",
        "            if re.search(r'[a-z]', elem):\n",
        "                conv = epi2.transliterate(elem)\n",
        "                li_ipas+= conv\n",
        "            else:\n",
        "                conv = epi.transliterate(elem)\n",
        "                li_ipas+= conv\n",
        "        return li_ipas  #vunidzaine"
      ],
      "metadata": {
        "id": "znfP7-WWRf14"
      },
      "execution_count": 49,
      "outputs": []
    },
    {
      "cell_type": "code",
      "source": [
        "print(make_ipa(['эген'], 2))"
      ],
      "metadata": {
        "colab": {
          "base_uri": "https://localhost:8080/"
        },
        "id": "xRUu6s3dbeM8",
        "outputId": "55ec03fa-d1ed-44a1-c989-a61f8bdf7c88"
      },
      "execution_count": 50,
      "outputs": [
        {
          "output_type": "stream",
          "name": "stdout",
          "text": [
            "eɡen\n"
          ]
        }
      ]
    },
    {
      "cell_type": "code",
      "source": [
        "# {0: [0, 1], 3: [2], 2: [3], 5: [4], 6: [5, 6], 8: [7], 11: [9], 12: [10]}\n",
        "# ['в', 'unigine', 'общие', 'настройки', 'доступны', 'вменю', 'windows', 'settings', 'в', 'разделе', 'runtime']\n",
        "def compare_inds_words(di, li_true, li_pred):\n",
        "    new_di_true = {}\n",
        "    #new_li_pred = {}\n",
        "    for key, value in di.items():\n",
        "        li_words= []\n",
        "        if len(value) == 1:\n",
        "            for x in value:\n",
        "                x = int(x)\n",
        "            #print(x, len(li_true), len(li_pred))\n",
        "            if re.search(r'[a-z]', li_true[x]):\n",
        "                new_di_true[li_pred[key]] = [li_true[x]]\n",
        "        if len(value) > 1:\n",
        "            for i in value:\n",
        "                #print(li_true[i])\n",
        "                li_words.append(li_true[i])\n",
        "            new_di_true[li_pred[key]] = li_words\n",
        "    return new_di_true"
      ],
      "metadata": {
        "id": "or82Q6EuRqJS"
      },
      "execution_count": 51,
      "outputs": []
    },
    {
      "cell_type": "code",
      "source": [
        "#numbs_i = [[0, 1, 2, 3, 4, 4, 6, 8, 8, 9, 10, 11, 12, 13, 14]]\n",
        "#numbs_j = [[0, 1, 2, 3, 4, 5, 6, 7, 8, 9, 10, 11, 12, 13, 14]]"
      ],
      "metadata": {
        "id": "ZdnnFHMeJncz"
      },
      "execution_count": null,
      "outputs": []
    },
    {
      "cell_type": "code",
      "source": [
        "numbs_i, numbs_j = preproc_985_conv[0], preproc_985_conv[1]"
      ],
      "metadata": {
        "id": "GbTkAN3WXAH-"
      },
      "execution_count": 52,
      "outputs": []
    },
    {
      "cell_type": "code",
      "source": [
        "#st = 'в материл три обновили гайдлайны паи компонентам к нопкам чипам диалогам карточкам и панели навигации'\n",
        "#tt = st.split(' ')\n",
        "\n",
        "#st2 = 'в material 3 обновили гайдлайны по ui компонентам кнопкам чипам диалогам карточкам и панели навигации'\n",
        "#tt2 = st2.split(' ')"
      ],
      "metadata": {
        "id": "rGLHtRGE-Lnk"
      },
      "execution_count": null,
      "outputs": []
    },
    {
      "cell_type": "code",
      "source": [
        "#li_pred = [[tt]]\n",
        "#li_true = [[tt2]]"
      ],
      "metadata": {
        "id": "F8vEpkwf-Dsd"
      },
      "execution_count": null,
      "outputs": []
    },
    {
      "cell_type": "code",
      "source": [
        "#li_pred, li_true = lis[2], lis[3]"
      ],
      "metadata": {
        "id": "Mo_caXXlfHRI"
      },
      "execution_count": null,
      "outputs": []
    },
    {
      "cell_type": "code",
      "source": [
        "with open('/content/fast_align/build/preproc_985.ru-ru') as f5:\n",
        "    read = f5.readlines()\n",
        "    li_pred = []\n",
        "    li_true = []\n",
        "    for elem in read:\n",
        "        #print(elem.split('|||')[1].split())\n",
        "        li_pred.append(elem.split('|||')[0].split())\n",
        "        li_true.append(elem.split('|||')[1].split())"
      ],
      "metadata": {
        "id": "7cl3mjT1xcHj"
      },
      "execution_count": 53,
      "outputs": []
    },
    {
      "cell_type": "code",
      "source": [
        "li_true[10]"
      ],
      "metadata": {
        "id": "glSGcX3-x04b"
      },
      "execution_count": null,
      "outputs": []
    },
    {
      "cell_type": "code",
      "source": [
        "numbs_i[0]"
      ],
      "metadata": {
        "colab": {
          "base_uri": "https://localhost:8080/"
        },
        "id": "_UoOGDIig3Nw",
        "outputId": "b5397528-db22-4a29-e6a6-6ff511af5e47"
      },
      "execution_count": null,
      "outputs": [
        {
          "output_type": "execute_result",
          "data": {
            "text/plain": [
              "[0, 0, 1, 2, 3]"
            ]
          },
          "metadata": {},
          "execution_count": 94
        }
      ]
    },
    {
      "cell_type": "code",
      "source": [
        "numbs_j[0]"
      ],
      "metadata": {
        "colab": {
          "base_uri": "https://localhost:8080/"
        },
        "id": "cEp_mviFg77D",
        "outputId": "72e37f75-60d3-4d80-bb99-cb661fc0e2ff"
      },
      "execution_count": null,
      "outputs": [
        {
          "output_type": "execute_result",
          "data": {
            "text/plain": [
              "[0, 1, 2, 3, 4]"
            ]
          },
          "metadata": {},
          "execution_count": 95
        }
      ]
    },
    {
      "cell_type": "code",
      "source": [
        "!git clone https://github.com/chrislit/abydos.git --recursive\n",
        "%cd abydos\n",
        "!python setup install"
      ],
      "metadata": {
        "id": "RFg8KDlQpSeR",
        "colab": {
          "base_uri": "https://localhost:8080/"
        },
        "outputId": "0f2bad9b-2d27-4630-8460-b91a7a0bde36"
      },
      "execution_count": 54,
      "outputs": [
        {
          "output_type": "stream",
          "name": "stdout",
          "text": [
            "Cloning into 'abydos'...\n",
            "remote: Enumerating objects: 34947, done.\u001b[K\n",
            "remote: Counting objects: 100% (4356/4356), done.\u001b[K\n",
            "remote: Compressing objects: 100% (589/589), done.\u001b[K\n",
            "remote: Total 34947 (delta 3768), reused 4329 (delta 3758), pack-reused 30591\u001b[K\n",
            "Receiving objects: 100% (34947/34947), 51.88 MiB | 10.36 MiB/s, done.\n",
            "Resolving deltas: 100% (27992/27992), done.\n",
            "Submodule 'tests/regtests' (https://github.com/chrislit/abydos-regtests.git) registered for path 'tests/regression'\n",
            "Cloning into '/content/fast_align/build/flite/testsuite/abydos/tests/regression'...\n",
            "remote: Enumerating objects: 1129, done.        \n",
            "remote: Counting objects: 100% (59/59), done.        \n",
            "remote: Compressing objects: 100% (27/27), done.        \n",
            "remote: Total 1129 (delta 30), reused 46 (delta 25), pack-reused 1070        \n",
            "Receiving objects: 100% (1129/1129), 103.26 MiB | 15.81 MiB/s, done.\n",
            "Resolving deltas: 100% (465/465), done.\n",
            "Submodule path 'tests/regression': checked out '94fd925e22c6bfde0ee7e26df4c2e301e956a148'\n",
            "/content/fast_align/build/flite/testsuite/abydos\n",
            "python3: can't open file 'setup': [Errno 2] No such file or directory\n"
          ]
        }
      ]
    },
    {
      "cell_type": "code",
      "source": [
        "!pip install abydos"
      ],
      "metadata": {
        "id": "7_t3YI2LpSeS",
        "colab": {
          "base_uri": "https://localhost:8080/"
        },
        "outputId": "88b7244c-4543-4bed-a841-f6f268508ce3"
      },
      "execution_count": 55,
      "outputs": [
        {
          "output_type": "stream",
          "name": "stdout",
          "text": [
            "Looking in indexes: https://pypi.org/simple, https://us-python.pkg.dev/colab-wheels/public/simple/\n",
            "Collecting abydos\n",
            "  Downloading abydos-0.5.0-py2.py3-none-any.whl (886 kB)\n",
            "\u001b[K     |████████████████████████████████| 886 kB 3.2 MB/s \n",
            "\u001b[?25hRequirement already satisfied: numpy in /usr/local/lib/python3.7/dist-packages (from abydos) (1.21.6)\n",
            "Collecting deprecation\n",
            "  Downloading deprecation-2.1.0-py2.py3-none-any.whl (11 kB)\n",
            "Requirement already satisfied: packaging in /usr/local/lib/python3.7/dist-packages (from deprecation->abydos) (21.3)\n",
            "Requirement already satisfied: pyparsing!=3.0.5,>=2.0.2 in /usr/local/lib/python3.7/dist-packages (from packaging->deprecation->abydos) (3.0.9)\n",
            "Installing collected packages: deprecation, abydos\n",
            "Successfully installed abydos-0.5.0 deprecation-2.1.0\n"
          ]
        }
      ]
    },
    {
      "cell_type": "code",
      "source": [
        "from abydos.phonetic import *\n",
        "from abydos.distance import *"
      ],
      "metadata": {
        "id": "kpIinqJKpSeS"
      },
      "execution_count": 56,
      "outputs": []
    },
    {
      "cell_type": "code",
      "source": [
        "cmp = PhoneticEditDistance()"
      ],
      "metadata": {
        "id": "Ez4afYDXpSeS"
      },
      "execution_count": 57,
      "outputs": []
    },
    {
      "cell_type": "code",
      "source": [
        "import re\n",
        "li_words_true_ipa = []\n",
        "li_words_pred_ipa = []\n",
        "di_inds =[]\n",
        "for i3 in range(len(numbs_i)):\n",
        "    di_inds.append(group_by_ind(numbs_i[i3], numbs_j[i3]))\n",
        "#print(di_inds)\n",
        "for i4 in range(len(li_true)):\n",
        "    #print(li_true[i4], li_pred[i4], di_inds[i4], numbs_j[i4], numbs_i[i4])\n",
        "    di_words_eng = compare_inds_words(di_inds[i4], li_true[i4], li_pred[i4])\n",
        "    #print(di_words_eng)\n",
        "    for key, value in di_words_eng.items():\n",
        "        #print(key)\n",
        "        li_words_true_ipa.append(make_ipa(value, 1))\n",
        "        li_words_pred_ipa.append(make_ipa([key], 2))\n",
        "cer_for_assumped =[]\n",
        "#print(li_words_true_ipa)\n",
        "print(li_words_pred_ipa)\n",
        "for k in range(len(li_words_pred_ipa)):\n",
        "    if li_words_true_ipa[k] != None: \n",
        "        cer_for_assumped.append(round(cer(li_words_pred_ipa[k], li_words_true_ipa[k]), 3))\n"
      ],
      "metadata": {
        "colab": {
          "base_uri": "https://localhost:8080/"
        },
        "id": "aIHJBD_OQAl4",
        "outputId": "88863cf2-e228-4445-c65a-d02f523e310e"
      },
      "execution_count": 58,
      "outputs": [
        {
          "output_type": "stream",
          "name": "stdout",
          "text": [
            "['navaɡejʂendror', 'nevaɡej', 'ʂinba', 'botom', 'nevaɡejʂin', 'matʲirʲil', 'androitunifʲit͡sirovalʲi', 'vʲid', 'navaɡejʂenrʲejl', 'vandrued', 'juzov', 'rʲendlʲi', 'polnoekrannɨm', 'naikranax', 'ɡuɡol', 'daj', 'nemʲik', 'matʲerʲial', 'matʲerʲial', 'dʲizajnandroet', 'elʲivʲejʂno', 'elovɨjtʲit', 'fɨlt', 'aut-lʲejnd', 'elʲivʲejʂn', 'adaptʲerɨ-kvalʲifʲit͡sirovannɨmʲi', 'odnovrʲemʲennɨx', 'idʲevʲe', 'dʲipʲi', 'z', 'vosʲemnadt͡satʲi', 'fʲep', 'floutʲinɡ', 'ekʂenbatʲen', 'ekstʲendʲit', 'kolor', 'mʲeponu', 'vsʲex', 'matʲerʲial', 'dajnɨe', 'mʲeɡkalo', 'matʲerʲil', 'ɡajdlajnɨ', 'komponentam', 'nopkam', 'stʲilʲitʲ', 'samʲelʲ', 'i', 'd͡ʒetpo', 'kompoz', 'sʲist', 'asʲist', 'fɨlta', 'input', 'sad͡ʒesʲen', 'fʲep', 'flata', 'sad͡ʒest͡ɕʲen', 'adrʲesa', 'tʲekstovoɡo', 'v', 'dannɨe', 'input', 'fɨlto', 'novɨe', 'veentʲe', 'fʲep', 'ekstʲendʲet', 'kvadratnɨmʲi', 'kontʲejna', 'prajmʲerʲi', 'tʲeorʂierʲi', 'on', 'novɨj', 'tʲiplard͡ʒe', 'novɨe', 'fʲep', 'uɡlamʲi', 'fɨllt', 'fɨl', 'tolnul', 'elovɨjtʲit', 'autlʲejnd', 'fɨllt', 'prajmʲerʲi', 'sʲekundʲerʲi', 'tʲeorʂierʲi', 'fɨl', 'tolnul', 's', 'kontʲejna', 'i', 'vɨjtʲit', 'buk', 'sʲentons-kʲej', 'bʲelɨe', 'sozdaet', 'dvʲenadt͡satʲ', 'molnɨj', 'end͡ʒim', 'sʲitkalo', 'i', 'ɡuɡol', 'matʲerʲil', 'ju', 'dajnemʲe', 'kala', 'matʲerʲial', 'trʲi', 't͡svʲet', 'kontʲejnovarʲiat͡sij', 'on', 'floutʲinɡ', 'ekʂenbatan', 'trʲi', 'fona', 'ot͡svʲet', 'rʲekontʲejna', 'sʲitkala', 'matʲerʲial', 'vʲid͡ʒeta', 'vondroe', 'konfomʲejʂen', 'dailok', 'juiks', 'rajtʲen', 'vo-pʲervɨx', 'iz-za', 'ik', 'pʲerʲevodt͡ɕʲikʲi', 'ene', 'ʂu', 'ovka', 'itʲi', 'polustʲe', 'dstʲemps', 'iʂʲː', 'pʲersʲa', 'lɨʂu', 'enol', 'tʲiʂu', 'ovzʲenusbʲejpo', 'ej', 'sʲervʲer', 'vozdalʲitot', 'ɡovorʲit', 'r', 'zasʲervʲer', 'vozdalʲi', 'ɡovorʲit', 'sʲervʲer', 'ej', 'sʲervʲer', 'jer', 'juzo', 'tak', 'saksʲess', 'vlʲensʲeksʲessvalʲi', 'opʲisaniu', 'ustanovʲilasʲ', 'trʲi', 'saksʲessvolɨ', 'an', 'krasovt', 'stail', 'ɡuɡol', 'dʲevʲelo', 'dokʲimʲentʲejʂenstajlɡajt', 'plʲis', 'juiks', 'ɡui', 'klʲi', 'opʲi', 'jazɨkom', 'i', 'juiks', 'nej', 'ilʲi', 'tʲernun', 'vʲert͡ɕʲel', 'maʂin', 'vobʂen', 'klʲin', 'emptʲe', 'po-raznomu', 'storʲit', 'storʲid͡ʒpoint', 'ʒspʲejs', 'storʲit͡ɕʲ', 'dʲevajs', 'i', 'nuut', 'russkoɡo', 'xranilʲiɕːa', 'storʲid͡ʒ', 'moʒem', 'napʲisatʲ', 'istorʲii', 'ʒdustarad͡ʒe', 'starad͡ʒes', 'kʲembrʲit͡ɕʲʒ', 'dʲikʂenerʲi', 'kaunto', 'bɨl', 'ankauna', 'sʲiorʲu', 'kanfomʲej', 'dailok', 'juiks-pʲisatʲelʲ', 'ni', 'juiks', 'rʲipʲer', 'kʲidfʲiɡ', 'stolɨsʲu', 'sɨtkut', 'plʲiskantat', 'or', 'sʲervʲis', 'provajda', 'dostavlʲaem', 'plʲis', 'slut͡ɕʲaax', 'zʲelajson', 'skʲixsekspaert', 'vstatʲe', 't͡ɕʲto-to', 'konfomʲejʂin', 'dailok', 't͡ɕʲto-to', 'konfomʲejʂin', 'dailok', 'ut', 'juik', 'prouik', 'srajtʲem', 'juiks', 'dʲejtot', 'zʲeprofajl', 'ut', 'juiks', 'ɡajdɨ', 'obxodʲitʲsʲa', 'zaloɡa', 'nout', 'zaloɡii', 'juiks', 'trʲexkʲitax', 'juiks', 'spʲet͡sialʲist', 'stailɡajdov', 'juiks', 'rajtʲen', 'juik', 'rajtʲem', 'jurʲiɡs', 'juiks', 'rʲedaktʲiruem', 'kollʲeɡ', 'plʲesk', 'intʲerfʲejsʲeplʲesk', 'pokazatʲelʲen', 'prot͡sentov', 'uvʲelʲit͡ɕʲitʲ', 'klʲekabʲelʲnostʲi', 'xostkʲe', 'tɨsʲat͡ɕʲi', 'tɨsʲat͡ɕʲ', 'sʲervɨr', 'kanf', 'tʲisʲi', 'dlʲa', 'v', 'sxodnoj', 'ispolʲzovaniem', 'fmpʲek', 'sʲervar', 'okartnvʲidʲe', 'invʲenɡ', 'nabora', 'razrabot͡ɕʲik', 'invʲenɡdʲe', 'vpʲek', 'ɡopʲen', 'vʲidʲe', 'xopatt͡ɕʲe', 'uvʲerʲenɨne', 'i', 'dalʲee', 'tʲekst', 'juiks', 'd͡ʒefors', 'dʲevʲanosto', 'ɡapɨana', 'na', 'a', 'vɨxodʲe', 'protokolstv', 'kapania', 'ɡodʲitsʲa', 'iz-za', 'juiɡs', 'po-anɡlʲijskʲi', 'nilsom', 'norman', 'ɡrupp', 'xvostostva', 'sto', 'dʲevʲanosto', 'tɨsʲat͡ɕʲi', 'bʲez', 'tɨsʲat͡ɕʲa', 'vosʲemʲdʲesʲa', 'd͡ʒefors', 'tɨsʲat͡ɕʲa', 'nessamostotʲelʲno', 'fmpʲek', 'ertʲeiks', 'opʲeratʲivnoj', 'd͡ʒetpo', 'matʲerʲil', 'matʲerʲil', 'juɡajdlajnɨ', 'matʲerʲial', 'dʲizajnkom', 'androet', 'matʲerʲial', 'ju', 'opʲi', 's', 'v', 'matʲerʲiil', 'dʲizainkom', 'nimʲi', 'druɡix', 'platformax', 'd͡ʒetpkopoz', 'vsʲestoronnie', 'sandroj', 'potokov', 'kartoj', 'ɡepʲea', 'iz-za', 'ɡrovɨe', 'nvʲidʲe', 'ispolʲzovatʲ', 'kopai', 'ɡopaa', 'fmpʲek', 'ubuntu', 'tɨsʲat͡ɕʲa', 'd͡ʒefors', 'i', 'ertʲeiks', 'fpa', 'st͡ɕʲet', 'sʲervʲerov', 'stavku', 'na', 'apparatnoe', 'nanvʲidʲenvʲen', 'transkadʲirovanie', 'vʲep', 'dvʲenadt͡satʲ', 'androi', 'ɡuɡol', 'ɡajdlajnɨ', 'ʂinba', 'nevoɡejʂenrʲejl', 'ɡejʂen-rʲejl', 'nevaɡej', 'ʂinba', 'storonɨ', 'lʲevoj', 'v', 'aktʲivʲitʲi', 'proʒivotnɨx', 'prokonejɡe', 'flʲej', 'pakʲed͡ʒnee', 'vo-pʲervɨx', 'ajdʲi', 'pokʲid͡ʒneem', 'pʲekʲid͡ʒneem', 't͡ɕʲeɡo', 'rʲebʲuld', 'dʲebak', 'ene', 'bʲil', 'bʲilt', 'solʲekt', 'bʲiltvʲerʲens', 'bʲilt', 'rʲebʲilt', 'prod͡ʒekt', 'bʲil', 'ɡrʲedʲel', 'mod͡ʒel', 'flʲeevo-dajmʲenʂins', 'naʂi', 'flʲejvos', 'flʲeevos', 'obʲjavlʲaem', 'flʲejvos', 'enimal', 'fʲiʂ', 'fʲiɡma', 'prod͡ʒe', 'tajdʲi', 'fʲiɡma', 'fʲiɡma', 'bazovɨe', 'aksʲestolkon', 'dostupa', 'zaprosov', 'apʲifʲiɡma', 'ran', 'fʲiɡma', 'konvʲiort', 'tokʲin', 'aksʲestolkon', 'konvʲevortksʲip', 'okauntov', 'fʲiɡma', 'bʲil', 'tajps', 'flʲejvɨ', 'razrabotkʲe', 'enemol', 'vʲektʲer', 'lʲejrs', 'krʲeetkom', 'polnet', 'vmʲesto', 's', 'lʲinii', 'ispolʲzovatʲ', 'prʲimouɡolʲnik', 'i', 't͡ɕʲtobɨ', 'obʲjektɨ', 'p', 'rʲejs', 'lʲeeu', 'rʲezalt', 'aj-os', 'androet', 'ksʲemelʲ', 'androe', 'dʲivʲelopo', 'bʲildflʲejvos', 'ɨsmʲin', 'iakʂelʲibʲeta', 'jukʲenbʲi', 'konfʲidʲenetɨt', 'entnotpoformʲen', 'ba', 'duturʲendom', 'ʂans', 'vsʲeɡo', 'tʲekst', 'pʲerʲedʲelɨvatʲ', 't͡ɕʲaɕːe', 'tolʲko', 'ne', 'juiks', 'obʂin', 'nɨz', 'formʲin', 'fant͡sis', 'ndzʲedʲi', 'prot͡sentɨ', 'lajklʲi', 'tubʲi', 'statʲistʲikalʲi', 'sʲiɡnifʲikant', 'vodʲitʲe', 'bʲiznesa', 'kran', 'polʲezno', 'provʲestʲi', 'ejbʲitʲistʲirovanie', 'saksʲesfolɨrʲeʒit', 'druɡ', 'juiks', 'odobrʲennɨj', 'i', 'ʂiroko-prʲiznannɨe', 'etoj', 'juiks', 'rajtʲen', 'fʲiɡma', 'sʲipɨk', 'i', 'skoud', 'androe', 'stʲudʲio', 'tʲeknikolrajta', 'konvʲeort', 'fʲiɡma', 'solla', 'ebʲitʲestʲirovania', 'lʲubom', 'v', 'otkrɨtʲij', 'i', 'dʲeneɡ', 'nout', 'putaet', 'iemdʲeʂ', 'otlʲit͡ɕʲie', 'jemdʲeʂ', 'jestʲ', 'endʲeʂ', 'st͡senarʲia', 'poslʲe', 'vo-vtorɨx', 'jem', 'dʲeʂ', 'xajfan', 'sputatʲ', 'sʲendʲeʂ', 'jukʲendu', 'ni', 'ovzʲe', 'folovʲinɡ', 'bajuzʲin', 'zaopʲi', 'punktɨ', 'vɨ', 'ispolʲzuetʲe', 'ne', 't͡ɕʲtobɨ', 's', 'spʲiska', 'pravʲilo', 'kont͡se', 'tot͡ɕʲka', 'to', 'aksfatkama', 'dʲefʲis', 'ilʲiandʲeʂ', 'utot͡ɕʲnitʲe', 'bɨlo', 'moʒno', 'ib', 'dosʲiɡnablʲes', 'ibɨdʲesʲiɡnablʲes', 'urovne', 'fʲiɡma', 'vozmoʒnostʲax', 'v', 'fʲiɡma', 'sodʲerʒit', 'massʲiv', 'zapolnitʲelʲej', 'odnoɡo', 'rassmatrʲivatʲ', 'jukʲita', 'iz', 'odnomu', 'jeslʲi', 'no', 'fʲiɡma', 'tʲekst', 'jukʲet', 'os', 'eto', 'ɡrupp', 'v', 'i', 'tʲipɨ', 'kotorɨe', 'jukʲita', 't͡svʲet', 'ɡrodʲient', 'massʲiv', 'etoɡo', 'i', 'jukʲet', 'ispolʲzujtʲe', 'vo-pʲervɨx', 'imdʲeʂ', 'parallʲelʲnɨe', 'takʒe', 'kak', 'eto', 'ilʲi', 'odnoɡo', 'prʲedloʒenij', 'imʲeut', 'prʲivʲestʲi', 'tʲekst', 'stadʲi', 'for', 'ekzampul', 'tak', 'ɡuɡol', 'dʲivʲelo', 'dokʲumantʲejʂin', 'stail', 'jtʲi', 'sʲinee', 'ent͡so', 'on', 'nout', 'tʲisʲej', 'vsʲe', 'oni', 'ɡajdɨ', 'ubʲiratʲ', 'i', 'ut', 'ispolʲzovatʲ', 'instans', 'dni', 'sʲinɡela', 'ɡendʲerno-nejtralʲnoɡo', 'xajfan', 'soedʲinatʲ', 'slova', 'doɡ', 'frʲendlʲi', 'klʲiirkat', 'obtudʲeet', 'infomʲejʂen', 'kompountvort͡s', 'nuʒa', 'endʲeʂ', 'm', 'jem', 'dʲeʂ', 'endʲeʂ', 'sʲinɡlʲi', 'lazʲej', 't͡ɕʲetɨrnadt͡satom', 'kakoe-to', 'nuut', 'zanavoas', 'sʲin', 'ɡɨlazʲej', 'drʲjtʲen', 'p', 'sʲinɡoj', 'lazʲej', 'opʲisa', 'kkʂ', 'krʲiejto', 'plʲejso', 'pdait', 'dʲelʲit', 'dʲisklʲejma', 'sʲinɡell', 'tot͡ɕʲno', 'juik', 'juzo', 't͡ɕʲislo', 'korotkomʲistojmʲenie', 'sʲinɡilɨ', 'proizvodnɨe', 'r', 'v', 'ɡendʲerno', 'ivʂij', 'juzo', 'prʲifʲiors', 'ta', 'zʲuzo', 't͡ɕʲem', 'sʲinɡil', 'vʲeprʲifʲior', 'jestʲ', 'sʲinɡɨj', 'lazʲej', 'i', 'fʲuza', 'rʲefʲiksʲij', 'dbaj', 'obratʲitʲsʲa', 'nuʒno', 'jedʲinstvʲennoɡo', 't͡ɕʲisla', 'iea', 'im', 'dʲeʒ', 'dvoitot͡ɕʲia', 'dobra', 'xajfon', 'endʲeʂ', 'jemdʲeʂ', 'im', 'dʲeʂ', 'azʲer', 'panɡt͡ɕʲuvʲejʂen', 'vul', 'bʲi', 'okvat', 'ɡrʲemolʲi', 'plʲeskk', 'stʲenʂins', 'plʲeskok', 'stʲenʂins', 'kost', 'bʲene', 'fʲetonelʲisʲes', 'inkludʲin', 'btn', 'lʲimʲeta', 'tʲekst', 'klʲi', 'opʲi', 'plʲesk', 'ispolʲzovat', 'mʲestoimʲenie', 'kotʲikom', 'kʲem', 'astoɡo', 'odmʲina', 'strʲejto', 'imʲenie', 'toʒe', 'juiks', 'bʲerʲitʲek', 'prʲedlaɡaem', 'eksprʲess', 'posʲebʲilotʲi', 'ʂut', 'juiks', 'plʲeskoj', 'mɨlsʲikʲiurʲitʲe', 'ʂut', 'ʂut', 'juiks', 'juraa', 'kofʲen', 'ejlot', 'juʂu', 'sʲej', 'doktor', 'dumatʲ', 'vajtlʲist', 'i', 'blʲeklʲist', 'ɡrʲelʲist', 't͡sennostʲi', 'pasoran', 'lʲitvornoɡo', 'imot͡si', 'dʲelatʲ', 'kostbʲenefʲetonelʲisʲis', 'nuama', 'navʲernoe', 'koɡda-nibudʲ', 'srabotatʲ', 'moʒet', 'mastʲer', 'slʲejv', 'vajtlʲist', 'blʲeklʲist', 'ɡrʲelʲist', 'mej', 'ajxʲelp', 'sʲel', 'tusamorfut', 'jeso', 'kors', 'jeu', 'moe', 'tʲekstʲe', 'erʲida', 'moi', 'boro', 'obtusʲitʲ', 'sbuk', 'etɨni', 'vontajm', 'dajtʲelʲi', 'ofʲit͡sialʲno-dʲelovom', 'formal', 'ʂut', 'majmaet', 't͡ɕʲto-to', 'mast', 'prʲedloʒitʲ', 'ispolʲzujtʲe-ken', 'poslʲedstvʲia', 'jestʲ', 'vʲillolsoudʲilʲitlɨt͡sdʲejto', 'ent', 'kontrols', 'knopko', 'konfomʲejʂen', 'dailok', 'krane', 'jes', 'dʲelʲit', 'ukʲej', 'nou', 'kʲip', 'kʲensʲel', 'knopa', 'knsʲel', 'juik', 'konfomʲejʂen', 'dailoks', 'somneniem', 'voobɕːenie', 'juiksrajtʲe', 'proanɡlʲijskʲij', 's', 'ilʲi', 'v-trʲetʲix', 'oposlʲedstvʲia', 'duu', 'vont', 'vʲiʂʲː', 'arʲjuʂur', 'dʲelʲit', 'moi', 'lʲekut', 'nazvaniax', 'net', 'prot͡sedurɨ', 'tʲeksta', 'obvʲinenie', 'mʲestu', 'ilʲi', 'plʲus', 'javlʲaetsʲa', 'tak', 'kʲinarad', 'kniɡimʲi', 'soobɕːenie', 'krokopʲi', 'zɨkomplʲitɡaet', 'nadʲeemsʲa', 'ojʂe', 'dajloks', 't͡ɕʲto', 'vsʲe-takʲi', 'toj', 'juxʲef', 'spʲesovojtnotʲej', 'fulɨmʲijl', 'edrʲes', 'vzoprovodʲit', 'lod͡ʒen', 'snotʲej', 'ilʲi', 'vosprovojdʲe', 'traj', 'eɡen', 'orpʲesvʲert', 'orrʲikavor', 'okoʂka', 'inkʲekt', 'juzɨ', 'neim', 'orpʲesvʲert', 'vaned͡ʒina', 'pomoɕːi', 'utklon', 'faba', 'ilʲi', 'v', 'ɡejm', 'obd͡ʒekt', 'obd͡ʒektʲenstʲenʂejt', 'junitʲe', 'sʲirʲeʂetka', 'sʲid͡ʒi', 'mandlʲit͡ɕʲ', 'stʲudʲi', 'nat͡ɕʲatʲ', 'portfolʲia', 'artstaʂin', 'sasoetʲe', 'rastaetʲesʲ', 'i', 'kak', 't͡ɕʲtobɨ', 'ona', 'trʲex', 'vʲizualʲnoɡo', 'nu-jorkʲe', 'molʂin', 'kolʲid͡ʒe', 'dʲizajner', 'fʲerarʲiv', 'edʲeks', 'ralʲ', 'florʲen', 'tʲiorɡot', 'na', 'molʂin', 'dʲizajn', 'blʲendʲer', 'soobɕːestva', 'kanalɨ', 'i', 'ɡrʲefʲiks', 'mauʂin', 'savtrɨfʲekt͡s', 'molʂindʲizajn', 'prʲemʲir', 'for', 'ɡrupp', 'fota', 'mouʂindʲizajn', 't͡ɕʲetɨrʲe', 'sʲinoma', 'dʲi', 'ʂep', 'ɡoda', 'nuʒen', 'topʲeratʲivkʲi', 't͡ɕʲetɨrʲe', 'ɡiɡobajtaɡepa', 'prʲemʲir', 'dolbʲi', 'fotoʂop', 'avtorɨfʲekt͡s', 'proobrazovanie', 'junitʲe', 'zvuk', 'audʲia', 've', 'eka', 'molʂin', 'maj', 'ɡejms', 'prodoxod', 'molʂin', 'v', 'sostavlʲaet', 'dollarov', 'kʲej', 'vʲer', 'dolbʲi', 'avtorɨfʲekt͡s', 'aporoj', 'ʒivʲitʲ', 'mouʂen', 'molʂin', 'stoojtʲi', 'dʲisnɨj', 'tamo', 'uʂandʲizajne', 'intʲervʲu', 'dʲizajneramʲi', 'zʲefʲerʲi', 'end', 'prʲeɡtʲisov', 'molʂan', 'dʲizajn', 'brain', 'stoun', 'krolʲiko', 'animat͡sii', 'kompʲutʲernɨx', 'mʲetodɨ', 'trʲi', 'kompʲutʲernɨx', 'trʲadʲe', 'sʲinoma', 't͡ɕʲetɨrʲe', 'bʲesplatnoe', 'dvadʲii', 'ɡrafʲikʲi', 'jutʲu', 'maa', 'blʲendʲer', 'plaɡinɨ', 'mauʂin', 'ɡenialʲnɨe', 'po', 'avtorɨfʲekt͡s', 'mouʂen', 'ɡrʲefʲiks', 'dlʲa', 'molʂindʲizajn', 'prʲedpot͡ɕʲitaut', 'uvʲelʲit͡ɕʲivatʲ', 'studʲia', 'molʂin', 'populʲarnostʲi', 'po', 'prot͡senta', 'ustupaa', 'vʲedʲa', 'dʲevʲatʲ', 'trʲidʲe', 'sʲinoma', 'dʲe', 'mʒnov', 'krʲeitʲe', 'vklaud', 'doubʲi', 'prʲiloʒeniamʲi', 'dʲea', 'meks', 'maarʲi', 't͡ɕʲetɨrʲe', 'dʲej', 'sʲistʲemamʲi', 'takʲimʲi', 'evo-tmʲedʲi', 'kompouzr', 'fajnel', 'kodpro', 'iks', 'dolbʲi', 'fotoʂek', 'svʲazʲi', 'savtrɨfʲekt͡s', 'rolʲax', 'ɡorʲila', 'dolɡi', 'prʲemʲir', 'pro', 'sʲinam', 't͡ɕʲetɨrʲe', 'fʲekt͡s', 'ila', 'fotaʂop', 'prʲemʲir', 'sʲinoma', 'dʲi', 'maa', 'fajnel', 'kotpro', 'sozdania', 'do', 'zadaniu', 'xatot͡ɕʲkoru', 'otsta', 'dobʲij', 'ilastrʲejta', 'epol', 'nat͡ɕʲalo', 'na', 'mouʂin', 'v', 'to', 't͡ɕʲetɨrʲe', 'dʲiza', 'i', 'prostotu', 'ɡibkostʲ', 'prʲiintʲeɡrat͡sii', 'soavtorʲefʲek', 'molʂin', 'vzavʲisʲimostʲi', 'kompʲutʲer', 'd͡ʒenejtʲi', 'imʲed͡ʒrʲi', 'mouʂ', 'morʲiko', 'izut͡ɕʲitʲ', 'mouʂindʲizajn', 'dolbʲi', 'sʲinoma', 'dʲi', 'blʲendʲer', 'vʲidʲeusmail', 'ɡrʲiskolo', 'rʲedʲe', 'ei', 'tʲup', 'ɡejm', 'junetʲe', 'transform', 'vaned͡ʒinɨ', 'mt', 'pomoɕːi', 'klasa', 'taem', 'dʲelʲ-to', 'vʲiʒevalai', 'ʂel', 'vʲiʒevalaiz', 'opʲi', 'vʲiʒevoloiza', 'vaned͡ʒinɨ', 'junitʲe', 'isxodnɨj', 'sʲirʲeʂetka', 'lootsʲin', 'orsʲinnejm', 'kot', 'ned͡ʒine', 'mʲiʂrʲendo', 'bo', 'klajda', 'transform', 'not', 'proizvodnɨmʲi', 'statʲik', 'daunkostʲenk', 'd͡ʒineskrʲipt', 'sors', 'kont͡sol', 'monatoj', 'erʲel', 'ilʲi', 'roman', 'zamʲene', 'ix', 'erʲil', 'taem', 'xʲelvʲetʲika', 'i', 'kompania', 'monatʲeb', 'junitʲe', 'prʲiblʲizʲitʲelʲnɨe', 'voned͡ʒinɨ', 'aned͡ʒine', 'junitʲe', 'pʲerʲexoda', 'aned͡ʒino', 'trʲedɨa', 'sʲim', 'ind͡ʒenirʲen', 'ned͡ʒinekom', 'vʲar', 'ɡejm', 'kolajda', 'v', 'rʲekastʲinɡe', 'voned͡ʒine', 'intʲesʲekʂens', 'ned͡ʒine', 'dva', 'kontrol', 'pʲerʲesʲet͡ɕʲenij', 'junitʲe', 'fʲizʲiks', 'rʲejkost', 'aned͡ʒina', 'staroɡo', 'sʲirʲeʂetka', 'skrʲipt', 'trʲidʲe', 'dʲek', 'brauzʲerdʲek', 'sʲempols', 'nalʲid͡ʒ', 'dopolneniem', 'etans', 'vaned͡ʒina', 'ned͡ʒine', 'dʲek', 'brauza', 'vʲearɡernitur', 'plad͡ʒins', 'otrʲidʲe', 'okʲej', 'vʲiarustroit', 'sʲirʲeʂetka', 'pʲatʲ', 'opʲi', 'plʲusajt', 'vorl', 'iɡrovoj', 'junitʲe', 'ned͡ʒine', 'tonkontrol', 'fʲizʲikol', 'fʲizʲikol', 'popadaut', 'vorl', 'vnutrʲilʲi', 'vaned͡ʒin', 'trʲiɡor', 'sʲituat͡siax', 'klajda', 'junitʲe', 'eksprʲeʂen', 'rʲeet', 't͡ɕʲem', 'eksprʲeʂen', 'jae', 'polnot͡sennɨj', 'iɕːetʲe', 'junitʲe', 'end͡ʒen', 'zamʲeɕːeniu', 'k', 'erʲel', 'roman', 'xʲelvʲetʲika', 'oprʲedʲelʲaetsʲa', 'naborom', 'mʲetodov', 'sʲirʲi', 'otkompolnent', 'aned͡ʒina', 'sʲirʲeʂetko', 'kompolnent͡sistom', 'pʲatʲ', 'nanet', 'start', 'apdʲejt', 'junitʲe', 'vsʲirʲeʂetka', 'bʲixʲevʲer', 'vɨpuskʲe', 'junitʲe', 'rʲedaktor-nitoloɡii', 'polnot͡sennɨj', 'junitʲe', 'end͡ʒen', 'aned͡ʒine', 'rʲeet', 'prod͡ʒeksɨ', 'junitʲe', 'ned͡ʒine', 'tʲipa', 'ot', 'dvʲiʒkax', 'sʲirʲeʂetka', 'kolajda', 'isxodnɨj', 'kot', 'ɡejm', 'boɡ', 'nout', 'ravno', 'maj', 'mʲiʂ', 'vɨpolnitʲ', 'k', 'aned͡ʒine', 'obd͡ʒekt', 'odʲin', 'sʲekundu', 'kadra', 'v', 'nodɨ', 'vaned͡ʒinɨ', 'i', 'not', 'trʲefʲerʲens', 'koʂirovanie', 'dalʲee', 'not', 'nautrʲefʲerʲens', 'ierarxʲiej', 'junitʲe', 'voned͡ʒine', 'vorotlootnoud', 'jerarxʲii', 'notvrut͡ɕʲnuu', 'putʲ', 'sʲet-lʲinɡ', 'nout', 'utrʲefʲerʲens', 'prʲifʲe', 'sozdav', 'ask', 'aned͡ʒines', 'krʲibtopʲi', 'aned͡ʒine', 'ned', 'avtomatʲizat͡sii', 'ilʲi', 'iskrʲip', 'splʲus', 'zastavlʲaet', 'kotorɨj', 'ɡejm', 'ned͡ʒino', 'sʲirʲeʂetka', 'kʲut', 'plʲej', 'prʲerʲedaktʲirovanii', 'eksʲekʲutɨ', 'edʲet', 'vɨpolnenia', 'poslʲedovatʲelʲnostʲ', 'sʲirʲeʂetka', 't͡sistom', 'ned͡ʒine', 'opʲi', 'sʲiplʲus', 'ned͡ʒina', 'sʲiplʲu', 'neobxodʲimostʲi', 'aned͡ʒina', 'v', 'sʲies', 'lod͡ʒik', 'sors', 'junitʲe', 'voned͡ʒine', 'edʲeto', 'voned͡ʒine', 'sʲirʲi', 'junetʲe', 'smotrʲetʲ', 'sovʲetu', 'tʲelʲeɡramm', 'oblastʲi', 'jutʲup', 't͡ɕʲto-to', 'tʲirsʲetʲin', 'obʲespʲet͡ɕʲivaut', 'platformʲena', 'junitʲixajdfaniʂenrʲendo', 'jejn', 'xdʲerp', 'prʲiblʲiʒen', 'rʲendʲerʲinɡa', 'ned͡ʒina', 'konvʲeeramʲi', 'voned͡ʒinɨ', 'posmotrʲitʲe', 'ispolʲzovaniu', 'instrumʲenta', 'junitʲe', 'formart', 'ned͡ʒino', 'dʲefʲiort', 'ɡrʲefʲiks', 'junitʲane', 'd͡ʒino', 'xaarkʲi', 'noud', 'bazovɨj', 'obd͡ʒikt', 'vaned͡ʒine', 'vʲindous', 't͡ɕʲem', 'rantʲemɨ', 'junitʲe', 'edo-to', 't͡ɕʲem', 't͡setʲins', 'zvʲezdot͡ɕʲko', 'junitʲe', 'voned͡ʒine', 'iks', 'uaj', 'nazad', 'poloʒitʲelʲnɨj', 'iks', 'uaj', 'nazad', 'vpʲerʲed', 'poloʒitʲelʲnɨj', 'sʲin', 'aned͡ʒine', 'vʲertʲikalʲnoe', 'osʲu', 'ottrʲetʲeɡo', 'sokʲuto', 'spʲektoj-to', 'fʲizʲiks', 'saund', 'rʲendo', 'ned͡ʒine', 'prod͡ʒik', 'prʲisʲet', 'junitʲe', 'nastrojkʲi', 'razlʲit͡ɕʲnɨm', 'prod͡ʒik', 't͡setʲins', 'etota', 'etʲin', 'analoɡit͡ɕʲnaa', 'funkt͡sia', 'ʂej', 'kompʲilʲejʂen', 'junitʲe', 't͡ɕʲem', 't͡setʲins', 'kompʲilʲejʂen', 'junetʲe', 'aned͡ʒinɨ', 'po-raznomu', 'konflʲiktov', 'v', 'junitʲe', 'obʲjemov', 'volʲum', 'junitʲe', 'edo-to', 'ɡrʲefʲik', 'saund', 'rʲendo', 'voned͡ʒino', 'dvaʒdɨ', 'rasʂirʲeniem', 'rʲeno', 'otobraʒautsʲa', 'vɨsʲet', 'brauza', 'lood', 'sʲef', 'oknasʲetʲin', 'vzavʲisʲimostʲi', 'voda', 'damʲe', 'vaned͡ʒin', 'plʲeer', 'ɡeamvʲu', 'otdʲelʲnɨx', 'noutlʲejrs', 'maund', 'poins', 'vaned͡ʒine', 'prʲivɨt͡ɕʲnuu', 'jamu', 'abd͡ʒekt', 'ɡejm', 'transform', 'pʲenel', 'rʲeʒimʲe', 'naʒat', 'moim', 'plʲejr', 'edoto', 'juport', 'junitʲekʲerʲekto', 'kontrola', 'ekto', 'vzaimodʲejstvovatʲ', 'podrobnee', 'smotrʲitʲe', 'junitʲe', 'konflʲiktov', 'voznikauɕːix', 'martmʲord͡ʒ', 'utrʲefʲerʲens', 'jerarxʲiu', 'jee', 'kak', 'utrʲefʲerns', 'vaned͡ʒine', 'noutrʲifʲerns', 'sloʒnɨe', 'iz', 'ɡejmabd͡ʒekts', 'i', 'isvojstvamʲi', 'fap', 'obd͡ʒikt', 'abd͡ʒeks', 'ilajt', 'sorsɨ', 'splʲeers', 'obd͡ʒekts', 'dʲikols', 'ifʲekts', 'junitʲianed͡ʒinoj', 'junitʲe', 'vʲertʲikalʲnoe', 'oj', 'junitʲe', 'aned͡ʒinɨ', 'import', 'majʂins', 'junitʲe', 'v', 'ned͡ʒina', 'xranitsʲa', 'bʲiks', 'bʲik', 'bʲiɡ', 'vaned͡ʒine', 'edʲe-to', 'dʲejto', 'brauza', 'esʲet͡s-', 'junitʲe', 'ʂejdʲenʲ', 'ɡimp', 'fotaʂop', 'vaned͡ʒinɨ', 'ʂej', 'vaned͡ʒinɨ', 'mʲetʲel', 'nɨsrafno', 'spʲekʲila', 'majkrofajba', 'importʲirovatʲlʲibo', 'junetʲe', 'vaned͡ʒine', 'boɡatoj', 'vʲiʒuol', 'matʲerʲial', 'etoto', 'a', 'pʲeor-matʲerʲialamʲi', 'fʲizʲikolʲi', 'bʲeestʲ', 'matʲerʲils', 'metolnos', 'spokʲilo', 'vʲerkflou', 'junitʲe', 'kʲemʲera', 'junitʲe', 'not', 'prosmotra', 'aned͡ʒinɨ', 'vʲu', 'i', 'edʲe-to', 'port', 'okno', 'edʲe-to', 'port', 'ɡeem', 'vʲurʲedaktora', 'junitʲerʲindʲerʲit', 'fʲinalʲnuu', 'v', 'razdʲel', 'pʲerʲeklʲut͡ɕʲatʲelʲ', 'ʂejdʲerov', 'fʲizʲiks', 'zvuka', 'plʲej', 'upravlʲenia', 'edato', 'port', 'sʲin', 'juunetʲe', 'normal', 'kanald͡ʒi', 'ito', 'sors', 'vaned͡ʒinɨ', 'junitʲe', 'papkʲe', 'nastrojkʲi', 'prod͡ʒekt', 'vɨvodʲitʲ', 'iskoda', 'edo-to', 'ned͡ʒine', 'edʲe-to', 'vʲindous', 'konsol', 'voned͡ʒine', 'edʲe-to', 'junitʲe', 'vaned͡ʒina', 'end͡ʒin', 'ɡeamvʲu', 'ispolʲzuemɨj', 'proizvodʲitʲelʲnostʲi', 'pʲatʲ', 'nat', 'vʲir', 'splʲus', 'junitʲe', 'sʲirʲeʂetka', 'kompolnɨm', 't͡sistom', 'xʲelpos', 'nevaɡejʂen', 'penel', 'rʲendʲejndʲebak', 'pʲenol', 'dromout', 'junitʲe', 'kʲemʲera', 'pʲenel', 'voned͡ʒinɨ', 'polumolt͡ɕʲaniu', 'aned͡ʒine', 'edo-to', 'junitʲe', 'edʲened͡ʒi', 'edatablʲizkʲi', 'funkt͡sionalu', 'po', 'olpɨn', 'eda-to', 'aned͡ʒinɨ', 'edʲeto', 'k', 'rʲietniu', 'prod͡ʒekt', 'proektʲe', 'esʲed', 'brauza', 'vɨndol', 'poemato', 'vɨndol', 'aned͡ʒine', 'dʲejto', 'edo-to', 'juportt', 'irarxʲiu', 'rabotɨ', 'sʲierarxʲijnot', 'vorod', 'xaarkʲi', 'vʲindol', 'zvuka', 'sʲemulʲat͡sii', 'tulbar', 'tʲeni', 'fpʲe', 'dvuxraza', 'top', 'ɡopʲazaɡruzka', 'prot͡sessoramʲinimalʲna', 'bolʲʂaa', 'a', 'fpʲe', 'kst', 'istol', 'd͡ʒesʲenlʲe', 'xanɡrʲij', 'dʲelʲit', 'lʲi', 'sʲervʲer', 'vʲeprozrabotkʲi', 'smart-bʲekspʲejs', 'prʲinaʒatʲii', 'bokspʲejss', 'v', 'kont͡solʲ', 't͡ɕʲerʲez', 'zapʲisɨvatʲ', 'ix', 'osraet', 'adaptʲera', 'ɡepʲea', 'ne', 'dalʲeko', 'kontrolʲ', 'blokʲi', 'kopea', 'jeɕːe', 'vɨvod', 'enkodʲinɡa', 'klavʲiʂamʲi', 'kontrolbʲekspoiz', 'vʲindaus', 'lʲinuks', 'altoboks', 'dlʲamok', 'kontrolplʲus', 'prʲiudalʲenii', 'ekst', 'instol', 'emanulbɨzat', 'vskoud', 'ɡrʲejt', 'ajkons', 'xanɡrʲi', 'dʲelʲit', 'kst', 'vskolud', 'sʲiman', 'dark', 'vskoud', 'tajkon', 'd͡ʒit', 'ɡrʲef', 'd͡ʒitrʲi', 'utokloustʲek', 'jet͡ɕʲtʲemɨ', 'elʲeksʲemʲelʲi', 'rʲekt', 'kst', 'iolrʲeninkadʲer', 'rʲeek', 'snipod', 'zaintʲerʲesovatʲ', 'vʲim', 'rʲedaktorav', 'vʲersuskolt', 'rʲeekt', 'xostkʲi', 'ipmʲi', 'sʲervʲeramʲi', 'opʲi', 't͡ɕʲtobɨ', 'tɨsʲat͡ɕʲ', 'intʲelkvʲik', 'sʲunɡ', 'vʲersus-koud', 'mobʲilʲnɨe', 'vʲersus-kolud', 'versus-kout', 'ostaetsʲa', 'd͡ʒetbrʲejns', 'provʲiʒual', 'stʲudʲeu', 'poprobuukʲi', 'vvʲedu', 'rʲeʂil', 'itʲ', 'vɨvod', 't͡ɕʲerʲez', 'nvʲidʲe', 'poskolʲku', 's', 'v', 't͡ɕʲistota', 'prot͡sessora', 'ispolʲzovanie', 'zapuskaem', 'fumpʲek', 'ʂestʲdʲesʲat', 'nvʲenk', 'fmpʲek', 'fmpʲeɡ', 'vosʲemnadt͡satʲ', 'potoka', 'kopa', 'opʲeratʲivnoj', 'nipʲitɨ', 'vosʲemʲdʲesʲat', 'kadrov', 'xostkʲe', 'stʲent', 'sʲervʲerov', 'koiɡapʲe', 'opʲeratʲivnoj', 'bɨtovɨe', 'vʲidʲe', 'ertʲeiks', 'tɨsʲat͡ɕʲi', 'rʲiltʲimɨ', 'spʲit', 'nalʲasotʲexʲeks', 'zapʲisɨvaemoɡo', 'i', 'stabʲilʲnɨm', 'kadrov', 'spʲit', 'tot', 'd͡ʒivuk', 'plʲej', 'na', 'ɡolom', 'nvʲenk', 'sobratʲ', 'v', 'zapuskaut', 'baʂskrʲeptɨ', 'v', 'fmpʲek', 'vʲet͡ɕʲ', 'ʂestʲdʲesʲat', 'jet͡ɕʲtʲetʲepʲi', 'okazalʲisʲ', 'ravnimɨmʲi', 'mʲenee', 'dast', 'pʲerʲevod', 'sozdanii', 'supʲermarʲeubroz', 'xostkʲi', 'ipmʲi', 'sʲervʲeramʲi', 'opʲi', 'ne', 'moɡut', 't͡ɕʲto', 'kʲej', 'sovrʲemʲennɨx', 'dvʲestʲi', 'vɨpɨ', 'stʲent', 'kodʲinɡom', 'kopa', 'rʲeʂenij', 'napodobʲii', 'intʲelkvʲik', 'sʲunɡ', 'prʲimʲenatʲ', 'ispuʂkʲi', 'ɡeppʲea', 'trʲi', 'dva', 'vandark', 'vʲersuskoɡo', 'tʲema', 'naibolʲee', 'tɨsʲat͡ɕʲ', 'stʲent', 'v', 'xostkʲe', 'ustanovʲim', 'vʲidʲe', 'tɨsʲat͡ɕʲ', 'kolʲit͡ɕʲestvom', 'pamʲatʲi', 'tʲestʲirovania', 'dlʲa', 'fmpʲek', 'sobratʲ', 'ʒe', 'kvʲiksʲunɡ', 'stanet', 'ne', 'kʲej', 'nvʲidʲe', 'ɡepʲea', 'intʲel', 'inkodʲinɡ', 'protʲestʲirovatʲ', 'vʲidʲe', 'tɨsʲat͡ɕʲi', 'jeet͡ɕʲdʲi', 'formatʲe', 'ʂestʲdʲesʲat', 'sʲim', 'ind͡ʒenirʲen', 'd͡ʒit', 'fmpʲek', 'draɡot͡sennoe', 'vrʲemʲa', 'problʲemu', 'poskolʲku', 'i', 'bʲiblʲiotʲekʲi', 'ɡmlʲip', 'drajvʲer', 'tʲelmʲidʲa', 'mʲedʲidʲek', 'dvadt͡satʲ', 'ɡepʲea', 'ubuntu', 'sorok', 'ono', 'kʲej', 'ʂestʲdʲesʲat', 'et͡ɕʲ', 'dvʲestʲi', 'pɨ', 'kʲej', 'dlʲa', 'moɕːnostʲi', 'spʲet͡sialʲizʲirovannɨe', 'kvʲiksʲun', 'modulʲubʲemsʲi', 'jepmʲi', 't͡ɕʲerʲez', 'apparatnoɡo', 'urʲeʂenia', 'pɨ', 'prʲedstavlʲen', 'bloɡe', 'nadʲetʲeev', 'vʲar', 'ned͡ʒinekom', 'ned͡ʒine', 'dvakam', 'rasskaʒet', 'trʲidʲe', 'vaned͡ʒinɨ', 'v', 'junitʲe', 'sootvʲetstvuuɕːie', 'imonalo', 't͡ɕʲem', 'bafos', 'kalo', 'ʂestnadt͡satʲ', 'efrʲendo', 'rʲendʲeprʲizʲes', 'vaned͡ʒina', 'voned͡ʒinɨ', 'okna', 'etʲin', 'kvalotʲi', 'matʲirʲil', 'kontʲejna', 'sʲer', 'sʲeras-vʲerʲiont', 'fasvʲerʲent', 'tʲeorʂierʲi', 'prajmʲejrʲiej', 'sʲekondʲerʲe', 'oɡranit͡ɕʲitsʲa', 'tʲorʂie', 'fʲe', 'autlajn', 'on', 'u', 'prajmʲerʲe', 'projmʲerʲe', 'sʲorfos', 'jestʲ', 'matʲerʲial', 't͡svʲeta', 'ror', 'on', 'autlʲejnd', 'tʲekstfʲild', 'on', 'matʲerʲial', 'sʲekundʲerʲi', 'bɨkɡraund', 'errʲer', 'prajmʲerʲe', 'i', 't͡svʲeta', 'osnovnɨe', 'prʲiloʒenia', 'dʲisklʲejmʲer', 'pro', 't͡ɕʲem', 'matʲerʲil', 'matʲerʲial', 'matʲerʲial', 'dajnemʲe', 'kala', 'komponentov', 'androet', 'sʲerv', 'android', 'akt͡sent', 'prajmʲerʲi', 'sʲekundʲerʲi', 'dlʲa', 'tʲeorʂierʲi', 'nutrʲel', 'bɨkɡraund', 'sʲerfos', 'autlajn', 'tona', 'vɨraʒaet', 'er', 'tlaen', 'elʲevʲejʂnvo', 'v', 'opʲisan', 'sʲerfos', 't͡svʲet', 'zadatʲ', 'elʲivʲejʂin', 'blʲiʒe', 'tʲem', 'dʲizajner-matʲiz', 'ot', 'ɡrv', 'dvʲe', 'android', 'lolʲepob', 'ɡuɡol', 'matʲerʲial', 'dʲizajn', 'nikakʲix', 't͡ɕʲto-to', 'to', 'putʲi', 'nɨtkʲet', 'lʲiɡiɡobajt', 'dannɨx', 'pʲerʲedavaemɨx', 'fmpʲek', 'otnosʲitʲelʲno', 'asʲie', 'matʲerʲial', 'kartot͡ɕʲkʲi', 'kartvʲu', 'kart', 'vʲu', 'fono-sʲorfos', 'matʲerʲial', 'bɨɡraon', 'sʲorfa', 't͡svʲet', 'bʲekɡraund', 'sʲorfos', 'kontʲejna', 'pʲervom', 'ɡ', 'matʲerʲial', 'ju', 'ɡuɡl', 'matʲerʲial', 'ajdʲentʲiku', 'vʲizualʲnɨj', 'ɡajdlajnɨ', 'form', 'poddʲerʒku', 'ʂejpsu', 'matʲerʲil', 'polʲitru', 'matʲerʲil', 'matʲerʲial', 'sʲimbʲilɡa', 'sdʲin', 'paep', 'audʲio', 'polut͡ɕʲitsʲa', 'nikakoɡo', 'vʲista', 'es', 'ʂestnadt͡satʲ', 'i', 'fail', 'etot', 'nasʲemʲsot', 'vʲidʲa', 'frajnolʲ', 'fmpʲek', 'voopʲi', 't͡ɕʲto-to', 'vʲertʲikalʲnɨj', 'fmpʲek', 'rʲeʒim', 'bʲenarnɨj', 'fʲilʲtʲer', 'vʲidʲe', 'etoj', 'sposob', 'ɡenerat͡sii', 'pajtan', 'sʲisʲiplʲusplʲus', 'storonnevoopʲi', 'vʲersus', 'koudkʲi', 'sfrʲemʲeejt', 'pot͡ɕʲerkʲivania', 'sajs', 'dabɨl', 'jet͡ɕʲinat͡ɕʲe', 'v', 'stroku', 'vʲindous', 'lʲinuks', 'dannɨe', 'fmpʲeɡ', 'prʲinimaet', 'pajtam', 'v', 'kadrov', 'tʲestʲirovatʲ', 'fmpʲek', 'voned͡ʒine', 'plʲej', 'rɡbat͡svʲeta', 'ʂestʲdʲesʲat', 'fʲevɨe', 'odʲin', 'tolʲko', 'vʲertʲikalʲnɨj', 'i', 'sʲiplʲus', 'zapʲisɨvatʲ', 'moʒno', 'dannɨe', 'ekst', 'instol', 'alʲbʲert', 'tʲepaut', 'ekst', 'instol', 'rʲitvʲikdɨj', 'xanɡrʲi', 'dʲelʲit', 'jutʲu', 'rʲeʂetka', 'krasnɨj', 'dʲidʲevʲatʲ', 'nolʲ', 'pajtan', 'trʲidʲe', 'xʲumon', 'intʲerfʲejs', 'ɡajdlajn', 'sfor', 'aj', 'os', 'ɡuɡɨldaks', 'istot͡ɕʲik', 'pajtan', 'trʲidʲe', 'vorot', 'druɡie', 'pozʲit͡sii', 'bʲeortʲesʲis', 'lʲitot͡ɕʲkamʲi', 'odʲinolʲ', 'istot͡ɕʲik', 'masʲivo', 'trʲetʲeɡo', 'sʲedka', 'mʲiʂ', 'ɡranei', 'i', 'ostʲeal', 'konvʲeksxul', 'blʲendʲer', 'konvʲeks', 'i', 'estʲeil', 'iz-za', 'mand͡ʒe', 'spanʒe', 'nampʲi', 'stʲeil', 'voksal', 'mʲetoda', 'elʲemʲentarnoɡo', 'voksɨl', 'mʲiʂ', 'storonɨ', 'daka', 'sobratʲiz', 'paramʲetrɨ', 'dako', 'statʲi', 'nit͡ɕʲeɡo', 'ustanavlʲivatʲ', 'skampʲelʲirujtʲe', 'pojmʲiʂʲː', 'slʲedua', 'instrukt͡sii', 'ob', 'moʒno', 'blʲendʲer', 'vʲert͡s-kap', 'ɡepʲea', 'otkrɨt', 'd͡ʒupʲito', 'noutbuk', 'ostʲel', 'olponskat', 'proizvʲestʲi', 'd͡ʒupʲeta-noutb', 'obɕːij', 'prʲint͡sip', 'etopkampa', 'kompouz', 'matʲerʲialsʲim', 'kampanost', 'obkampatsʲim', 'eksomʲelʲ', 'pouz', 'matʲerʲial', 'dʲizajnsʲim', 'mdʲisʲi', 'androitkompouz', 'sʲima-dʲepto', 'matʲirʲil', 'dʲizajnkom', 'polnat͡s']\n"
          ]
        }
      ]
    },
    {
      "cell_type": "code",
      "source": [
        "def remove_affricates(li):\n",
        "    li_affr = []\n",
        "    for elem in li:\n",
        "        li_affr.append(elem)\n",
        "        #print('-')\n",
        "    for elem in li_affr:\n",
        "        if '͡' in elem:\n",
        "            li_affr.remove(elem)\n",
        "    li_affr = ''.join(li_affr)\n",
        "    #print(li_affr)\n",
        "    return li_affr"
      ],
      "metadata": {
        "id": "DTHJm4k8SRIJ"
      },
      "execution_count": 59,
      "outputs": []
    },
    {
      "cell_type": "code",
      "source": [
        "filtered_list_true = []\n",
        "filtered_list_pred =[]\n",
        "for indd, elem in enumerate(li_words_true_ipa):\n",
        "    if li_words_true_ipa[indd] != None:\n",
        "        filtered_list_true.append(remove_affricates(li_words_true_ipa[indd]))\n",
        "        filtered_list_pred.append(remove_affricates(li_words_pred_ipa[indd]))"
      ],
      "metadata": {
        "id": "NGb-DtR2ORBw"
      },
      "execution_count": 60,
      "outputs": []
    },
    {
      "cell_type": "code",
      "source": [
        "len(filtered_list_true)"
      ],
      "metadata": {
        "colab": {
          "base_uri": "https://localhost:8080/"
        },
        "id": "ktxAhNDdP6VL",
        "outputId": "0439f952-62ea-42ec-8c00-9261ffdcb099"
      },
      "execution_count": 61,
      "outputs": [
        {
          "output_type": "execute_result",
          "data": {
            "text/plain": [
              "1605"
            ]
          },
          "metadata": {},
          "execution_count": 61
        }
      ]
    },
    {
      "cell_type": "code",
      "source": [
        "import pandas as pd"
      ],
      "metadata": {
        "id": "A6-y5r11wSB8"
      },
      "execution_count": 62,
      "outputs": []
    },
    {
      "cell_type": "code",
      "source": [
        "cer_list = pd.DataFrame({'Prediction_ipa' : filtered_list_pred,\n",
        "                                'True_ipa' : filtered_list_true,\n",
        "                                'Cer' : cer_for_assumped }, \n",
        "                                columns=['Prediction_ipa','True_ipa', 'Cer'])"
      ],
      "metadata": {
        "id": "NEJuBOH-7mZQ"
      },
      "execution_count": 63,
      "outputs": []
    },
    {
      "cell_type": "code",
      "source": [
        "cer_list"
      ],
      "metadata": {
        "colab": {
          "base_uri": "https://localhost:8080/",
          "height": 423
        },
        "id": "F7bvMNGA8Idk",
        "outputId": "5db621a0-e664-4af1-bf57-8d3f8ee571d2"
      },
      "execution_count": 64,
      "outputs": [
        {
          "output_type": "execute_result",
          "data": {
            "text/plain": [
              "      Prediction_ipa        True_ipa    Cer\n",
              "0     navaɡejʂendror  nævəɡejʃəndɹɔɹ  0.500\n",
              "1            nevaɡej      nævəɡejʃən  0.714\n",
              "2              ʂinba             bɑɹ  1.000\n",
              "3              botom           bɑtəm  0.400\n",
              "4         nevaɡejʂin      nævəɡejʃən  0.400\n",
              "...              ...             ...    ...\n",
              "1600  androitkompouz         kəmpowz  0.643\n",
              "1601    sʲima-dʲepto      θimədæptɹ̩  0.667\n",
              "1602       matʲirʲil        mətɪɹiəl  0.667\n",
              "1603      dʲizajnkom          dɪzajn  0.500\n",
              "1604         polnats     kəmpownənts  0.875\n",
              "\n",
              "[1605 rows x 3 columns]"
            ],
            "text/html": [
              "\n",
              "  <div id=\"df-babb2373-cf26-4ee0-8ae9-9d147c052fa6\">\n",
              "    <div class=\"colab-df-container\">\n",
              "      <div>\n",
              "<style scoped>\n",
              "    .dataframe tbody tr th:only-of-type {\n",
              "        vertical-align: middle;\n",
              "    }\n",
              "\n",
              "    .dataframe tbody tr th {\n",
              "        vertical-align: top;\n",
              "    }\n",
              "\n",
              "    .dataframe thead th {\n",
              "        text-align: right;\n",
              "    }\n",
              "</style>\n",
              "<table border=\"1\" class=\"dataframe\">\n",
              "  <thead>\n",
              "    <tr style=\"text-align: right;\">\n",
              "      <th></th>\n",
              "      <th>Prediction_ipa</th>\n",
              "      <th>True_ipa</th>\n",
              "      <th>Cer</th>\n",
              "    </tr>\n",
              "  </thead>\n",
              "  <tbody>\n",
              "    <tr>\n",
              "      <th>0</th>\n",
              "      <td>navaɡejʂendror</td>\n",
              "      <td>nævəɡejʃəndɹɔɹ</td>\n",
              "      <td>0.500</td>\n",
              "    </tr>\n",
              "    <tr>\n",
              "      <th>1</th>\n",
              "      <td>nevaɡej</td>\n",
              "      <td>nævəɡejʃən</td>\n",
              "      <td>0.714</td>\n",
              "    </tr>\n",
              "    <tr>\n",
              "      <th>2</th>\n",
              "      <td>ʂinba</td>\n",
              "      <td>bɑɹ</td>\n",
              "      <td>1.000</td>\n",
              "    </tr>\n",
              "    <tr>\n",
              "      <th>3</th>\n",
              "      <td>botom</td>\n",
              "      <td>bɑtəm</td>\n",
              "      <td>0.400</td>\n",
              "    </tr>\n",
              "    <tr>\n",
              "      <th>4</th>\n",
              "      <td>nevaɡejʂin</td>\n",
              "      <td>nævəɡejʃən</td>\n",
              "      <td>0.400</td>\n",
              "    </tr>\n",
              "    <tr>\n",
              "      <th>...</th>\n",
              "      <td>...</td>\n",
              "      <td>...</td>\n",
              "      <td>...</td>\n",
              "    </tr>\n",
              "    <tr>\n",
              "      <th>1600</th>\n",
              "      <td>androitkompouz</td>\n",
              "      <td>kəmpowz</td>\n",
              "      <td>0.643</td>\n",
              "    </tr>\n",
              "    <tr>\n",
              "      <th>1601</th>\n",
              "      <td>sʲima-dʲepto</td>\n",
              "      <td>θimədæptɹ̩</td>\n",
              "      <td>0.667</td>\n",
              "    </tr>\n",
              "    <tr>\n",
              "      <th>1602</th>\n",
              "      <td>matʲirʲil</td>\n",
              "      <td>mətɪɹiəl</td>\n",
              "      <td>0.667</td>\n",
              "    </tr>\n",
              "    <tr>\n",
              "      <th>1603</th>\n",
              "      <td>dʲizajnkom</td>\n",
              "      <td>dɪzajn</td>\n",
              "      <td>0.500</td>\n",
              "    </tr>\n",
              "    <tr>\n",
              "      <th>1604</th>\n",
              "      <td>polnats</td>\n",
              "      <td>kəmpownənts</td>\n",
              "      <td>0.875</td>\n",
              "    </tr>\n",
              "  </tbody>\n",
              "</table>\n",
              "<p>1605 rows × 3 columns</p>\n",
              "</div>\n",
              "      <button class=\"colab-df-convert\" onclick=\"convertToInteractive('df-babb2373-cf26-4ee0-8ae9-9d147c052fa6')\"\n",
              "              title=\"Convert this dataframe to an interactive table.\"\n",
              "              style=\"display:none;\">\n",
              "        \n",
              "  <svg xmlns=\"http://www.w3.org/2000/svg\" height=\"24px\"viewBox=\"0 0 24 24\"\n",
              "       width=\"24px\">\n",
              "    <path d=\"M0 0h24v24H0V0z\" fill=\"none\"/>\n",
              "    <path d=\"M18.56 5.44l.94 2.06.94-2.06 2.06-.94-2.06-.94-.94-2.06-.94 2.06-2.06.94zm-11 1L8.5 8.5l.94-2.06 2.06-.94-2.06-.94L8.5 2.5l-.94 2.06-2.06.94zm10 10l.94 2.06.94-2.06 2.06-.94-2.06-.94-.94-2.06-.94 2.06-2.06.94z\"/><path d=\"M17.41 7.96l-1.37-1.37c-.4-.4-.92-.59-1.43-.59-.52 0-1.04.2-1.43.59L10.3 9.45l-7.72 7.72c-.78.78-.78 2.05 0 2.83L4 21.41c.39.39.9.59 1.41.59.51 0 1.02-.2 1.41-.59l7.78-7.78 2.81-2.81c.8-.78.8-2.07 0-2.86zM5.41 20L4 18.59l7.72-7.72 1.47 1.35L5.41 20z\"/>\n",
              "  </svg>\n",
              "      </button>\n",
              "      \n",
              "  <style>\n",
              "    .colab-df-container {\n",
              "      display:flex;\n",
              "      flex-wrap:wrap;\n",
              "      gap: 12px;\n",
              "    }\n",
              "\n",
              "    .colab-df-convert {\n",
              "      background-color: #E8F0FE;\n",
              "      border: none;\n",
              "      border-radius: 50%;\n",
              "      cursor: pointer;\n",
              "      display: none;\n",
              "      fill: #1967D2;\n",
              "      height: 32px;\n",
              "      padding: 0 0 0 0;\n",
              "      width: 32px;\n",
              "    }\n",
              "\n",
              "    .colab-df-convert:hover {\n",
              "      background-color: #E2EBFA;\n",
              "      box-shadow: 0px 1px 2px rgba(60, 64, 67, 0.3), 0px 1px 3px 1px rgba(60, 64, 67, 0.15);\n",
              "      fill: #174EA6;\n",
              "    }\n",
              "\n",
              "    [theme=dark] .colab-df-convert {\n",
              "      background-color: #3B4455;\n",
              "      fill: #D2E3FC;\n",
              "    }\n",
              "\n",
              "    [theme=dark] .colab-df-convert:hover {\n",
              "      background-color: #434B5C;\n",
              "      box-shadow: 0px 1px 3px 1px rgba(0, 0, 0, 0.15);\n",
              "      filter: drop-shadow(0px 1px 2px rgba(0, 0, 0, 0.3));\n",
              "      fill: #FFFFFF;\n",
              "    }\n",
              "  </style>\n",
              "\n",
              "      <script>\n",
              "        const buttonEl =\n",
              "          document.querySelector('#df-babb2373-cf26-4ee0-8ae9-9d147c052fa6 button.colab-df-convert');\n",
              "        buttonEl.style.display =\n",
              "          google.colab.kernel.accessAllowed ? 'block' : 'none';\n",
              "\n",
              "        async function convertToInteractive(key) {\n",
              "          const element = document.querySelector('#df-babb2373-cf26-4ee0-8ae9-9d147c052fa6');\n",
              "          const dataTable =\n",
              "            await google.colab.kernel.invokeFunction('convertToInteractive',\n",
              "                                                     [key], {});\n",
              "          if (!dataTable) return;\n",
              "\n",
              "          const docLinkHtml = 'Like what you see? Visit the ' +\n",
              "            '<a target=\"_blank\" href=https://colab.research.google.com/notebooks/data_table.ipynb>data table notebook</a>'\n",
              "            + ' to learn more about interactive tables.';\n",
              "          element.innerHTML = '';\n",
              "          dataTable['output_type'] = 'display_data';\n",
              "          await google.colab.output.renderOutput(dataTable, element);\n",
              "          const docLink = document.createElement('div');\n",
              "          docLink.innerHTML = docLinkHtml;\n",
              "          element.appendChild(docLink);\n",
              "        }\n",
              "      </script>\n",
              "    </div>\n",
              "  </div>\n",
              "  "
            ]
          },
          "metadata": {},
          "execution_count": 64
        }
      ]
    },
    {
      "cell_type": "code",
      "source": [
        "cer_list[cer_list['Cer']< 0.4]"
      ],
      "metadata": {
        "colab": {
          "base_uri": "https://localhost:8080/",
          "height": 423
        },
        "id": "Eu5282TY8L7m",
        "outputId": "e050a8c2-0199-4e74-d447-5eab0bc06e37"
      },
      "execution_count": 65,
      "outputs": [
        {
          "output_type": "execute_result",
          "data": {
            "text/plain": [
              "               Prediction_ipa                 True_ipa    Cer\n",
              "6     androitunifʲitsirovalʲi  ændɹojdunifʲitsirovalʲi  0.167\n",
              "12                      ɡuɡol                    ɡuɡəl  0.200\n",
              "17             dʲizajnandroet           dʲizajnændɹojd  0.286\n",
              "40                     kompoz                  kəmpowz  0.333\n",
              "62                     tolnul                   townəl  0.333\n",
              "...                       ...                      ...    ...\n",
              "1569                   nampʲi                    nʌmpi  0.333\n",
              "1571                   voksal                   vɑksəl  0.333\n",
              "1573                   voksɨl                   vɑksəl  0.333\n",
              "1585                  noutbuk                  nowtbʊk  0.286\n",
              "1591                  kompouz                  kəmpowz  0.286\n",
              "\n",
              "[164 rows x 3 columns]"
            ],
            "text/html": [
              "\n",
              "  <div id=\"df-0b817bc8-545a-4f7e-984c-86a813a70d42\">\n",
              "    <div class=\"colab-df-container\">\n",
              "      <div>\n",
              "<style scoped>\n",
              "    .dataframe tbody tr th:only-of-type {\n",
              "        vertical-align: middle;\n",
              "    }\n",
              "\n",
              "    .dataframe tbody tr th {\n",
              "        vertical-align: top;\n",
              "    }\n",
              "\n",
              "    .dataframe thead th {\n",
              "        text-align: right;\n",
              "    }\n",
              "</style>\n",
              "<table border=\"1\" class=\"dataframe\">\n",
              "  <thead>\n",
              "    <tr style=\"text-align: right;\">\n",
              "      <th></th>\n",
              "      <th>Prediction_ipa</th>\n",
              "      <th>True_ipa</th>\n",
              "      <th>Cer</th>\n",
              "    </tr>\n",
              "  </thead>\n",
              "  <tbody>\n",
              "    <tr>\n",
              "      <th>6</th>\n",
              "      <td>androitunifʲitsirovalʲi</td>\n",
              "      <td>ændɹojdunifʲitsirovalʲi</td>\n",
              "      <td>0.167</td>\n",
              "    </tr>\n",
              "    <tr>\n",
              "      <th>12</th>\n",
              "      <td>ɡuɡol</td>\n",
              "      <td>ɡuɡəl</td>\n",
              "      <td>0.200</td>\n",
              "    </tr>\n",
              "    <tr>\n",
              "      <th>17</th>\n",
              "      <td>dʲizajnandroet</td>\n",
              "      <td>dʲizajnændɹojd</td>\n",
              "      <td>0.286</td>\n",
              "    </tr>\n",
              "    <tr>\n",
              "      <th>40</th>\n",
              "      <td>kompoz</td>\n",
              "      <td>kəmpowz</td>\n",
              "      <td>0.333</td>\n",
              "    </tr>\n",
              "    <tr>\n",
              "      <th>62</th>\n",
              "      <td>tolnul</td>\n",
              "      <td>townəl</td>\n",
              "      <td>0.333</td>\n",
              "    </tr>\n",
              "    <tr>\n",
              "      <th>...</th>\n",
              "      <td>...</td>\n",
              "      <td>...</td>\n",
              "      <td>...</td>\n",
              "    </tr>\n",
              "    <tr>\n",
              "      <th>1569</th>\n",
              "      <td>nampʲi</td>\n",
              "      <td>nʌmpi</td>\n",
              "      <td>0.333</td>\n",
              "    </tr>\n",
              "    <tr>\n",
              "      <th>1571</th>\n",
              "      <td>voksal</td>\n",
              "      <td>vɑksəl</td>\n",
              "      <td>0.333</td>\n",
              "    </tr>\n",
              "    <tr>\n",
              "      <th>1573</th>\n",
              "      <td>voksɨl</td>\n",
              "      <td>vɑksəl</td>\n",
              "      <td>0.333</td>\n",
              "    </tr>\n",
              "    <tr>\n",
              "      <th>1585</th>\n",
              "      <td>noutbuk</td>\n",
              "      <td>nowtbʊk</td>\n",
              "      <td>0.286</td>\n",
              "    </tr>\n",
              "    <tr>\n",
              "      <th>1591</th>\n",
              "      <td>kompouz</td>\n",
              "      <td>kəmpowz</td>\n",
              "      <td>0.286</td>\n",
              "    </tr>\n",
              "  </tbody>\n",
              "</table>\n",
              "<p>164 rows × 3 columns</p>\n",
              "</div>\n",
              "      <button class=\"colab-df-convert\" onclick=\"convertToInteractive('df-0b817bc8-545a-4f7e-984c-86a813a70d42')\"\n",
              "              title=\"Convert this dataframe to an interactive table.\"\n",
              "              style=\"display:none;\">\n",
              "        \n",
              "  <svg xmlns=\"http://www.w3.org/2000/svg\" height=\"24px\"viewBox=\"0 0 24 24\"\n",
              "       width=\"24px\">\n",
              "    <path d=\"M0 0h24v24H0V0z\" fill=\"none\"/>\n",
              "    <path d=\"M18.56 5.44l.94 2.06.94-2.06 2.06-.94-2.06-.94-.94-2.06-.94 2.06-2.06.94zm-11 1L8.5 8.5l.94-2.06 2.06-.94-2.06-.94L8.5 2.5l-.94 2.06-2.06.94zm10 10l.94 2.06.94-2.06 2.06-.94-2.06-.94-.94-2.06-.94 2.06-2.06.94z\"/><path d=\"M17.41 7.96l-1.37-1.37c-.4-.4-.92-.59-1.43-.59-.52 0-1.04.2-1.43.59L10.3 9.45l-7.72 7.72c-.78.78-.78 2.05 0 2.83L4 21.41c.39.39.9.59 1.41.59.51 0 1.02-.2 1.41-.59l7.78-7.78 2.81-2.81c.8-.78.8-2.07 0-2.86zM5.41 20L4 18.59l7.72-7.72 1.47 1.35L5.41 20z\"/>\n",
              "  </svg>\n",
              "      </button>\n",
              "      \n",
              "  <style>\n",
              "    .colab-df-container {\n",
              "      display:flex;\n",
              "      flex-wrap:wrap;\n",
              "      gap: 12px;\n",
              "    }\n",
              "\n",
              "    .colab-df-convert {\n",
              "      background-color: #E8F0FE;\n",
              "      border: none;\n",
              "      border-radius: 50%;\n",
              "      cursor: pointer;\n",
              "      display: none;\n",
              "      fill: #1967D2;\n",
              "      height: 32px;\n",
              "      padding: 0 0 0 0;\n",
              "      width: 32px;\n",
              "    }\n",
              "\n",
              "    .colab-df-convert:hover {\n",
              "      background-color: #E2EBFA;\n",
              "      box-shadow: 0px 1px 2px rgba(60, 64, 67, 0.3), 0px 1px 3px 1px rgba(60, 64, 67, 0.15);\n",
              "      fill: #174EA6;\n",
              "    }\n",
              "\n",
              "    [theme=dark] .colab-df-convert {\n",
              "      background-color: #3B4455;\n",
              "      fill: #D2E3FC;\n",
              "    }\n",
              "\n",
              "    [theme=dark] .colab-df-convert:hover {\n",
              "      background-color: #434B5C;\n",
              "      box-shadow: 0px 1px 3px 1px rgba(0, 0, 0, 0.15);\n",
              "      filter: drop-shadow(0px 1px 2px rgba(0, 0, 0, 0.3));\n",
              "      fill: #FFFFFF;\n",
              "    }\n",
              "  </style>\n",
              "\n",
              "      <script>\n",
              "        const buttonEl =\n",
              "          document.querySelector('#df-0b817bc8-545a-4f7e-984c-86a813a70d42 button.colab-df-convert');\n",
              "        buttonEl.style.display =\n",
              "          google.colab.kernel.accessAllowed ? 'block' : 'none';\n",
              "\n",
              "        async function convertToInteractive(key) {\n",
              "          const element = document.querySelector('#df-0b817bc8-545a-4f7e-984c-86a813a70d42');\n",
              "          const dataTable =\n",
              "            await google.colab.kernel.invokeFunction('convertToInteractive',\n",
              "                                                     [key], {});\n",
              "          if (!dataTable) return;\n",
              "\n",
              "          const docLinkHtml = 'Like what you see? Visit the ' +\n",
              "            '<a target=\"_blank\" href=https://colab.research.google.com/notebooks/data_table.ipynb>data table notebook</a>'\n",
              "            + ' to learn more about interactive tables.';\n",
              "          element.innerHTML = '';\n",
              "          dataTable['output_type'] = 'display_data';\n",
              "          await google.colab.output.renderOutput(dataTable, element);\n",
              "          const docLink = document.createElement('div');\n",
              "          docLink.innerHTML = docLinkHtml;\n",
              "          element.appendChild(docLink);\n",
              "        }\n",
              "      </script>\n",
              "    </div>\n",
              "  </div>\n",
              "  "
            ]
          },
          "metadata": {},
          "execution_count": 65
        }
      ]
    },
    {
      "cell_type": "code",
      "source": [
        ""
      ],
      "metadata": {
        "id": "khU-kKwrSGfv"
      },
      "execution_count": null,
      "outputs": []
    },
    {
      "cell_type": "code",
      "source": [
        ""
      ],
      "metadata": {
        "id": "6YEOmufwMUdw"
      },
      "execution_count": null,
      "outputs": []
    },
    {
      "cell_type": "code",
      "source": [
        "errors_abydos = []\n",
        "for k in range(len(li_words_pred_ipa)):\n",
        "    if li_words_true_ipa[k] != None: \n",
        "        str_true = remove_affricates(li_words_true_ipa[k])\n",
        "        str_pred = remove_affricates(li_words_pred_ipa[k])\n",
        "        #print(str_pred, str_true)\n",
        "        errors_abydos.append(round(cmp.dist(str_pred, str_true), 3))"
      ],
      "metadata": {
        "id": "mUWKp4l1qLxs"
      },
      "execution_count": 66,
      "outputs": []
    },
    {
      "cell_type": "code",
      "source": [
        "cer_list['Cer_abydos'] = errors_abydos"
      ],
      "metadata": {
        "id": "YJ_YTXvDayJL"
      },
      "execution_count": 67,
      "outputs": []
    },
    {
      "cell_type": "code",
      "source": [
        "cer_list.to_csv('/content/cer_for_eng_with_align_2.csv')"
      ],
      "metadata": {
        "id": "5F6J3jKMa5hu"
      },
      "execution_count": 68,
      "outputs": []
    },
    {
      "cell_type": "code",
      "source": [
        "cer_list"
      ],
      "metadata": {
        "colab": {
          "base_uri": "https://localhost:8080/",
          "height": 423
        },
        "id": "8G0g_05kdlfT",
        "outputId": "1cb1086c-9c4f-417f-abbe-471cf613635b"
      },
      "execution_count": 69,
      "outputs": [
        {
          "output_type": "execute_result",
          "data": {
            "text/plain": [
              "      Prediction_ipa        True_ipa    Cer  Cer_abydos\n",
              "0     navaɡejʂendror  nævəɡejʃəndɹɔɹ  0.500       0.040\n",
              "1            nevaɡej      nævəɡejʃən  0.714       0.318\n",
              "2              ʂinba             bɑɹ  1.000       0.510\n",
              "3              botom           bɑtəm  0.400       0.042\n",
              "4         nevaɡejʂin      nævəɡejʃən  0.400       0.044\n",
              "...              ...             ...    ...         ...\n",
              "1600  androitkompouz         kəmpowz  0.643       0.515\n",
              "1601    sʲima-dʲepto      θimədæptɹ̩  0.667       0.313\n",
              "1602       matʲirʲil        mətɪɹiəl  0.667       0.199\n",
              "1603      dʲizajnkom          dɪzajn  0.500       0.406\n",
              "1604         polnats     kəmpownənts  0.875       0.405\n",
              "\n",
              "[1605 rows x 4 columns]"
            ],
            "text/html": [
              "\n",
              "  <div id=\"df-87d2e07e-b8b5-4393-96d3-7ed9c24007a3\">\n",
              "    <div class=\"colab-df-container\">\n",
              "      <div>\n",
              "<style scoped>\n",
              "    .dataframe tbody tr th:only-of-type {\n",
              "        vertical-align: middle;\n",
              "    }\n",
              "\n",
              "    .dataframe tbody tr th {\n",
              "        vertical-align: top;\n",
              "    }\n",
              "\n",
              "    .dataframe thead th {\n",
              "        text-align: right;\n",
              "    }\n",
              "</style>\n",
              "<table border=\"1\" class=\"dataframe\">\n",
              "  <thead>\n",
              "    <tr style=\"text-align: right;\">\n",
              "      <th></th>\n",
              "      <th>Prediction_ipa</th>\n",
              "      <th>True_ipa</th>\n",
              "      <th>Cer</th>\n",
              "      <th>Cer_abydos</th>\n",
              "    </tr>\n",
              "  </thead>\n",
              "  <tbody>\n",
              "    <tr>\n",
              "      <th>0</th>\n",
              "      <td>navaɡejʂendror</td>\n",
              "      <td>nævəɡejʃəndɹɔɹ</td>\n",
              "      <td>0.500</td>\n",
              "      <td>0.040</td>\n",
              "    </tr>\n",
              "    <tr>\n",
              "      <th>1</th>\n",
              "      <td>nevaɡej</td>\n",
              "      <td>nævəɡejʃən</td>\n",
              "      <td>0.714</td>\n",
              "      <td>0.318</td>\n",
              "    </tr>\n",
              "    <tr>\n",
              "      <th>2</th>\n",
              "      <td>ʂinba</td>\n",
              "      <td>bɑɹ</td>\n",
              "      <td>1.000</td>\n",
              "      <td>0.510</td>\n",
              "    </tr>\n",
              "    <tr>\n",
              "      <th>3</th>\n",
              "      <td>botom</td>\n",
              "      <td>bɑtəm</td>\n",
              "      <td>0.400</td>\n",
              "      <td>0.042</td>\n",
              "    </tr>\n",
              "    <tr>\n",
              "      <th>4</th>\n",
              "      <td>nevaɡejʂin</td>\n",
              "      <td>nævəɡejʃən</td>\n",
              "      <td>0.400</td>\n",
              "      <td>0.044</td>\n",
              "    </tr>\n",
              "    <tr>\n",
              "      <th>...</th>\n",
              "      <td>...</td>\n",
              "      <td>...</td>\n",
              "      <td>...</td>\n",
              "      <td>...</td>\n",
              "    </tr>\n",
              "    <tr>\n",
              "      <th>1600</th>\n",
              "      <td>androitkompouz</td>\n",
              "      <td>kəmpowz</td>\n",
              "      <td>0.643</td>\n",
              "      <td>0.515</td>\n",
              "    </tr>\n",
              "    <tr>\n",
              "      <th>1601</th>\n",
              "      <td>sʲima-dʲepto</td>\n",
              "      <td>θimədæptɹ̩</td>\n",
              "      <td>0.667</td>\n",
              "      <td>0.313</td>\n",
              "    </tr>\n",
              "    <tr>\n",
              "      <th>1602</th>\n",
              "      <td>matʲirʲil</td>\n",
              "      <td>mətɪɹiəl</td>\n",
              "      <td>0.667</td>\n",
              "      <td>0.199</td>\n",
              "    </tr>\n",
              "    <tr>\n",
              "      <th>1603</th>\n",
              "      <td>dʲizajnkom</td>\n",
              "      <td>dɪzajn</td>\n",
              "      <td>0.500</td>\n",
              "      <td>0.406</td>\n",
              "    </tr>\n",
              "    <tr>\n",
              "      <th>1604</th>\n",
              "      <td>polnats</td>\n",
              "      <td>kəmpownənts</td>\n",
              "      <td>0.875</td>\n",
              "      <td>0.405</td>\n",
              "    </tr>\n",
              "  </tbody>\n",
              "</table>\n",
              "<p>1605 rows × 4 columns</p>\n",
              "</div>\n",
              "      <button class=\"colab-df-convert\" onclick=\"convertToInteractive('df-87d2e07e-b8b5-4393-96d3-7ed9c24007a3')\"\n",
              "              title=\"Convert this dataframe to an interactive table.\"\n",
              "              style=\"display:none;\">\n",
              "        \n",
              "  <svg xmlns=\"http://www.w3.org/2000/svg\" height=\"24px\"viewBox=\"0 0 24 24\"\n",
              "       width=\"24px\">\n",
              "    <path d=\"M0 0h24v24H0V0z\" fill=\"none\"/>\n",
              "    <path d=\"M18.56 5.44l.94 2.06.94-2.06 2.06-.94-2.06-.94-.94-2.06-.94 2.06-2.06.94zm-11 1L8.5 8.5l.94-2.06 2.06-.94-2.06-.94L8.5 2.5l-.94 2.06-2.06.94zm10 10l.94 2.06.94-2.06 2.06-.94-2.06-.94-.94-2.06-.94 2.06-2.06.94z\"/><path d=\"M17.41 7.96l-1.37-1.37c-.4-.4-.92-.59-1.43-.59-.52 0-1.04.2-1.43.59L10.3 9.45l-7.72 7.72c-.78.78-.78 2.05 0 2.83L4 21.41c.39.39.9.59 1.41.59.51 0 1.02-.2 1.41-.59l7.78-7.78 2.81-2.81c.8-.78.8-2.07 0-2.86zM5.41 20L4 18.59l7.72-7.72 1.47 1.35L5.41 20z\"/>\n",
              "  </svg>\n",
              "      </button>\n",
              "      \n",
              "  <style>\n",
              "    .colab-df-container {\n",
              "      display:flex;\n",
              "      flex-wrap:wrap;\n",
              "      gap: 12px;\n",
              "    }\n",
              "\n",
              "    .colab-df-convert {\n",
              "      background-color: #E8F0FE;\n",
              "      border: none;\n",
              "      border-radius: 50%;\n",
              "      cursor: pointer;\n",
              "      display: none;\n",
              "      fill: #1967D2;\n",
              "      height: 32px;\n",
              "      padding: 0 0 0 0;\n",
              "      width: 32px;\n",
              "    }\n",
              "\n",
              "    .colab-df-convert:hover {\n",
              "      background-color: #E2EBFA;\n",
              "      box-shadow: 0px 1px 2px rgba(60, 64, 67, 0.3), 0px 1px 3px 1px rgba(60, 64, 67, 0.15);\n",
              "      fill: #174EA6;\n",
              "    }\n",
              "\n",
              "    [theme=dark] .colab-df-convert {\n",
              "      background-color: #3B4455;\n",
              "      fill: #D2E3FC;\n",
              "    }\n",
              "\n",
              "    [theme=dark] .colab-df-convert:hover {\n",
              "      background-color: #434B5C;\n",
              "      box-shadow: 0px 1px 3px 1px rgba(0, 0, 0, 0.15);\n",
              "      filter: drop-shadow(0px 1px 2px rgba(0, 0, 0, 0.3));\n",
              "      fill: #FFFFFF;\n",
              "    }\n",
              "  </style>\n",
              "\n",
              "      <script>\n",
              "        const buttonEl =\n",
              "          document.querySelector('#df-87d2e07e-b8b5-4393-96d3-7ed9c24007a3 button.colab-df-convert');\n",
              "        buttonEl.style.display =\n",
              "          google.colab.kernel.accessAllowed ? 'block' : 'none';\n",
              "\n",
              "        async function convertToInteractive(key) {\n",
              "          const element = document.querySelector('#df-87d2e07e-b8b5-4393-96d3-7ed9c24007a3');\n",
              "          const dataTable =\n",
              "            await google.colab.kernel.invokeFunction('convertToInteractive',\n",
              "                                                     [key], {});\n",
              "          if (!dataTable) return;\n",
              "\n",
              "          const docLinkHtml = 'Like what you see? Visit the ' +\n",
              "            '<a target=\"_blank\" href=https://colab.research.google.com/notebooks/data_table.ipynb>data table notebook</a>'\n",
              "            + ' to learn more about interactive tables.';\n",
              "          element.innerHTML = '';\n",
              "          dataTable['output_type'] = 'display_data';\n",
              "          await google.colab.output.renderOutput(dataTable, element);\n",
              "          const docLink = document.createElement('div');\n",
              "          docLink.innerHTML = docLinkHtml;\n",
              "          element.appendChild(docLink);\n",
              "        }\n",
              "      </script>\n",
              "    </div>\n",
              "  </div>\n",
              "  "
            ]
          },
          "metadata": {},
          "execution_count": 69
        }
      ]
    },
    {
      "cell_type": "code",
      "source": [
        "cer_list[cer_list['Cer_abydos'] < 0.1]"
      ],
      "metadata": {
        "colab": {
          "base_uri": "https://localhost:8080/",
          "height": 423
        },
        "id": "Kfln_gFrbyqQ",
        "outputId": "5dbb53bc-a310-4f76-f872-d76047818acb"
      },
      "execution_count": 70,
      "outputs": [
        {
          "output_type": "execute_result",
          "data": {
            "text/plain": [
              "               Prediction_ipa                 True_ipa    Cer  Cer_abydos\n",
              "0              navaɡejʂendror           nævəɡejʃəndɹɔɹ  0.500       0.040\n",
              "3                       botom                    bɑtəm  0.400       0.042\n",
              "4                  nevaɡejʂin               nævəɡejʃən  0.400       0.044\n",
              "6     androitunifʲitsirovalʲi  ændɹojdunifʲitsirovalʲi  0.167       0.017\n",
              "9                    vandrued                 vændɹojd  0.500       0.052\n",
              "...                       ...                      ...    ...         ...\n",
              "1579                       ob                       ɑb  0.500       0.065\n",
              "1585                  noutbuk                  nowtbʊk  0.286       0.028\n",
              "1587                olponskat                owpənskæd  0.444       0.054\n",
              "1591                  kompouz                  kəmpowz  0.286       0.030\n",
              "1594             obkampatsʲim             æpkɑmpɑtθejm  0.583       0.093\n",
              "\n",
              "[164 rows x 4 columns]"
            ],
            "text/html": [
              "\n",
              "  <div id=\"df-eb2ce8cf-ceb8-4bdb-bf5d-246538279d2a\">\n",
              "    <div class=\"colab-df-container\">\n",
              "      <div>\n",
              "<style scoped>\n",
              "    .dataframe tbody tr th:only-of-type {\n",
              "        vertical-align: middle;\n",
              "    }\n",
              "\n",
              "    .dataframe tbody tr th {\n",
              "        vertical-align: top;\n",
              "    }\n",
              "\n",
              "    .dataframe thead th {\n",
              "        text-align: right;\n",
              "    }\n",
              "</style>\n",
              "<table border=\"1\" class=\"dataframe\">\n",
              "  <thead>\n",
              "    <tr style=\"text-align: right;\">\n",
              "      <th></th>\n",
              "      <th>Prediction_ipa</th>\n",
              "      <th>True_ipa</th>\n",
              "      <th>Cer</th>\n",
              "      <th>Cer_abydos</th>\n",
              "    </tr>\n",
              "  </thead>\n",
              "  <tbody>\n",
              "    <tr>\n",
              "      <th>0</th>\n",
              "      <td>navaɡejʂendror</td>\n",
              "      <td>nævəɡejʃəndɹɔɹ</td>\n",
              "      <td>0.500</td>\n",
              "      <td>0.040</td>\n",
              "    </tr>\n",
              "    <tr>\n",
              "      <th>3</th>\n",
              "      <td>botom</td>\n",
              "      <td>bɑtəm</td>\n",
              "      <td>0.400</td>\n",
              "      <td>0.042</td>\n",
              "    </tr>\n",
              "    <tr>\n",
              "      <th>4</th>\n",
              "      <td>nevaɡejʂin</td>\n",
              "      <td>nævəɡejʃən</td>\n",
              "      <td>0.400</td>\n",
              "      <td>0.044</td>\n",
              "    </tr>\n",
              "    <tr>\n",
              "      <th>6</th>\n",
              "      <td>androitunifʲitsirovalʲi</td>\n",
              "      <td>ændɹojdunifʲitsirovalʲi</td>\n",
              "      <td>0.167</td>\n",
              "      <td>0.017</td>\n",
              "    </tr>\n",
              "    <tr>\n",
              "      <th>9</th>\n",
              "      <td>vandrued</td>\n",
              "      <td>vændɹojd</td>\n",
              "      <td>0.500</td>\n",
              "      <td>0.052</td>\n",
              "    </tr>\n",
              "    <tr>\n",
              "      <th>...</th>\n",
              "      <td>...</td>\n",
              "      <td>...</td>\n",
              "      <td>...</td>\n",
              "      <td>...</td>\n",
              "    </tr>\n",
              "    <tr>\n",
              "      <th>1579</th>\n",
              "      <td>ob</td>\n",
              "      <td>ɑb</td>\n",
              "      <td>0.500</td>\n",
              "      <td>0.065</td>\n",
              "    </tr>\n",
              "    <tr>\n",
              "      <th>1585</th>\n",
              "      <td>noutbuk</td>\n",
              "      <td>nowtbʊk</td>\n",
              "      <td>0.286</td>\n",
              "      <td>0.028</td>\n",
              "    </tr>\n",
              "    <tr>\n",
              "      <th>1587</th>\n",
              "      <td>olponskat</td>\n",
              "      <td>owpənskæd</td>\n",
              "      <td>0.444</td>\n",
              "      <td>0.054</td>\n",
              "    </tr>\n",
              "    <tr>\n",
              "      <th>1591</th>\n",
              "      <td>kompouz</td>\n",
              "      <td>kəmpowz</td>\n",
              "      <td>0.286</td>\n",
              "      <td>0.030</td>\n",
              "    </tr>\n",
              "    <tr>\n",
              "      <th>1594</th>\n",
              "      <td>obkampatsʲim</td>\n",
              "      <td>æpkɑmpɑtθejm</td>\n",
              "      <td>0.583</td>\n",
              "      <td>0.093</td>\n",
              "    </tr>\n",
              "  </tbody>\n",
              "</table>\n",
              "<p>164 rows × 4 columns</p>\n",
              "</div>\n",
              "      <button class=\"colab-df-convert\" onclick=\"convertToInteractive('df-eb2ce8cf-ceb8-4bdb-bf5d-246538279d2a')\"\n",
              "              title=\"Convert this dataframe to an interactive table.\"\n",
              "              style=\"display:none;\">\n",
              "        \n",
              "  <svg xmlns=\"http://www.w3.org/2000/svg\" height=\"24px\"viewBox=\"0 0 24 24\"\n",
              "       width=\"24px\">\n",
              "    <path d=\"M0 0h24v24H0V0z\" fill=\"none\"/>\n",
              "    <path d=\"M18.56 5.44l.94 2.06.94-2.06 2.06-.94-2.06-.94-.94-2.06-.94 2.06-2.06.94zm-11 1L8.5 8.5l.94-2.06 2.06-.94-2.06-.94L8.5 2.5l-.94 2.06-2.06.94zm10 10l.94 2.06.94-2.06 2.06-.94-2.06-.94-.94-2.06-.94 2.06-2.06.94z\"/><path d=\"M17.41 7.96l-1.37-1.37c-.4-.4-.92-.59-1.43-.59-.52 0-1.04.2-1.43.59L10.3 9.45l-7.72 7.72c-.78.78-.78 2.05 0 2.83L4 21.41c.39.39.9.59 1.41.59.51 0 1.02-.2 1.41-.59l7.78-7.78 2.81-2.81c.8-.78.8-2.07 0-2.86zM5.41 20L4 18.59l7.72-7.72 1.47 1.35L5.41 20z\"/>\n",
              "  </svg>\n",
              "      </button>\n",
              "      \n",
              "  <style>\n",
              "    .colab-df-container {\n",
              "      display:flex;\n",
              "      flex-wrap:wrap;\n",
              "      gap: 12px;\n",
              "    }\n",
              "\n",
              "    .colab-df-convert {\n",
              "      background-color: #E8F0FE;\n",
              "      border: none;\n",
              "      border-radius: 50%;\n",
              "      cursor: pointer;\n",
              "      display: none;\n",
              "      fill: #1967D2;\n",
              "      height: 32px;\n",
              "      padding: 0 0 0 0;\n",
              "      width: 32px;\n",
              "    }\n",
              "\n",
              "    .colab-df-convert:hover {\n",
              "      background-color: #E2EBFA;\n",
              "      box-shadow: 0px 1px 2px rgba(60, 64, 67, 0.3), 0px 1px 3px 1px rgba(60, 64, 67, 0.15);\n",
              "      fill: #174EA6;\n",
              "    }\n",
              "\n",
              "    [theme=dark] .colab-df-convert {\n",
              "      background-color: #3B4455;\n",
              "      fill: #D2E3FC;\n",
              "    }\n",
              "\n",
              "    [theme=dark] .colab-df-convert:hover {\n",
              "      background-color: #434B5C;\n",
              "      box-shadow: 0px 1px 3px 1px rgba(0, 0, 0, 0.15);\n",
              "      filter: drop-shadow(0px 1px 2px rgba(0, 0, 0, 0.3));\n",
              "      fill: #FFFFFF;\n",
              "    }\n",
              "  </style>\n",
              "\n",
              "      <script>\n",
              "        const buttonEl =\n",
              "          document.querySelector('#df-eb2ce8cf-ceb8-4bdb-bf5d-246538279d2a button.colab-df-convert');\n",
              "        buttonEl.style.display =\n",
              "          google.colab.kernel.accessAllowed ? 'block' : 'none';\n",
              "\n",
              "        async function convertToInteractive(key) {\n",
              "          const element = document.querySelector('#df-eb2ce8cf-ceb8-4bdb-bf5d-246538279d2a');\n",
              "          const dataTable =\n",
              "            await google.colab.kernel.invokeFunction('convertToInteractive',\n",
              "                                                     [key], {});\n",
              "          if (!dataTable) return;\n",
              "\n",
              "          const docLinkHtml = 'Like what you see? Visit the ' +\n",
              "            '<a target=\"_blank\" href=https://colab.research.google.com/notebooks/data_table.ipynb>data table notebook</a>'\n",
              "            + ' to learn more about interactive tables.';\n",
              "          element.innerHTML = '';\n",
              "          dataTable['output_type'] = 'display_data';\n",
              "          await google.colab.output.renderOutput(dataTable, element);\n",
              "          const docLink = document.createElement('div');\n",
              "          docLink.innerHTML = docLinkHtml;\n",
              "          element.appendChild(docLink);\n",
              "        }\n",
              "      </script>\n",
              "    </div>\n",
              "  </div>\n",
              "  "
            ]
          },
          "metadata": {},
          "execution_count": 70
        }
      ]
    },
    {
      "cell_type": "code",
      "source": [
        "cer_list[cer_list[\"Cer\"]> 5].info()"
      ],
      "metadata": {
        "colab": {
          "base_uri": "https://localhost:8080/"
        },
        "id": "f9iq2Hm0uwwj",
        "outputId": "4aa284cd-4f1f-4d56-9f9b-418349dde7c2"
      },
      "execution_count": 71,
      "outputs": [
        {
          "output_type": "stream",
          "name": "stdout",
          "text": [
            "<class 'pandas.core.frame.DataFrame'>\n",
            "Int64Index: 32 entries, 72 to 1440\n",
            "Data columns (total 4 columns):\n",
            " #   Column          Non-Null Count  Dtype  \n",
            "---  ------          --------------  -----  \n",
            " 0   Prediction_ipa  32 non-null     object \n",
            " 1   True_ipa        32 non-null     object \n",
            " 2   Cer             32 non-null     float64\n",
            " 3   Cer_abydos      32 non-null     float64\n",
            "dtypes: float64(2), object(2)\n",
            "memory usage: 1.2+ KB\n"
          ]
        }
      ]
    },
    {
      "cell_type": "code",
      "source": [
        "cer_list['Cer'].plot.hist(grid=True, bins=10, rwidth=0.9,\n",
        "                   color='#607c8e')"
      ],
      "metadata": {
        "colab": {
          "base_uri": "https://localhost:8080/",
          "height": 282
        },
        "id": "6VIIc9LIrjlo",
        "outputId": "f3e3b7dd-4feb-4550-c071-d339a99bb474"
      },
      "execution_count": 72,
      "outputs": [
        {
          "output_type": "execute_result",
          "data": {
            "text/plain": [
              "<matplotlib.axes._subplots.AxesSubplot at 0x7f88ef2d2110>"
            ]
          },
          "metadata": {},
          "execution_count": 72
        },
        {
          "output_type": "display_data",
          "data": {
            "text/plain": [
              "<Figure size 432x288 with 1 Axes>"
            ],
            "image/png": "[encoded data removed]"
          },
          "metadata": {
            "needs_background": "light"
          }
        }
      ]
    },
    {
      "cell_type": "code",
      "source": [
        "cer_list['Cer_abydos'].plot.hist(grid=True, bins=40, rwidth=0.8,\n",
        "                   color='#607c8e')"
      ],
      "metadata": {
        "colab": {
          "base_uri": "https://localhost:8080/",
          "height": 282
        },
        "id": "yCOYStPtrpEo",
        "outputId": "7930977f-254b-439d-e913-a1765b21be3d"
      },
      "execution_count": 73,
      "outputs": [
        {
          "output_type": "execute_result",
          "data": {
            "text/plain": [
              "<matplotlib.axes._subplots.AxesSubplot at 0x7f88ef3517d0>"
            ]
          },
          "metadata": {},
          "execution_count": 73
        },
        {
          "output_type": "display_data",
          "data": {
            "text/plain": [
              "<Figure size 432x288 with 1 Axes>"
            ],
            "image/png": "[encoded data removed]"
          },
          "metadata": {
            "needs_background": "light"
          }
        }
      ]
    },
    {
      "cell_type": "markdown",
      "source": [
        "# Creating dfs"
      ],
      "metadata": {
        "id": "BlzeeFPGJMyE"
      }
    },
    {
      "cell_type": "code",
      "source": [
        "import pandas as pd\n",
        "def make_df(file, numb = 1):\n",
        "    with open(file) as f1:\n",
        "        read = f1.readlines()\n",
        "        pred = []\n",
        "        true = []\n",
        "        for sent in read:\n",
        "            if numb ==1:\n",
        "                #print(sent)\n",
        "                pred_sent = sent.split('|||')[0].replace('\\n', '')\n",
        "                true_sent = sent.split('|||')[1]\n",
        "                #print(pred_sent)\n",
        "                pred.append(pred_sent)\n",
        "                true.append(true_sent)\n",
        "            else:\n",
        "                #print(sent)\n",
        "                pred_sent = sent.split('|||')[1].replace('\\n', '')\n",
        "                true_sent = sent.split('|||')[0]\n",
        "                #print(pred_sent)\n",
        "                pred.append(pred_sent)\n",
        "                true.append(true_sent)\n",
        "        list_of_tuples = list(zip(pred, true)) \n",
        "        df = pd.DataFrame(list_of_tuples,\n",
        "                  columns = ['Prediction', 'True_text']) \n",
        "        return df, pred,true"
      ],
      "metadata": {
        "id": "sumOoFurIg6e"
      },
      "execution_count": 74,
      "outputs": []
    },
    {
      "cell_type": "code",
      "source": [
        "def find_cer_abydos_sents(pred, true):\n",
        "    li_pred_ipa = []\n",
        "    li_true_ipa = []\n",
        "    for elem in pred:\n",
        "        conv = ''\n",
        "        for i in range(len(elem)):\n",
        "        #print(elem)\n",
        "            conv += epi.transliterate(elem[i])+' '\n",
        "        li_pred_ipa.append(conv)\n",
        "    for elem in true:\n",
        "        #elem = elem.split()\n",
        "        conv= ''\n",
        "        for i in range(len(elem)):\n",
        "            if re.search(r'[a-z]', elem[i]):\n",
        "                conv += epi2.transliterate(elem[i]) + ' '\n",
        "            else:\n",
        "                conv += epi.transliterate(elem[i]) + ' '\n",
        "        li_true_ipa.append(conv)\n",
        "    return li_pred_ipa, li_true_ipa"
      ],
      "metadata": {
        "id": "Mh-rhk5j44hN"
      },
      "execution_count": 90,
      "outputs": []
    },
    {
      "cell_type": "code",
      "source": [
        "t = make_df('/content/fast_align/build/preproc_985.ru-ru')"
      ],
      "metadata": {
        "id": "tVpyzqRpQ3bB"
      },
      "execution_count": 117,
      "outputs": []
    },
    {
      "cell_type": "code",
      "source": [
        "#nævəɡejʃən dɹɔɹ bokovaa panelʲ navʲiɡat͡sii \n",
        "#navaɡejʂendror bokovaa panelʲ navʲiɡat͡sii"
      ],
      "metadata": {
        "id": "3FzS2W759LeA"
      },
      "execution_count": null,
      "outputs": []
    },
    {
      "cell_type": "code",
      "source": [
        "preproc_985_conv[2]"
      ],
      "metadata": {
        "id": "e9nhC99Jxcga"
      },
      "execution_count": null,
      "outputs": []
    },
    {
      "cell_type": "code",
      "source": [
        "ipa_sents =find_cer_abydos_sents(preproc_985_conv[2], preproc_985_conv[3])"
      ],
      "metadata": {
        "id": "2JkVdrBn51a9"
      },
      "execution_count": 91,
      "outputs": []
    },
    {
      "cell_type": "code",
      "source": [
        "len(ipa_sents[0])"
      ],
      "metadata": {
        "colab": {
          "base_uri": "https://localhost:8080/"
        },
        "id": "OkJLHePd-OPx",
        "outputId": "d1a2d5e3-230b-4bb2-ae87-cfc8a6027b2b"
      },
      "execution_count": 92,
      "outputs": [
        {
          "output_type": "execute_result",
          "data": {
            "text/plain": [
              "985"
            ]
          },
          "metadata": {},
          "execution_count": 92
        }
      ]
    },
    {
      "cell_type": "code",
      "source": [
        "list_of_tuples1 = list(zip(ipa_sents[0], ipa_sents[1]))"
      ],
      "metadata": {
        "id": "3eZ7Ur6g-Xzn"
      },
      "execution_count": 93,
      "outputs": []
    },
    {
      "cell_type": "code",
      "source": [
        "df = pd.DataFrame(list_of_tuples1,\n",
        "                  columns = ['Prediction', 'True_text']) "
      ],
      "metadata": {
        "id": "vP7qGGL7-WOC"
      },
      "execution_count": 94,
      "outputs": []
    },
    {
      "cell_type": "code",
      "source": [
        "df"
      ],
      "metadata": {
        "colab": {
          "base_uri": "https://localhost:8080/",
          "height": 423
        },
        "id": "kk8wjgQk-nH3",
        "outputId": "4787baf6-9a4b-4af4-afdc-e3320f1e4202"
      },
      "execution_count": 95,
      "outputs": [
        {
          "output_type": "execute_result",
          "data": {
            "text/plain": [
              "                                            Prediction  \\\n",
              "0    navaɡejʂendror navaɡejʂendror bokovaa panelʲ n...   \n",
              "1    nevaɡej ʂinba pʲerʲeimʲanovannɨj botom nevaɡej...   \n",
              "2    s matʲirʲil trʲi v androitunifʲit͡sirovalʲi an...   \n",
              "3    vandrued vandrued vsʲu ʒiznʲ bɨlo dva sposoba ...   \n",
              "4    pravda na planʂetax etot dʲialoɡ budʲet ne pol...   \n",
              "..                                                 ...   \n",
              "980  v lʲeɡasʲi proektax obɨt͡ɕʲna etopkampa etopka...   \n",
              "981         poetomu nuʒen most mʲeʒdu dvumʲa tʲemamʲi    \n",
              "982  v sostavʲe kampanost jestʲ obkampatsʲim udobna...   \n",
              "983  isxodnikʲi prostɨe ix moʒno dopolnitʲ ilʲi sdʲ...   \n",
              "984  jeslʲi proekt uʒe ispolʲzuet matʲerʲial matʲer...   \n",
              "\n",
              "                                             True_text  \n",
              "0         nævəɡejʃən dɹɔɹ bokovaa panelʲ navʲiɡat͡sii   \n",
              "1    nævəɡejʃən bɑɹ pʲerʲeimʲenovannɨj bɑtəm nævəɡe...  \n",
              "2    s mətɪɹiəl 3 v ændɹojd unifʲit͡sirovalʲi nejmʲ...  \n",
              "3    v ændɹojd vsʲu ʒiznʲ bɨlo dva sposoba postroit...  \n",
              "4    pravda na planʂetax etot dʲialoɡ budʲet ne pol...  \n",
              "..                                                 ...  \n",
              "980  v lʲeɡasʲi proektax obɨt͡ɕʲno eto æpkɑmpæt tʲe...  \n",
              "981         poetomu nuʒen most mʲeʒdu dvumʲa tʲemamʲi   \n",
              "982  v sostavʲe əkʌmpənəst jestʲ æpkɑmpɑtθejm udobn...  \n",
              "983  isxodnikʲi prostɨe ix moʒno dopolnitʲ ilʲi sdʲ...  \n",
              "984  jeslʲi proekt uʒe ispolʲzuet mətɪɹiəl dɪzajn θ...  \n",
              "\n",
              "[985 rows x 2 columns]"
            ],
            "text/html": [
              "\n",
              "  <div id=\"df-fb76eb5c-128a-4379-b0a9-756d5d188378\">\n",
              "    <div class=\"colab-df-container\">\n",
              "      <div>\n",
              "<style scoped>\n",
              "    .dataframe tbody tr th:only-of-type {\n",
              "        vertical-align: middle;\n",
              "    }\n",
              "\n",
              "    .dataframe tbody tr th {\n",
              "        vertical-align: top;\n",
              "    }\n",
              "\n",
              "    .dataframe thead th {\n",
              "        text-align: right;\n",
              "    }\n",
              "</style>\n",
              "<table border=\"1\" class=\"dataframe\">\n",
              "  <thead>\n",
              "    <tr style=\"text-align: right;\">\n",
              "      <th></th>\n",
              "      <th>Prediction</th>\n",
              "      <th>True_text</th>\n",
              "    </tr>\n",
              "  </thead>\n",
              "  <tbody>\n",
              "    <tr>\n",
              "      <th>0</th>\n",
              "      <td>navaɡejʂendror navaɡejʂendror bokovaa panelʲ n...</td>\n",
              "      <td>nævəɡejʃən dɹɔɹ bokovaa panelʲ navʲiɡat͡sii</td>\n",
              "    </tr>\n",
              "    <tr>\n",
              "      <th>1</th>\n",
              "      <td>nevaɡej ʂinba pʲerʲeimʲanovannɨj botom nevaɡej...</td>\n",
              "      <td>nævəɡejʃən bɑɹ pʲerʲeimʲenovannɨj bɑtəm nævəɡe...</td>\n",
              "    </tr>\n",
              "    <tr>\n",
              "      <th>2</th>\n",
              "      <td>s matʲirʲil trʲi v androitunifʲit͡sirovalʲi an...</td>\n",
              "      <td>s mətɪɹiəl 3 v ændɹojd unifʲit͡sirovalʲi nejmʲ...</td>\n",
              "    </tr>\n",
              "    <tr>\n",
              "      <th>3</th>\n",
              "      <td>vandrued vandrued vsʲu ʒiznʲ bɨlo dva sposoba ...</td>\n",
              "      <td>v ændɹojd vsʲu ʒiznʲ bɨlo dva sposoba postroit...</td>\n",
              "    </tr>\n",
              "    <tr>\n",
              "      <th>4</th>\n",
              "      <td>pravda na planʂetax etot dʲialoɡ budʲet ne pol...</td>\n",
              "      <td>pravda na planʂetax etot dʲialoɡ budʲet ne pol...</td>\n",
              "    </tr>\n",
              "    <tr>\n",
              "      <th>...</th>\n",
              "      <td>...</td>\n",
              "      <td>...</td>\n",
              "    </tr>\n",
              "    <tr>\n",
              "      <th>980</th>\n",
              "      <td>v lʲeɡasʲi proektax obɨt͡ɕʲna etopkampa etopka...</td>\n",
              "      <td>v lʲeɡasʲi proektax obɨt͡ɕʲno eto æpkɑmpæt tʲe...</td>\n",
              "    </tr>\n",
              "    <tr>\n",
              "      <th>981</th>\n",
              "      <td>poetomu nuʒen most mʲeʒdu dvumʲa tʲemamʲi</td>\n",
              "      <td>poetomu nuʒen most mʲeʒdu dvumʲa tʲemamʲi</td>\n",
              "    </tr>\n",
              "    <tr>\n",
              "      <th>982</th>\n",
              "      <td>v sostavʲe kampanost jestʲ obkampatsʲim udobna...</td>\n",
              "      <td>v sostavʲe əkʌmpənəst jestʲ æpkɑmpɑtθejm udobn...</td>\n",
              "    </tr>\n",
              "    <tr>\n",
              "      <th>983</th>\n",
              "      <td>isxodnikʲi prostɨe ix moʒno dopolnitʲ ilʲi sdʲ...</td>\n",
              "      <td>isxodnikʲi prostɨe ix moʒno dopolnitʲ ilʲi sdʲ...</td>\n",
              "    </tr>\n",
              "    <tr>\n",
              "      <th>984</th>\n",
              "      <td>jeslʲi proekt uʒe ispolʲzuet matʲerʲial matʲer...</td>\n",
              "      <td>jeslʲi proekt uʒe ispolʲzuet mətɪɹiəl dɪzajn θ...</td>\n",
              "    </tr>\n",
              "  </tbody>\n",
              "</table>\n",
              "<p>985 rows × 2 columns</p>\n",
              "</div>\n",
              "      <button class=\"colab-df-convert\" onclick=\"convertToInteractive('df-fb76eb5c-128a-4379-b0a9-756d5d188378')\"\n",
              "              title=\"Convert this dataframe to an interactive table.\"\n",
              "              style=\"display:none;\">\n",
              "        \n",
              "  <svg xmlns=\"http://www.w3.org/2000/svg\" height=\"24px\"viewBox=\"0 0 24 24\"\n",
              "       width=\"24px\">\n",
              "    <path d=\"M0 0h24v24H0V0z\" fill=\"none\"/>\n",
              "    <path d=\"M18.56 5.44l.94 2.06.94-2.06 2.06-.94-2.06-.94-.94-2.06-.94 2.06-2.06.94zm-11 1L8.5 8.5l.94-2.06 2.06-.94-2.06-.94L8.5 2.5l-.94 2.06-2.06.94zm10 10l.94 2.06.94-2.06 2.06-.94-2.06-.94-.94-2.06-.94 2.06-2.06.94z\"/><path d=\"M17.41 7.96l-1.37-1.37c-.4-.4-.92-.59-1.43-.59-.52 0-1.04.2-1.43.59L10.3 9.45l-7.72 7.72c-.78.78-.78 2.05 0 2.83L4 21.41c.39.39.9.59 1.41.59.51 0 1.02-.2 1.41-.59l7.78-7.78 2.81-2.81c.8-.78.8-2.07 0-2.86zM5.41 20L4 18.59l7.72-7.72 1.47 1.35L5.41 20z\"/>\n",
              "  </svg>\n",
              "      </button>\n",
              "      \n",
              "  <style>\n",
              "    .colab-df-container {\n",
              "      display:flex;\n",
              "      flex-wrap:wrap;\n",
              "      gap: 12px;\n",
              "    }\n",
              "\n",
              "    .colab-df-convert {\n",
              "      background-color: #E8F0FE;\n",
              "      border: none;\n",
              "      border-radius: 50%;\n",
              "      cursor: pointer;\n",
              "      display: none;\n",
              "      fill: #1967D2;\n",
              "      height: 32px;\n",
              "      padding: 0 0 0 0;\n",
              "      width: 32px;\n",
              "    }\n",
              "\n",
              "    .colab-df-convert:hover {\n",
              "      background-color: #E2EBFA;\n",
              "      box-shadow: 0px 1px 2px rgba(60, 64, 67, 0.3), 0px 1px 3px 1px rgba(60, 64, 67, 0.15);\n",
              "      fill: #174EA6;\n",
              "    }\n",
              "\n",
              "    [theme=dark] .colab-df-convert {\n",
              "      background-color: #3B4455;\n",
              "      fill: #D2E3FC;\n",
              "    }\n",
              "\n",
              "    [theme=dark] .colab-df-convert:hover {\n",
              "      background-color: #434B5C;\n",
              "      box-shadow: 0px 1px 3px 1px rgba(0, 0, 0, 0.15);\n",
              "      filter: drop-shadow(0px 1px 2px rgba(0, 0, 0, 0.3));\n",
              "      fill: #FFFFFF;\n",
              "    }\n",
              "  </style>\n",
              "\n",
              "      <script>\n",
              "        const buttonEl =\n",
              "          document.querySelector('#df-fb76eb5c-128a-4379-b0a9-756d5d188378 button.colab-df-convert');\n",
              "        buttonEl.style.display =\n",
              "          google.colab.kernel.accessAllowed ? 'block' : 'none';\n",
              "\n",
              "        async function convertToInteractive(key) {\n",
              "          const element = document.querySelector('#df-fb76eb5c-128a-4379-b0a9-756d5d188378');\n",
              "          const dataTable =\n",
              "            await google.colab.kernel.invokeFunction('convertToInteractive',\n",
              "                                                     [key], {});\n",
              "          if (!dataTable) return;\n",
              "\n",
              "          const docLinkHtml = 'Like what you see? Visit the ' +\n",
              "            '<a target=\"_blank\" href=https://colab.research.google.com/notebooks/data_table.ipynb>data table notebook</a>'\n",
              "            + ' to learn more about interactive tables.';\n",
              "          element.innerHTML = '';\n",
              "          dataTable['output_type'] = 'display_data';\n",
              "          await google.colab.output.renderOutput(dataTable, element);\n",
              "          const docLink = document.createElement('div');\n",
              "          docLink.innerHTML = docLinkHtml;\n",
              "          element.appendChild(docLink);\n",
              "        }\n",
              "      </script>\n",
              "    </div>\n",
              "  </div>\n",
              "  "
            ]
          },
          "metadata": {},
          "execution_count": 95
        }
      ]
    },
    {
      "cell_type": "code",
      "source": [
        "cer_sents_ipa = get_cer(ipa_sents)"
      ],
      "metadata": {
        "id": "Sm3fkGcZ-vv8"
      },
      "execution_count": 96,
      "outputs": []
    },
    {
      "cell_type": "code",
      "source": [
        "def get_abydos_cer(s):\n",
        "    errors = []\n",
        "    for i in range(len(s[0])):\n",
        "        true_text = remove_affricates(s[0][i])\n",
        "        prediction = remove_affricates(s[1][i])\n",
        "        cer = round(cmp.dist(prediction, true_text),3)\n",
        "        errors.append(cer)\n",
        "    return errors"
      ],
      "metadata": {
        "id": "jlbwE6hXCheH"
      },
      "execution_count": 97,
      "outputs": []
    },
    {
      "cell_type": "code",
      "source": [
        "cer_ab_sents = get_abydos_cer(ipa_sents)"
      ],
      "metadata": {
        "id": "iHUvb11yDUml"
      },
      "execution_count": 98,
      "outputs": []
    },
    {
      "cell_type": "code",
      "source": [
        "df['Cer'] = cer_sents_ipa\n",
        "df['Cer_abydos'] = cer_ab_sents"
      ],
      "metadata": {
        "id": "frdB4bHR_IQ0"
      },
      "execution_count": 99,
      "outputs": []
    },
    {
      "cell_type": "code",
      "source": [
        "def get_wer(s):\n",
        "    errors = []\n",
        "    for i in range(len(s[0])):\n",
        "        true_text = remove_affricates(s[0][i])\n",
        "        prediction = remove_affricates(s[1][i])\n",
        "        print(prediction, true_text)\n",
        "        werr= wer(prediction, true_text)\n",
        "        errors.append(werr)\n",
        "    return errors"
      ],
      "metadata": {
        "id": "6BIfJrtWJA1F"
      },
      "execution_count": 101,
      "outputs": []
    },
    {
      "cell_type": "code",
      "source": [
        "wer = get_wer(ipa_sents)"
      ],
      "metadata": {
        "id": "_5u1X85PIx7m"
      },
      "execution_count": null,
      "outputs": []
    },
    {
      "cell_type": "code",
      "source": [
        "df['Wer'] = wer"
      ],
      "metadata": {
        "id": "4APUv0gC_PNg"
      },
      "execution_count": 103,
      "outputs": []
    },
    {
      "cell_type": "code",
      "source": [
        "df"
      ],
      "metadata": {
        "colab": {
          "base_uri": "https://localhost:8080/",
          "height": 537
        },
        "id": "BOblKBYTJe05",
        "outputId": "aaddab8b-29fe-4433-e35a-d3c1fc051c0e"
      },
      "execution_count": 104,
      "outputs": [
        {
          "output_type": "execute_result",
          "data": {
            "text/plain": [
              "                                            Prediction  \\\n",
              "0    navaɡejʂendror navaɡejʂendror bokovaa panelʲ n...   \n",
              "1    nevaɡej ʂinba pʲerʲeimʲanovannɨj botom nevaɡej...   \n",
              "2    s matʲirʲil trʲi v androitunifʲit͡sirovalʲi an...   \n",
              "3    vandrued vandrued vsʲu ʒiznʲ bɨlo dva sposoba ...   \n",
              "4    pravda na planʂetax etot dʲialoɡ budʲet ne pol...   \n",
              "..                                                 ...   \n",
              "980  v lʲeɡasʲi proektax obɨt͡ɕʲna etopkampa etopka...   \n",
              "981         poetomu nuʒen most mʲeʒdu dvumʲa tʲemamʲi    \n",
              "982  v sostavʲe kampanost jestʲ obkampatsʲim udobna...   \n",
              "983  isxodnikʲi prostɨe ix moʒno dopolnitʲ ilʲi sdʲ...   \n",
              "984  jeslʲi proekt uʒe ispolʲzuet matʲerʲial matʲer...   \n",
              "\n",
              "                                             True_text    Cer  Cer_abydos  \\\n",
              "0         nævəɡejʃən dɹɔɹ bokovaa panelʲ navʲiɡat͡sii       -       0.256   \n",
              "1    nævəɡejʃən bɑɹ pʲerʲeimʲenovannɨj bɑtəm nævəɡe...      -       0.083   \n",
              "2    s mətɪɹiəl 3 v ændɹojd unifʲit͡sirovalʲi nejmʲ...      -       0.262   \n",
              "3    v ændɹojd vsʲu ʒiznʲ bɨlo dva sposoba postroit...      -       0.106   \n",
              "4    pravda na planʂetax etot dʲialoɡ budʲet ne pol...      -       0.151   \n",
              "..                                                 ...    ...         ...   \n",
              "980  v lʲeɡasʲi proektax obɨt͡ɕʲno eto æpkɑmpæt tʲe...      -       0.117   \n",
              "981         poetomu nuʒen most mʲeʒdu dvumʲa tʲemamʲi     0.0       0.000   \n",
              "982  v sostavʲe əkʌmpənəst jestʲ æpkɑmpɑtθejm udobn...      -       0.086   \n",
              "983  isxodnikʲi prostɨe ix moʒno dopolnitʲ ilʲi sdʲ...  0.008       0.002   \n",
              "984  jeslʲi proekt uʒe ispolʲzuet mətɪɹiəl dɪzajn θ...      -       0.256   \n",
              "\n",
              "          Wer  \n",
              "0    0.400000  \n",
              "1    1.000000  \n",
              "2    0.466667  \n",
              "3    0.266667  \n",
              "4    0.200000  \n",
              "..        ...  \n",
              "980  0.357143  \n",
              "981  0.000000  \n",
              "982  0.333333  \n",
              "983  0.058824  \n",
              "984  0.523810  \n",
              "\n",
              "[985 rows x 5 columns]"
            ],
            "text/html": [
              "\n",
              "  <div id=\"df-702c349a-dead-4799-ba96-6c8219b1c264\">\n",
              "    <div class=\"colab-df-container\">\n",
              "      <div>\n",
              "<style scoped>\n",
              "    .dataframe tbody tr th:only-of-type {\n",
              "        vertical-align: middle;\n",
              "    }\n",
              "\n",
              "    .dataframe tbody tr th {\n",
              "        vertical-align: top;\n",
              "    }\n",
              "\n",
              "    .dataframe thead th {\n",
              "        text-align: right;\n",
              "    }\n",
              "</style>\n",
              "<table border=\"1\" class=\"dataframe\">\n",
              "  <thead>\n",
              "    <tr style=\"text-align: right;\">\n",
              "      <th></th>\n",
              "      <th>Prediction</th>\n",
              "      <th>True_text</th>\n",
              "      <th>Cer</th>\n",
              "      <th>Cer_abydos</th>\n",
              "      <th>Wer</th>\n",
              "    </tr>\n",
              "  </thead>\n",
              "  <tbody>\n",
              "    <tr>\n",
              "      <th>0</th>\n",
              "      <td>navaɡejʂendror navaɡejʂendror bokovaa panelʲ n...</td>\n",
              "      <td>nævəɡejʃən dɹɔɹ bokovaa panelʲ navʲiɡat͡sii</td>\n",
              "      <td>-</td>\n",
              "      <td>0.256</td>\n",
              "      <td>0.400000</td>\n",
              "    </tr>\n",
              "    <tr>\n",
              "      <th>1</th>\n",
              "      <td>nevaɡej ʂinba pʲerʲeimʲanovannɨj botom nevaɡej...</td>\n",
              "      <td>nævəɡejʃən bɑɹ pʲerʲeimʲenovannɨj bɑtəm nævəɡe...</td>\n",
              "      <td>-</td>\n",
              "      <td>0.083</td>\n",
              "      <td>1.000000</td>\n",
              "    </tr>\n",
              "    <tr>\n",
              "      <th>2</th>\n",
              "      <td>s matʲirʲil trʲi v androitunifʲit͡sirovalʲi an...</td>\n",
              "      <td>s mətɪɹiəl 3 v ændɹojd unifʲit͡sirovalʲi nejmʲ...</td>\n",
              "      <td>-</td>\n",
              "      <td>0.262</td>\n",
              "      <td>0.466667</td>\n",
              "    </tr>\n",
              "    <tr>\n",
              "      <th>3</th>\n",
              "      <td>vandrued vandrued vsʲu ʒiznʲ bɨlo dva sposoba ...</td>\n",
              "      <td>v ændɹojd vsʲu ʒiznʲ bɨlo dva sposoba postroit...</td>\n",
              "      <td>-</td>\n",
              "      <td>0.106</td>\n",
              "      <td>0.266667</td>\n",
              "    </tr>\n",
              "    <tr>\n",
              "      <th>4</th>\n",
              "      <td>pravda na planʂetax etot dʲialoɡ budʲet ne pol...</td>\n",
              "      <td>pravda na planʂetax etot dʲialoɡ budʲet ne pol...</td>\n",
              "      <td>-</td>\n",
              "      <td>0.151</td>\n",
              "      <td>0.200000</td>\n",
              "    </tr>\n",
              "    <tr>\n",
              "      <th>...</th>\n",
              "      <td>...</td>\n",
              "      <td>...</td>\n",
              "      <td>...</td>\n",
              "      <td>...</td>\n",
              "      <td>...</td>\n",
              "    </tr>\n",
              "    <tr>\n",
              "      <th>980</th>\n",
              "      <td>v lʲeɡasʲi proektax obɨt͡ɕʲna etopkampa etopka...</td>\n",
              "      <td>v lʲeɡasʲi proektax obɨt͡ɕʲno eto æpkɑmpæt tʲe...</td>\n",
              "      <td>-</td>\n",
              "      <td>0.117</td>\n",
              "      <td>0.357143</td>\n",
              "    </tr>\n",
              "    <tr>\n",
              "      <th>981</th>\n",
              "      <td>poetomu nuʒen most mʲeʒdu dvumʲa tʲemamʲi</td>\n",
              "      <td>poetomu nuʒen most mʲeʒdu dvumʲa tʲemamʲi</td>\n",
              "      <td>0.0</td>\n",
              "      <td>0.000</td>\n",
              "      <td>0.000000</td>\n",
              "    </tr>\n",
              "    <tr>\n",
              "      <th>982</th>\n",
              "      <td>v sostavʲe kampanost jestʲ obkampatsʲim udobna...</td>\n",
              "      <td>v sostavʲe əkʌmpənəst jestʲ æpkɑmpɑtθejm udobn...</td>\n",
              "      <td>-</td>\n",
              "      <td>0.086</td>\n",
              "      <td>0.333333</td>\n",
              "    </tr>\n",
              "    <tr>\n",
              "      <th>983</th>\n",
              "      <td>isxodnikʲi prostɨe ix moʒno dopolnitʲ ilʲi sdʲ...</td>\n",
              "      <td>isxodnikʲi prostɨe ix moʒno dopolnitʲ ilʲi sdʲ...</td>\n",
              "      <td>0.008</td>\n",
              "      <td>0.002</td>\n",
              "      <td>0.058824</td>\n",
              "    </tr>\n",
              "    <tr>\n",
              "      <th>984</th>\n",
              "      <td>jeslʲi proekt uʒe ispolʲzuet matʲerʲial matʲer...</td>\n",
              "      <td>jeslʲi proekt uʒe ispolʲzuet mətɪɹiəl dɪzajn θ...</td>\n",
              "      <td>-</td>\n",
              "      <td>0.256</td>\n",
              "      <td>0.523810</td>\n",
              "    </tr>\n",
              "  </tbody>\n",
              "</table>\n",
              "<p>985 rows × 5 columns</p>\n",
              "</div>\n",
              "      <button class=\"colab-df-convert\" onclick=\"convertToInteractive('df-702c349a-dead-4799-ba96-6c8219b1c264')\"\n",
              "              title=\"Convert this dataframe to an interactive table.\"\n",
              "              style=\"display:none;\">\n",
              "        \n",
              "  <svg xmlns=\"http://www.w3.org/2000/svg\" height=\"24px\"viewBox=\"0 0 24 24\"\n",
              "       width=\"24px\">\n",
              "    <path d=\"M0 0h24v24H0V0z\" fill=\"none\"/>\n",
              "    <path d=\"M18.56 5.44l.94 2.06.94-2.06 2.06-.94-2.06-.94-.94-2.06-.94 2.06-2.06.94zm-11 1L8.5 8.5l.94-2.06 2.06-.94-2.06-.94L8.5 2.5l-.94 2.06-2.06.94zm10 10l.94 2.06.94-2.06 2.06-.94-2.06-.94-.94-2.06-.94 2.06-2.06.94z\"/><path d=\"M17.41 7.96l-1.37-1.37c-.4-.4-.92-.59-1.43-.59-.52 0-1.04.2-1.43.59L10.3 9.45l-7.72 7.72c-.78.78-.78 2.05 0 2.83L4 21.41c.39.39.9.59 1.41.59.51 0 1.02-.2 1.41-.59l7.78-7.78 2.81-2.81c.8-.78.8-2.07 0-2.86zM5.41 20L4 18.59l7.72-7.72 1.47 1.35L5.41 20z\"/>\n",
              "  </svg>\n",
              "      </button>\n",
              "      \n",
              "  <style>\n",
              "    .colab-df-container {\n",
              "      display:flex;\n",
              "      flex-wrap:wrap;\n",
              "      gap: 12px;\n",
              "    }\n",
              "\n",
              "    .colab-df-convert {\n",
              "      background-color: #E8F0FE;\n",
              "      border: none;\n",
              "      border-radius: 50%;\n",
              "      cursor: pointer;\n",
              "      display: none;\n",
              "      fill: #1967D2;\n",
              "      height: 32px;\n",
              "      padding: 0 0 0 0;\n",
              "      width: 32px;\n",
              "    }\n",
              "\n",
              "    .colab-df-convert:hover {\n",
              "      background-color: #E2EBFA;\n",
              "      box-shadow: 0px 1px 2px rgba(60, 64, 67, 0.3), 0px 1px 3px 1px rgba(60, 64, 67, 0.15);\n",
              "      fill: #174EA6;\n",
              "    }\n",
              "\n",
              "    [theme=dark] .colab-df-convert {\n",
              "      background-color: #3B4455;\n",
              "      fill: #D2E3FC;\n",
              "    }\n",
              "\n",
              "    [theme=dark] .colab-df-convert:hover {\n",
              "      background-color: #434B5C;\n",
              "      box-shadow: 0px 1px 3px 1px rgba(0, 0, 0, 0.15);\n",
              "      filter: drop-shadow(0px 1px 2px rgba(0, 0, 0, 0.3));\n",
              "      fill: #FFFFFF;\n",
              "    }\n",
              "  </style>\n",
              "\n",
              "      <script>\n",
              "        const buttonEl =\n",
              "          document.querySelector('#df-702c349a-dead-4799-ba96-6c8219b1c264 button.colab-df-convert');\n",
              "        buttonEl.style.display =\n",
              "          google.colab.kernel.accessAllowed ? 'block' : 'none';\n",
              "\n",
              "        async function convertToInteractive(key) {\n",
              "          const element = document.querySelector('#df-702c349a-dead-4799-ba96-6c8219b1c264');\n",
              "          const dataTable =\n",
              "            await google.colab.kernel.invokeFunction('convertToInteractive',\n",
              "                                                     [key], {});\n",
              "          if (!dataTable) return;\n",
              "\n",
              "          const docLinkHtml = 'Like what you see? Visit the ' +\n",
              "            '<a target=\"_blank\" href=https://colab.research.google.com/notebooks/data_table.ipynb>data table notebook</a>'\n",
              "            + ' to learn more about interactive tables.';\n",
              "          element.innerHTML = '';\n",
              "          dataTable['output_type'] = 'display_data';\n",
              "          await google.colab.output.renderOutput(dataTable, element);\n",
              "          const docLink = document.createElement('div');\n",
              "          docLink.innerHTML = docLinkHtml;\n",
              "          element.appendChild(docLink);\n",
              "        }\n",
              "      </script>\n",
              "    </div>\n",
              "  </div>\n",
              "  "
            ]
          },
          "metadata": {},
          "execution_count": 104
        }
      ]
    },
    {
      "cell_type": "code",
      "source": [
        "df.to_csv('/content/sents_ipa_cer.csv')"
      ],
      "metadata": {
        "id": "wu00eyhvEjCr"
      },
      "execution_count": 105,
      "outputs": []
    },
    {
      "cell_type": "code",
      "source": [
        "cer_preproc_1000_true = get_cer((preproc_985_conv[2], preproc_985_conv[3]))"
      ],
      "metadata": {
        "id": "5_TWXqo6QPyq"
      },
      "execution_count": 121,
      "outputs": []
    },
    {
      "cell_type": "code",
      "source": [
        "import pandas as pd\n",
        "def find_cer_only_eng(new_li_ipa_opp):\n",
        "    errors = []\n",
        "    errors2 = []\n",
        "    new_li_true = []\n",
        "    new_li_pred = []\n",
        "    for i in range(len(new_li_ipa_opp[0])):\n",
        "        true_text = new_li_ipa_opp[1][i]\n",
        "        prediction = new_li_ipa_opp[0][i]\n",
        "        error = round(cer(prediction, true_text),3)\n",
        "        pred = remove_affricates(prediction)\n",
        "        true = remove_affricates(true_text)\n",
        "        #print(pred, true)\n",
        "        error2 = round(cmp.dist(pred, true), 3)\n",
        "        errors.append(error)\n",
        "        errors2.append(error2)\n",
        "        new_li_true.append(true)\n",
        "        new_li_pred.append(pred)\n",
        "    print(len(errors))\n",
        "\n",
        "    list_of_tuples = list(zip(new_li_true, new_li_pred)) \n",
        "    df = pd.DataFrame(list_of_tuples,\n",
        "                  columns = ['True_text', 'Prediction'])\n",
        "    df['Cer'] = errors\n",
        "    df['Cer_abydos'] = errors2 \n",
        "    return df, errors"
      ],
      "metadata": {
        "id": "KlvCmDSgqlA7"
      },
      "execution_count": 108,
      "outputs": []
    },
    {
      "cell_type": "code",
      "source": [
        "df_ru, errors_ru = find_cer_only_eng(li_985_ru)"
      ],
      "metadata": {
        "id": "rfLWqkumKiTz"
      },
      "execution_count": null,
      "outputs": []
    },
    {
      "cell_type": "code",
      "source": [
        "df_ru"
      ],
      "metadata": {
        "colab": {
          "base_uri": "https://localhost:8080/",
          "height": 423
        },
        "id": "DFo7EjW78LHm",
        "outputId": "ae55fd35-02ab-424d-d117-0d157f2657c9"
      },
      "execution_count": 109,
      "outputs": [
        {
          "output_type": "execute_result",
          "data": {
            "text/plain": [
              "             True_text       Prediction    Cer  Cer_abydos\n",
              "0              боковая          боковая  0.000         0.0\n",
              "1               панель           панель  0.000         0.0\n",
              "2            навигации        навигации  0.000         0.0\n",
              "3      переименованный  переимянованный  0.067         0.0\n",
              "4                    с                с  0.000         0.0\n",
              "...                ...              ...    ...         ...\n",
              "11752         согласно         согласно  0.000         0.0\n",
              "11753     документации     документации  0.000         0.0\n",
              "11754             надо             надо  0.000         0.0\n",
              "11755     использовать     использовать  0.000         0.0\n",
              "11756               из               из  0.000         0.0\n",
              "\n",
              "[11757 rows x 4 columns]"
            ],
            "text/html": [
              "\n",
              "  <div id=\"df-dd9d4976-0c5a-4bad-ac73-3ef58eb5d81f\">\n",
              "    <div class=\"colab-df-container\">\n",
              "      <div>\n",
              "<style scoped>\n",
              "    .dataframe tbody tr th:only-of-type {\n",
              "        vertical-align: middle;\n",
              "    }\n",
              "\n",
              "    .dataframe tbody tr th {\n",
              "        vertical-align: top;\n",
              "    }\n",
              "\n",
              "    .dataframe thead th {\n",
              "        text-align: right;\n",
              "    }\n",
              "</style>\n",
              "<table border=\"1\" class=\"dataframe\">\n",
              "  <thead>\n",
              "    <tr style=\"text-align: right;\">\n",
              "      <th></th>\n",
              "      <th>True_text</th>\n",
              "      <th>Prediction</th>\n",
              "      <th>Cer</th>\n",
              "      <th>Cer_abydos</th>\n",
              "    </tr>\n",
              "  </thead>\n",
              "  <tbody>\n",
              "    <tr>\n",
              "      <th>0</th>\n",
              "      <td>боковая</td>\n",
              "      <td>боковая</td>\n",
              "      <td>0.000</td>\n",
              "      <td>0.0</td>\n",
              "    </tr>\n",
              "    <tr>\n",
              "      <th>1</th>\n",
              "      <td>панель</td>\n",
              "      <td>панель</td>\n",
              "      <td>0.000</td>\n",
              "      <td>0.0</td>\n",
              "    </tr>\n",
              "    <tr>\n",
              "      <th>2</th>\n",
              "      <td>навигации</td>\n",
              "      <td>навигации</td>\n",
              "      <td>0.000</td>\n",
              "      <td>0.0</td>\n",
              "    </tr>\n",
              "    <tr>\n",
              "      <th>3</th>\n",
              "      <td>переименованный</td>\n",
              "      <td>переимянованный</td>\n",
              "      <td>0.067</td>\n",
              "      <td>0.0</td>\n",
              "    </tr>\n",
              "    <tr>\n",
              "      <th>4</th>\n",
              "      <td>с</td>\n",
              "      <td>с</td>\n",
              "      <td>0.000</td>\n",
              "      <td>0.0</td>\n",
              "    </tr>\n",
              "    <tr>\n",
              "      <th>...</th>\n",
              "      <td>...</td>\n",
              "      <td>...</td>\n",
              "      <td>...</td>\n",
              "      <td>...</td>\n",
              "    </tr>\n",
              "    <tr>\n",
              "      <th>11752</th>\n",
              "      <td>согласно</td>\n",
              "      <td>согласно</td>\n",
              "      <td>0.000</td>\n",
              "      <td>0.0</td>\n",
              "    </tr>\n",
              "    <tr>\n",
              "      <th>11753</th>\n",
              "      <td>документации</td>\n",
              "      <td>документации</td>\n",
              "      <td>0.000</td>\n",
              "      <td>0.0</td>\n",
              "    </tr>\n",
              "    <tr>\n",
              "      <th>11754</th>\n",
              "      <td>надо</td>\n",
              "      <td>надо</td>\n",
              "      <td>0.000</td>\n",
              "      <td>0.0</td>\n",
              "    </tr>\n",
              "    <tr>\n",
              "      <th>11755</th>\n",
              "      <td>использовать</td>\n",
              "      <td>использовать</td>\n",
              "      <td>0.000</td>\n",
              "      <td>0.0</td>\n",
              "    </tr>\n",
              "    <tr>\n",
              "      <th>11756</th>\n",
              "      <td>из</td>\n",
              "      <td>из</td>\n",
              "      <td>0.000</td>\n",
              "      <td>0.0</td>\n",
              "    </tr>\n",
              "  </tbody>\n",
              "</table>\n",
              "<p>11757 rows × 4 columns</p>\n",
              "</div>\n",
              "      <button class=\"colab-df-convert\" onclick=\"convertToInteractive('df-dd9d4976-0c5a-4bad-ac73-3ef58eb5d81f')\"\n",
              "              title=\"Convert this dataframe to an interactive table.\"\n",
              "              style=\"display:none;\">\n",
              "        \n",
              "  <svg xmlns=\"http://www.w3.org/2000/svg\" height=\"24px\"viewBox=\"0 0 24 24\"\n",
              "       width=\"24px\">\n",
              "    <path d=\"M0 0h24v24H0V0z\" fill=\"none\"/>\n",
              "    <path d=\"M18.56 5.44l.94 2.06.94-2.06 2.06-.94-2.06-.94-.94-2.06-.94 2.06-2.06.94zm-11 1L8.5 8.5l.94-2.06 2.06-.94-2.06-.94L8.5 2.5l-.94 2.06-2.06.94zm10 10l.94 2.06.94-2.06 2.06-.94-2.06-.94-.94-2.06-.94 2.06-2.06.94z\"/><path d=\"M17.41 7.96l-1.37-1.37c-.4-.4-.92-.59-1.43-.59-.52 0-1.04.2-1.43.59L10.3 9.45l-7.72 7.72c-.78.78-.78 2.05 0 2.83L4 21.41c.39.39.9.59 1.41.59.51 0 1.02-.2 1.41-.59l7.78-7.78 2.81-2.81c.8-.78.8-2.07 0-2.86zM5.41 20L4 18.59l7.72-7.72 1.47 1.35L5.41 20z\"/>\n",
              "  </svg>\n",
              "      </button>\n",
              "      \n",
              "  <style>\n",
              "    .colab-df-container {\n",
              "      display:flex;\n",
              "      flex-wrap:wrap;\n",
              "      gap: 12px;\n",
              "    }\n",
              "\n",
              "    .colab-df-convert {\n",
              "      background-color: #E8F0FE;\n",
              "      border: none;\n",
              "      border-radius: 50%;\n",
              "      cursor: pointer;\n",
              "      display: none;\n",
              "      fill: #1967D2;\n",
              "      height: 32px;\n",
              "      padding: 0 0 0 0;\n",
              "      width: 32px;\n",
              "    }\n",
              "\n",
              "    .colab-df-convert:hover {\n",
              "      background-color: #E2EBFA;\n",
              "      box-shadow: 0px 1px 2px rgba(60, 64, 67, 0.3), 0px 1px 3px 1px rgba(60, 64, 67, 0.15);\n",
              "      fill: #174EA6;\n",
              "    }\n",
              "\n",
              "    [theme=dark] .colab-df-convert {\n",
              "      background-color: #3B4455;\n",
              "      fill: #D2E3FC;\n",
              "    }\n",
              "\n",
              "    [theme=dark] .colab-df-convert:hover {\n",
              "      background-color: #434B5C;\n",
              "      box-shadow: 0px 1px 3px 1px rgba(0, 0, 0, 0.15);\n",
              "      filter: drop-shadow(0px 1px 2px rgba(0, 0, 0, 0.3));\n",
              "      fill: #FFFFFF;\n",
              "    }\n",
              "  </style>\n",
              "\n",
              "      <script>\n",
              "        const buttonEl =\n",
              "          document.querySelector('#df-dd9d4976-0c5a-4bad-ac73-3ef58eb5d81f button.colab-df-convert');\n",
              "        buttonEl.style.display =\n",
              "          google.colab.kernel.accessAllowed ? 'block' : 'none';\n",
              "\n",
              "        async function convertToInteractive(key) {\n",
              "          const element = document.querySelector('#df-dd9d4976-0c5a-4bad-ac73-3ef58eb5d81f');\n",
              "          const dataTable =\n",
              "            await google.colab.kernel.invokeFunction('convertToInteractive',\n",
              "                                                     [key], {});\n",
              "          if (!dataTable) return;\n",
              "\n",
              "          const docLinkHtml = 'Like what you see? Visit the ' +\n",
              "            '<a target=\"_blank\" href=https://colab.research.google.com/notebooks/data_table.ipynb>data table notebook</a>'\n",
              "            + ' to learn more about interactive tables.';\n",
              "          element.innerHTML = '';\n",
              "          dataTable['output_type'] = 'display_data';\n",
              "          await google.colab.output.renderOutput(dataTable, element);\n",
              "          const docLink = document.createElement('div');\n",
              "          docLink.innerHTML = docLinkHtml;\n",
              "          element.appendChild(docLink);\n",
              "        }\n",
              "      </script>\n",
              "    </div>\n",
              "  </div>\n",
              "  "
            ]
          },
          "metadata": {},
          "execution_count": 109
        }
      ]
    },
    {
      "cell_type": "code",
      "source": [
        "df_ru[df_ru['Cer']>3].info()"
      ],
      "metadata": {
        "colab": {
          "base_uri": "https://localhost:8080/"
        },
        "id": "ZMDn1uBnud-Z",
        "outputId": "de2a7863-06a2-4076-cfb8-3c76133c44c8"
      },
      "execution_count": 110,
      "outputs": [
        {
          "output_type": "stream",
          "name": "stdout",
          "text": [
            "<class 'pandas.core.frame.DataFrame'>\n",
            "Int64Index: 50 entries, 599 to 11306\n",
            "Data columns (total 4 columns):\n",
            " #   Column      Non-Null Count  Dtype  \n",
            "---  ------      --------------  -----  \n",
            " 0   True_text   50 non-null     object \n",
            " 1   Prediction  50 non-null     object \n",
            " 2   Cer         50 non-null     float64\n",
            " 3   Cer_abydos  50 non-null     float64\n",
            "dtypes: float64(2), object(2)\n",
            "memory usage: 2.0+ KB\n"
          ]
        }
      ]
    },
    {
      "cell_type": "code",
      "source": [
        "df_ru['Cer'].plot.hist(grid=True, bins=40, rwidth=0.8,\n",
        "                   color='#607c8e')"
      ],
      "metadata": {
        "colab": {
          "base_uri": "https://localhost:8080/",
          "height": 282
        },
        "id": "kLNSYtFCt5Yw",
        "outputId": "9fcbbcb8-5ac8-4757-d6ea-3078525620de"
      },
      "execution_count": 111,
      "outputs": [
        {
          "output_type": "execute_result",
          "data": {
            "text/plain": [
              "<matplotlib.axes._subplots.AxesSubplot at 0x7f88ee752ed0>"
            ]
          },
          "metadata": {},
          "execution_count": 111
        },
        {
          "output_type": "display_data",
          "data": {
            "text/plain": [
              "<Figure size 432x288 with 1 Axes>"
            ],
            "image/png": "[encoded data removed]"
          },
          "metadata": {
            "needs_background": "light"
          }
        }
      ]
    },
    {
      "cell_type": "code",
      "source": [
        ""
      ],
      "metadata": {
        "id": "OKjeO9sJ0EqK"
      },
      "execution_count": null,
      "outputs": []
    },
    {
      "cell_type": "code",
      "source": [
        "df_ru['Cer_abydos'].plot.hist(grid=True, bins=40, rwidth=0.8,\n",
        "                   color='#607c8e')"
      ],
      "metadata": {
        "colab": {
          "base_uri": "https://localhost:8080/",
          "height": 282
        },
        "id": "V4wGoOAOuInj",
        "outputId": "8a0d2be6-228c-4962-e2e8-11fce685fa9a"
      },
      "execution_count": 112,
      "outputs": [
        {
          "output_type": "execute_result",
          "data": {
            "text/plain": [
              "<matplotlib.axes._subplots.AxesSubplot at 0x7f88ee32b750>"
            ]
          },
          "metadata": {},
          "execution_count": 112
        },
        {
          "output_type": "display_data",
          "data": {
            "text/plain": [
              "<Figure size 432x288 with 1 Axes>"
            ],
            "image/png": "[encoded data removed]"
          },
          "metadata": {
            "needs_background": "light"
          }
        }
      ]
    },
    {
      "cell_type": "code",
      "source": [
        "df_ru.to_csv('/content/ru_without_align_985.csv')"
      ],
      "metadata": {
        "id": "ItBCMqdyuSTx"
      },
      "execution_count": null,
      "outputs": []
    },
    {
      "cell_type": "code",
      "source": [
        "df_eng, errors = find_cer_only_eng(new_li_ipa)"
      ],
      "metadata": {
        "id": "bcNTyfAv5jDc"
      },
      "execution_count": null,
      "outputs": []
    },
    {
      "cell_type": "code",
      "source": [
        "df_eng.to_csv('/content/eng_without.csv')"
      ],
      "metadata": {
        "id": "JxCoQLhQNzaL"
      },
      "execution_count": null,
      "outputs": []
    },
    {
      "cell_type": "code",
      "source": [
        "df_eng[df_eng['True_text'] == 'd͡ʒɛtpæk']"
      ],
      "metadata": {
        "colab": {
          "base_uri": "https://localhost:8080/",
          "height": 49
        },
        "id": "LxG1GT4Q8Qk8",
        "outputId": "39af657b-cde2-4448-bcfa-4a1114f59106"
      },
      "execution_count": null,
      "outputs": [
        {
          "output_type": "execute_result",
          "data": {
            "text/plain": [
              "Empty DataFrame\n",
              "Columns: [True_text, Prediction, Cer, Cer_abydos]\n",
              "Index: []"
            ],
            "text/html": [
              "\n",
              "  <div id=\"df-6ad65347-bc86-41ef-9794-0886fd24a294\">\n",
              "    <div class=\"colab-df-container\">\n",
              "      <div>\n",
              "<style scoped>\n",
              "    .dataframe tbody tr th:only-of-type {\n",
              "        vertical-align: middle;\n",
              "    }\n",
              "\n",
              "    .dataframe tbody tr th {\n",
              "        vertical-align: top;\n",
              "    }\n",
              "\n",
              "    .dataframe thead th {\n",
              "        text-align: right;\n",
              "    }\n",
              "</style>\n",
              "<table border=\"1\" class=\"dataframe\">\n",
              "  <thead>\n",
              "    <tr style=\"text-align: right;\">\n",
              "      <th></th>\n",
              "      <th>True_text</th>\n",
              "      <th>Prediction</th>\n",
              "      <th>Cer</th>\n",
              "      <th>Cer_abydos</th>\n",
              "    </tr>\n",
              "  </thead>\n",
              "  <tbody>\n",
              "  </tbody>\n",
              "</table>\n",
              "</div>\n",
              "      <button class=\"colab-df-convert\" onclick=\"convertToInteractive('df-6ad65347-bc86-41ef-9794-0886fd24a294')\"\n",
              "              title=\"Convert this dataframe to an interactive table.\"\n",
              "              style=\"display:none;\">\n",
              "        \n",
              "  <svg xmlns=\"http://www.w3.org/2000/svg\" height=\"24px\"viewBox=\"0 0 24 24\"\n",
              "       width=\"24px\">\n",
              "    <path d=\"M0 0h24v24H0V0z\" fill=\"none\"/>\n",
              "    <path d=\"M18.56 5.44l.94 2.06.94-2.06 2.06-.94-2.06-.94-.94-2.06-.94 2.06-2.06.94zm-11 1L8.5 8.5l.94-2.06 2.06-.94-2.06-.94L8.5 2.5l-.94 2.06-2.06.94zm10 10l.94 2.06.94-2.06 2.06-.94-2.06-.94-.94-2.06-.94 2.06-2.06.94z\"/><path d=\"M17.41 7.96l-1.37-1.37c-.4-.4-.92-.59-1.43-.59-.52 0-1.04.2-1.43.59L10.3 9.45l-7.72 7.72c-.78.78-.78 2.05 0 2.83L4 21.41c.39.39.9.59 1.41.59.51 0 1.02-.2 1.41-.59l7.78-7.78 2.81-2.81c.8-.78.8-2.07 0-2.86zM5.41 20L4 18.59l7.72-7.72 1.47 1.35L5.41 20z\"/>\n",
              "  </svg>\n",
              "      </button>\n",
              "      \n",
              "  <style>\n",
              "    .colab-df-container {\n",
              "      display:flex;\n",
              "      flex-wrap:wrap;\n",
              "      gap: 12px;\n",
              "    }\n",
              "\n",
              "    .colab-df-convert {\n",
              "      background-color: #E8F0FE;\n",
              "      border: none;\n",
              "      border-radius: 50%;\n",
              "      cursor: pointer;\n",
              "      display: none;\n",
              "      fill: #1967D2;\n",
              "      height: 32px;\n",
              "      padding: 0 0 0 0;\n",
              "      width: 32px;\n",
              "    }\n",
              "\n",
              "    .colab-df-convert:hover {\n",
              "      background-color: #E2EBFA;\n",
              "      box-shadow: 0px 1px 2px rgba(60, 64, 67, 0.3), 0px 1px 3px 1px rgba(60, 64, 67, 0.15);\n",
              "      fill: #174EA6;\n",
              "    }\n",
              "\n",
              "    [theme=dark] .colab-df-convert {\n",
              "      background-color: #3B4455;\n",
              "      fill: #D2E3FC;\n",
              "    }\n",
              "\n",
              "    [theme=dark] .colab-df-convert:hover {\n",
              "      background-color: #434B5C;\n",
              "      box-shadow: 0px 1px 3px 1px rgba(0, 0, 0, 0.15);\n",
              "      filter: drop-shadow(0px 1px 2px rgba(0, 0, 0, 0.3));\n",
              "      fill: #FFFFFF;\n",
              "    }\n",
              "  </style>\n",
              "\n",
              "      <script>\n",
              "        const buttonEl =\n",
              "          document.querySelector('#df-6ad65347-bc86-41ef-9794-0886fd24a294 button.colab-df-convert');\n",
              "        buttonEl.style.display =\n",
              "          google.colab.kernel.accessAllowed ? 'block' : 'none';\n",
              "\n",
              "        async function convertToInteractive(key) {\n",
              "          const element = document.querySelector('#df-6ad65347-bc86-41ef-9794-0886fd24a294');\n",
              "          const dataTable =\n",
              "            await google.colab.kernel.invokeFunction('convertToInteractive',\n",
              "                                                     [key], {});\n",
              "          if (!dataTable) return;\n",
              "\n",
              "          const docLinkHtml = 'Like what you see? Visit the ' +\n",
              "            '<a target=\"_blank\" href=https://colab.research.google.com/notebooks/data_table.ipynb>data table notebook</a>'\n",
              "            + ' to learn more about interactive tables.';\n",
              "          element.innerHTML = '';\n",
              "          dataTable['output_type'] = 'display_data';\n",
              "          await google.colab.output.renderOutput(dataTable, element);\n",
              "          const docLink = document.createElement('div');\n",
              "          docLink.innerHTML = docLinkHtml;\n",
              "          element.appendChild(docLink);\n",
              "        }\n",
              "      </script>\n",
              "    </div>\n",
              "  </div>\n",
              "  "
            ]
          },
          "metadata": {},
          "execution_count": 55
        }
      ]
    },
    {
      "cell_type": "code",
      "source": [
        "df_eng[df_eng['Cer'] > 3]"
      ],
      "metadata": {
        "colab": {
          "base_uri": "https://localhost:8080/",
          "height": 423
        },
        "id": "kCHEkDvqFULu",
        "outputId": "a29b1a90-0744-45d4-fe90-942245a4597c"
      },
      "execution_count": null,
      "outputs": [
        {
          "output_type": "execute_result",
          "data": {
            "text/plain": [
              "     True_text         Prediction    Cer  Cer_abydos\n",
              "1         dɹɔɹ     navaɡejʂendror  3.250       0.728\n",
              "27        18dp   vosʲemnadt͡satʲi  3.750       0.877\n",
              "40          ui        komponentam  5.500       0.824\n",
              "65         fæb        tʲiplard͡ʒe  3.667       0.726\n",
              "116         ɪf  pʲerʲevodt͡ɕʲikʲi  8.500       0.883\n",
              "...        ...                ...    ...         ...\n",
              "1900       fps        sfrʲemʲeejt  3.333       0.742\n",
              "1909        ɹɔ         prʲinimaet  5.000       0.819\n",
              "1962       mɛʃ    elʲemʲentarnoɡo  4.667       0.817\n",
              "1967     dɑkɹ̩   skampʲelʲirujtʲe  3.200       0.724\n",
              "1994       θim       sʲima-dʲepto  3.333       0.755\n",
              "\n",
              "[149 rows x 4 columns]"
            ],
            "text/html": [
              "\n",
              "  <div id=\"df-05c73589-d4a8-4ce4-a612-1eaa4966d3b9\">\n",
              "    <div class=\"colab-df-container\">\n",
              "      <div>\n",
              "<style scoped>\n",
              "    .dataframe tbody tr th:only-of-type {\n",
              "        vertical-align: middle;\n",
              "    }\n",
              "\n",
              "    .dataframe tbody tr th {\n",
              "        vertical-align: top;\n",
              "    }\n",
              "\n",
              "    .dataframe thead th {\n",
              "        text-align: right;\n",
              "    }\n",
              "</style>\n",
              "<table border=\"1\" class=\"dataframe\">\n",
              "  <thead>\n",
              "    <tr style=\"text-align: right;\">\n",
              "      <th></th>\n",
              "      <th>True_text</th>\n",
              "      <th>Prediction</th>\n",
              "      <th>Cer</th>\n",
              "      <th>Cer_abydos</th>\n",
              "    </tr>\n",
              "  </thead>\n",
              "  <tbody>\n",
              "    <tr>\n",
              "      <th>1</th>\n",
              "      <td>dɹɔɹ</td>\n",
              "      <td>navaɡejʂendror</td>\n",
              "      <td>3.250</td>\n",
              "      <td>0.728</td>\n",
              "    </tr>\n",
              "    <tr>\n",
              "      <th>27</th>\n",
              "      <td>18dp</td>\n",
              "      <td>vosʲemnadt͡satʲi</td>\n",
              "      <td>3.750</td>\n",
              "      <td>0.877</td>\n",
              "    </tr>\n",
              "    <tr>\n",
              "      <th>40</th>\n",
              "      <td>ui</td>\n",
              "      <td>komponentam</td>\n",
              "      <td>5.500</td>\n",
              "      <td>0.824</td>\n",
              "    </tr>\n",
              "    <tr>\n",
              "      <th>65</th>\n",
              "      <td>fæb</td>\n",
              "      <td>tʲiplard͡ʒe</td>\n",
              "      <td>3.667</td>\n",
              "      <td>0.726</td>\n",
              "    </tr>\n",
              "    <tr>\n",
              "      <th>116</th>\n",
              "      <td>ɪf</td>\n",
              "      <td>pʲerʲevodt͡ɕʲikʲi</td>\n",
              "      <td>8.500</td>\n",
              "      <td>0.883</td>\n",
              "    </tr>\n",
              "    <tr>\n",
              "      <th>...</th>\n",
              "      <td>...</td>\n",
              "      <td>...</td>\n",
              "      <td>...</td>\n",
              "      <td>...</td>\n",
              "    </tr>\n",
              "    <tr>\n",
              "      <th>1900</th>\n",
              "      <td>fps</td>\n",
              "      <td>sfrʲemʲeejt</td>\n",
              "      <td>3.333</td>\n",
              "      <td>0.742</td>\n",
              "    </tr>\n",
              "    <tr>\n",
              "      <th>1909</th>\n",
              "      <td>ɹɔ</td>\n",
              "      <td>prʲinimaet</td>\n",
              "      <td>5.000</td>\n",
              "      <td>0.819</td>\n",
              "    </tr>\n",
              "    <tr>\n",
              "      <th>1962</th>\n",
              "      <td>mɛʃ</td>\n",
              "      <td>elʲemʲentarnoɡo</td>\n",
              "      <td>4.667</td>\n",
              "      <td>0.817</td>\n",
              "    </tr>\n",
              "    <tr>\n",
              "      <th>1967</th>\n",
              "      <td>dɑkɹ̩</td>\n",
              "      <td>skampʲelʲirujtʲe</td>\n",
              "      <td>3.200</td>\n",
              "      <td>0.724</td>\n",
              "    </tr>\n",
              "    <tr>\n",
              "      <th>1994</th>\n",
              "      <td>θim</td>\n",
              "      <td>sʲima-dʲepto</td>\n",
              "      <td>3.333</td>\n",
              "      <td>0.755</td>\n",
              "    </tr>\n",
              "  </tbody>\n",
              "</table>\n",
              "<p>149 rows × 4 columns</p>\n",
              "</div>\n",
              "      <button class=\"colab-df-convert\" onclick=\"convertToInteractive('df-05c73589-d4a8-4ce4-a612-1eaa4966d3b9')\"\n",
              "              title=\"Convert this dataframe to an interactive table.\"\n",
              "              style=\"display:none;\">\n",
              "        \n",
              "  <svg xmlns=\"http://www.w3.org/2000/svg\" height=\"24px\"viewBox=\"0 0 24 24\"\n",
              "       width=\"24px\">\n",
              "    <path d=\"M0 0h24v24H0V0z\" fill=\"none\"/>\n",
              "    <path d=\"M18.56 5.44l.94 2.06.94-2.06 2.06-.94-2.06-.94-.94-2.06-.94 2.06-2.06.94zm-11 1L8.5 8.5l.94-2.06 2.06-.94-2.06-.94L8.5 2.5l-.94 2.06-2.06.94zm10 10l.94 2.06.94-2.06 2.06-.94-2.06-.94-.94-2.06-.94 2.06-2.06.94z\"/><path d=\"M17.41 7.96l-1.37-1.37c-.4-.4-.92-.59-1.43-.59-.52 0-1.04.2-1.43.59L10.3 9.45l-7.72 7.72c-.78.78-.78 2.05 0 2.83L4 21.41c.39.39.9.59 1.41.59.51 0 1.02-.2 1.41-.59l7.78-7.78 2.81-2.81c.8-.78.8-2.07 0-2.86zM5.41 20L4 18.59l7.72-7.72 1.47 1.35L5.41 20z\"/>\n",
              "  </svg>\n",
              "      </button>\n",
              "      \n",
              "  <style>\n",
              "    .colab-df-container {\n",
              "      display:flex;\n",
              "      flex-wrap:wrap;\n",
              "      gap: 12px;\n",
              "    }\n",
              "\n",
              "    .colab-df-convert {\n",
              "      background-color: #E8F0FE;\n",
              "      border: none;\n",
              "      border-radius: 50%;\n",
              "      cursor: pointer;\n",
              "      display: none;\n",
              "      fill: #1967D2;\n",
              "      height: 32px;\n",
              "      padding: 0 0 0 0;\n",
              "      width: 32px;\n",
              "    }\n",
              "\n",
              "    .colab-df-convert:hover {\n",
              "      background-color: #E2EBFA;\n",
              "      box-shadow: 0px 1px 2px rgba(60, 64, 67, 0.3), 0px 1px 3px 1px rgba(60, 64, 67, 0.15);\n",
              "      fill: #174EA6;\n",
              "    }\n",
              "\n",
              "    [theme=dark] .colab-df-convert {\n",
              "      background-color: #3B4455;\n",
              "      fill: #D2E3FC;\n",
              "    }\n",
              "\n",
              "    [theme=dark] .colab-df-convert:hover {\n",
              "      background-color: #434B5C;\n",
              "      box-shadow: 0px 1px 3px 1px rgba(0, 0, 0, 0.15);\n",
              "      filter: drop-shadow(0px 1px 2px rgba(0, 0, 0, 0.3));\n",
              "      fill: #FFFFFF;\n",
              "    }\n",
              "  </style>\n",
              "\n",
              "      <script>\n",
              "        const buttonEl =\n",
              "          document.querySelector('#df-05c73589-d4a8-4ce4-a612-1eaa4966d3b9 button.colab-df-convert');\n",
              "        buttonEl.style.display =\n",
              "          google.colab.kernel.accessAllowed ? 'block' : 'none';\n",
              "\n",
              "        async function convertToInteractive(key) {\n",
              "          const element = document.querySelector('#df-05c73589-d4a8-4ce4-a612-1eaa4966d3b9');\n",
              "          const dataTable =\n",
              "            await google.colab.kernel.invokeFunction('convertToInteractive',\n",
              "                                                     [key], {});\n",
              "          if (!dataTable) return;\n",
              "\n",
              "          const docLinkHtml = 'Like what you see? Visit the ' +\n",
              "            '<a target=\"_blank\" href=https://colab.research.google.com/notebooks/data_table.ipynb>data table notebook</a>'\n",
              "            + ' to learn more about interactive tables.';\n",
              "          element.innerHTML = '';\n",
              "          dataTable['output_type'] = 'display_data';\n",
              "          await google.colab.output.renderOutput(dataTable, element);\n",
              "          const docLink = document.createElement('div');\n",
              "          docLink.innerHTML = docLinkHtml;\n",
              "          element.appendChild(docLink);\n",
              "        }\n",
              "      </script>\n",
              "    </div>\n",
              "  </div>\n",
              "  "
            ]
          },
          "metadata": {},
          "execution_count": 139
        }
      ]
    },
    {
      "cell_type": "code",
      "source": [
        "df_eng['Cer'].plot.hist(grid=True, bins=10, rwidth=0.8,\n",
        "                   color='#607c8e')"
      ],
      "metadata": {
        "colab": {
          "base_uri": "https://localhost:8080/",
          "height": 282
        },
        "id": "_6HdvezdqdVx",
        "outputId": "49220655-efd6-4e1e-b91a-f120868b1397"
      },
      "execution_count": null,
      "outputs": [
        {
          "output_type": "execute_result",
          "data": {
            "text/plain": [
              "<matplotlib.axes._subplots.AxesSubplot at 0x7ff82bf07050>"
            ]
          },
          "metadata": {},
          "execution_count": 159
        },
        {
          "output_type": "display_data",
          "data": {
            "text/plain": [
              "<Figure size 432x288 with 1 Axes>"
            ],
            "image/png": "[encoded data removed]"
          },
          "metadata": {
            "needs_background": "light"
          }
        }
      ]
    },
    {
      "cell_type": "code",
      "source": [
        "df_eng['Cer_abydos'].plot.hist(grid=True, bins=40, rwidth=0.8,\n",
        "                   color='#607c8e')"
      ],
      "metadata": {
        "colab": {
          "base_uri": "https://localhost:8080/",
          "height": 282
        },
        "id": "paWivq3JrSf_",
        "outputId": "406cc1d5-f681-4ba4-dc74-c200f1c0b97a"
      },
      "execution_count": null,
      "outputs": [
        {
          "output_type": "execute_result",
          "data": {
            "text/plain": [
              "<matplotlib.axes._subplots.AxesSubplot at 0x7ff82c31b750>"
            ]
          },
          "metadata": {},
          "execution_count": 142
        },
        {
          "output_type": "display_data",
          "data": {
            "text/plain": [
              "<Figure size 432x288 with 1 Axes>"
            ],
            "image/png": "[encoded data removed]"
          },
          "metadata": {
            "needs_background": "light"
          }
        }
      ]
    },
    {
      "cell_type": "code",
      "source": [
        "df_eng.to_csv('/content/english_without_align.csv')"
      ],
      "metadata": {
        "id": "jYX295OytXAj"
      },
      "execution_count": null,
      "outputs": []
    },
    {
      "cell_type": "code",
      "source": [
        "import jiwer"
      ],
      "metadata": {
        "id": "83PgkLSyNScA"
      },
      "execution_count": 118,
      "outputs": []
    },
    {
      "cell_type": "code",
      "source": [
        "import ssl\n",
        "li1 = []\n",
        "li2 = []\n",
        "for elem in preproc_985_conv[2]:\n",
        "    sent = jiwer.ReduceToSingleSentence()(elem)\n",
        "    ss = ' '.join(sent)\n",
        "    li1.append(ss)\n",
        "for elem1 in preproc_985_conv[3]:\n",
        "    sent1 = jiwer.ReduceToSingleSentence()(elem1)\n",
        "    ss1 = ' '.join(sent1)\n",
        "    li2.append(ss1)\n",
        "list_of_tuples = list(zip(li1, li2)) \n",
        "t_new = pd.DataFrame(list_of_tuples,\n",
        "                  columns = ['Prediction', 'True_text']) "
      ],
      "metadata": {
        "id": "vuYDgBRdM1AP"
      },
      "execution_count": 119,
      "outputs": []
    },
    {
      "cell_type": "code",
      "source": [
        "t_new['cer_with_preproc'] = cer_preproc_1000_true"
      ],
      "metadata": {
        "id": "lv7l5wa4Dhgu"
      },
      "execution_count": 122,
      "outputs": []
    },
    {
      "cell_type": "code",
      "source": [
        "cee=get_cer((li1, li2))"
      ],
      "metadata": {
        "id": "Xp_2YrbmCDC2"
      },
      "execution_count": 123,
      "outputs": []
    },
    {
      "cell_type": "code",
      "source": [
        "li2[1]"
      ],
      "metadata": {
        "colab": {
          "base_uri": "https://localhost:8080/",
          "height": 37
        },
        "id": "j9gREaF-NUa9",
        "outputId": "06a52e0e-9934-4057-b6ee-281e6ad4a6ed"
      },
      "execution_count": 124,
      "outputs": [
        {
          "output_type": "execute_result",
          "data": {
            "text/plain": [
              "'navigation bar переименованный bottom navigation'"
            ],
            "application/vnd.google.colaboratory.intrinsic+json": {
              "type": "string"
            }
          },
          "metadata": {},
          "execution_count": 124
        }
      ]
    },
    {
      "cell_type": "code",
      "source": [
        "errrr = []\n",
        "for i in range(len(li1)):\n",
        "    werr = jiwer.wer(li1[i], li2[i])\n",
        "    errrr.append(werr)"
      ],
      "metadata": {
        "id": "aNep6Sb6OlsN"
      },
      "execution_count": 125,
      "outputs": []
    },
    {
      "cell_type": "code",
      "source": [
        "t_new['Wer'] = errrr"
      ],
      "metadata": {
        "id": "Zc7XsPQaLlAB"
      },
      "execution_count": 126,
      "outputs": []
    },
    {
      "cell_type": "code",
      "source": [
        "t_new['New_cer'] =cee"
      ],
      "metadata": {
        "id": "B8PScYROCN3Z"
      },
      "execution_count": 127,
      "outputs": []
    },
    {
      "cell_type": "code",
      "source": [
        "t_new[t_new['New_cer'] != '-']"
      ],
      "metadata": {
        "colab": {
          "base_uri": "https://localhost:8080/",
          "height": 606
        },
        "id": "oAdMHKQmPKo-",
        "outputId": "3d3aa054-ab31-4a54-aede-f5585bf6c98b"
      },
      "execution_count": 128,
      "outputs": [
        {
          "output_type": "execute_result",
          "data": {
            "text/plain": [
              "                                            Prediction  \\\n",
              "8    тезисно много нового появилось в политри матер...   \n",
              "16   новые в обычных кнопках полностью закруглили углы   \n",
              "19       поговорим подробнее про каждый из компонентов   \n",
              "23          ближайший визуальный аналок обычная кнобка   \n",
              "25   теперь они все одинаковые премолгольные с закр...   \n",
              "..                                                 ...   \n",
              "969                  такой вариант тоже будет работать   \n",
              "970                             начнем с простого куба   \n",
              "971  в дальнейшем контейнер будет брать файлы именн...   \n",
              "981              поэтому нужен мост между двумя темами   \n",
              "983  исходники простые их можно дополнить или сдела...   \n",
              "\n",
              "                                             True_text  cer_with_preproc  \\\n",
              "8    тезисно много нового появилось в палитре mater...          0.144578   \n",
              "16   новое в обычных кнопках полностью закруглили углы          0.023256   \n",
              "19       поговорим подробнее про каждый из компонентов          0.000000   \n",
              "23          ближайший визуальный аналог обычная кнопка          0.052632   \n",
              "25   теперь они все одинаковые прямоугольные с закр...          0.035714   \n",
              "..                                                 ...               ...   \n",
              "969                  такой вариант тоже будет работать          0.000000   \n",
              "970                             начнем с простого куба          0.000000   \n",
              "971  в дальнейшем контейнер будет брать файлы именн...          0.019231   \n",
              "981              поэтому нужен мост между двумя темами          0.000000   \n",
              "983  исходники простые их можно дополнить или сдела...          0.010309   \n",
              "\n",
              "          Wer   New_cer  \n",
              "8    0.266667  0.123711  \n",
              "16   0.142857  0.020408  \n",
              "19   0.000000       0.0  \n",
              "23   0.400000  0.047619  \n",
              "25   0.111111   0.03125  \n",
              "..        ...       ...  \n",
              "969  0.000000       0.0  \n",
              "970  0.000000       0.0  \n",
              "971  0.100000  0.016393  \n",
              "981  0.000000       0.0  \n",
              "983  0.058824   0.00885  \n",
              "\n",
              "[270 rows x 5 columns]"
            ],
            "text/html": [
              "\n",
              "  <div id=\"df-78b90e28-2c58-478f-a677-6aabe59c5947\">\n",
              "    <div class=\"colab-df-container\">\n",
              "      <div>\n",
              "<style scoped>\n",
              "    .dataframe tbody tr th:only-of-type {\n",
              "        vertical-align: middle;\n",
              "    }\n",
              "\n",
              "    .dataframe tbody tr th {\n",
              "        vertical-align: top;\n",
              "    }\n",
              "\n",
              "    .dataframe thead th {\n",
              "        text-align: right;\n",
              "    }\n",
              "</style>\n",
              "<table border=\"1\" class=\"dataframe\">\n",
              "  <thead>\n",
              "    <tr style=\"text-align: right;\">\n",
              "      <th></th>\n",
              "      <th>Prediction</th>\n",
              "      <th>True_text</th>\n",
              "      <th>cer_with_preproc</th>\n",
              "      <th>Wer</th>\n",
              "      <th>New_cer</th>\n",
              "    </tr>\n",
              "  </thead>\n",
              "  <tbody>\n",
              "    <tr>\n",
              "      <th>8</th>\n",
              "      <td>тезисно много нового появилось в политри матер...</td>\n",
              "      <td>тезисно много нового появилось в палитре mater...</td>\n",
              "      <td>0.144578</td>\n",
              "      <td>0.266667</td>\n",
              "      <td>0.123711</td>\n",
              "    </tr>\n",
              "    <tr>\n",
              "      <th>16</th>\n",
              "      <td>новые в обычных кнопках полностью закруглили углы</td>\n",
              "      <td>новое в обычных кнопках полностью закруглили углы</td>\n",
              "      <td>0.023256</td>\n",
              "      <td>0.142857</td>\n",
              "      <td>0.020408</td>\n",
              "    </tr>\n",
              "    <tr>\n",
              "      <th>19</th>\n",
              "      <td>поговорим подробнее про каждый из компонентов</td>\n",
              "      <td>поговорим подробнее про каждый из компонентов</td>\n",
              "      <td>0.000000</td>\n",
              "      <td>0.000000</td>\n",
              "      <td>0.0</td>\n",
              "    </tr>\n",
              "    <tr>\n",
              "      <th>23</th>\n",
              "      <td>ближайший визуальный аналок обычная кнобка</td>\n",
              "      <td>ближайший визуальный аналог обычная кнопка</td>\n",
              "      <td>0.052632</td>\n",
              "      <td>0.400000</td>\n",
              "      <td>0.047619</td>\n",
              "    </tr>\n",
              "    <tr>\n",
              "      <th>25</th>\n",
              "      <td>теперь они все одинаковые премолгольные с закр...</td>\n",
              "      <td>теперь они все одинаковые прямоугольные с закр...</td>\n",
              "      <td>0.035714</td>\n",
              "      <td>0.111111</td>\n",
              "      <td>0.03125</td>\n",
              "    </tr>\n",
              "    <tr>\n",
              "      <th>...</th>\n",
              "      <td>...</td>\n",
              "      <td>...</td>\n",
              "      <td>...</td>\n",
              "      <td>...</td>\n",
              "      <td>...</td>\n",
              "    </tr>\n",
              "    <tr>\n",
              "      <th>969</th>\n",
              "      <td>такой вариант тоже будет работать</td>\n",
              "      <td>такой вариант тоже будет работать</td>\n",
              "      <td>0.000000</td>\n",
              "      <td>0.000000</td>\n",
              "      <td>0.0</td>\n",
              "    </tr>\n",
              "    <tr>\n",
              "      <th>970</th>\n",
              "      <td>начнем с простого куба</td>\n",
              "      <td>начнем с простого куба</td>\n",
              "      <td>0.000000</td>\n",
              "      <td>0.000000</td>\n",
              "      <td>0.0</td>\n",
              "    </tr>\n",
              "    <tr>\n",
              "      <th>971</th>\n",
              "      <td>в дальнейшем контейнер будет брать файлы именн...</td>\n",
              "      <td>в дальнейшем контейнер будет брать файлы именн...</td>\n",
              "      <td>0.019231</td>\n",
              "      <td>0.100000</td>\n",
              "      <td>0.016393</td>\n",
              "    </tr>\n",
              "    <tr>\n",
              "      <th>981</th>\n",
              "      <td>поэтому нужен мост между двумя темами</td>\n",
              "      <td>поэтому нужен мост между двумя темами</td>\n",
              "      <td>0.000000</td>\n",
              "      <td>0.000000</td>\n",
              "      <td>0.0</td>\n",
              "    </tr>\n",
              "    <tr>\n",
              "      <th>983</th>\n",
              "      <td>исходники простые их можно дополнить или сдела...</td>\n",
              "      <td>исходники простые их можно дополнить или сдела...</td>\n",
              "      <td>0.010309</td>\n",
              "      <td>0.058824</td>\n",
              "      <td>0.00885</td>\n",
              "    </tr>\n",
              "  </tbody>\n",
              "</table>\n",
              "<p>270 rows × 5 columns</p>\n",
              "</div>\n",
              "      <button class=\"colab-df-convert\" onclick=\"convertToInteractive('df-78b90e28-2c58-478f-a677-6aabe59c5947')\"\n",
              "              title=\"Convert this dataframe to an interactive table.\"\n",
              "              style=\"display:none;\">\n",
              "        \n",
              "  <svg xmlns=\"http://www.w3.org/2000/svg\" height=\"24px\"viewBox=\"0 0 24 24\"\n",
              "       width=\"24px\">\n",
              "    <path d=\"M0 0h24v24H0V0z\" fill=\"none\"/>\n",
              "    <path d=\"M18.56 5.44l.94 2.06.94-2.06 2.06-.94-2.06-.94-.94-2.06-.94 2.06-2.06.94zm-11 1L8.5 8.5l.94-2.06 2.06-.94-2.06-.94L8.5 2.5l-.94 2.06-2.06.94zm10 10l.94 2.06.94-2.06 2.06-.94-2.06-.94-.94-2.06-.94 2.06-2.06.94z\"/><path d=\"M17.41 7.96l-1.37-1.37c-.4-.4-.92-.59-1.43-.59-.52 0-1.04.2-1.43.59L10.3 9.45l-7.72 7.72c-.78.78-.78 2.05 0 2.83L4 21.41c.39.39.9.59 1.41.59.51 0 1.02-.2 1.41-.59l7.78-7.78 2.81-2.81c.8-.78.8-2.07 0-2.86zM5.41 20L4 18.59l7.72-7.72 1.47 1.35L5.41 20z\"/>\n",
              "  </svg>\n",
              "      </button>\n",
              "      \n",
              "  <style>\n",
              "    .colab-df-container {\n",
              "      display:flex;\n",
              "      flex-wrap:wrap;\n",
              "      gap: 12px;\n",
              "    }\n",
              "\n",
              "    .colab-df-convert {\n",
              "      background-color: #E8F0FE;\n",
              "      border: none;\n",
              "      border-radius: 50%;\n",
              "      cursor: pointer;\n",
              "      display: none;\n",
              "      fill: #1967D2;\n",
              "      height: 32px;\n",
              "      padding: 0 0 0 0;\n",
              "      width: 32px;\n",
              "    }\n",
              "\n",
              "    .colab-df-convert:hover {\n",
              "      background-color: #E2EBFA;\n",
              "      box-shadow: 0px 1px 2px rgba(60, 64, 67, 0.3), 0px 1px 3px 1px rgba(60, 64, 67, 0.15);\n",
              "      fill: #174EA6;\n",
              "    }\n",
              "\n",
              "    [theme=dark] .colab-df-convert {\n",
              "      background-color: #3B4455;\n",
              "      fill: #D2E3FC;\n",
              "    }\n",
              "\n",
              "    [theme=dark] .colab-df-convert:hover {\n",
              "      background-color: #434B5C;\n",
              "      box-shadow: 0px 1px 3px 1px rgba(0, 0, 0, 0.15);\n",
              "      filter: drop-shadow(0px 1px 2px rgba(0, 0, 0, 0.3));\n",
              "      fill: #FFFFFF;\n",
              "    }\n",
              "  </style>\n",
              "\n",
              "      <script>\n",
              "        const buttonEl =\n",
              "          document.querySelector('#df-78b90e28-2c58-478f-a677-6aabe59c5947 button.colab-df-convert');\n",
              "        buttonEl.style.display =\n",
              "          google.colab.kernel.accessAllowed ? 'block' : 'none';\n",
              "\n",
              "        async function convertToInteractive(key) {\n",
              "          const element = document.querySelector('#df-78b90e28-2c58-478f-a677-6aabe59c5947');\n",
              "          const dataTable =\n",
              "            await google.colab.kernel.invokeFunction('convertToInteractive',\n",
              "                                                     [key], {});\n",
              "          if (!dataTable) return;\n",
              "\n",
              "          const docLinkHtml = 'Like what you see? Visit the ' +\n",
              "            '<a target=\"_blank\" href=https://colab.research.google.com/notebooks/data_table.ipynb>data table notebook</a>'\n",
              "            + ' to learn more about interactive tables.';\n",
              "          element.innerHTML = '';\n",
              "          dataTable['output_type'] = 'display_data';\n",
              "          await google.colab.output.renderOutput(dataTable, element);\n",
              "          const docLink = document.createElement('div');\n",
              "          docLink.innerHTML = docLinkHtml;\n",
              "          element.appendChild(docLink);\n",
              "        }\n",
              "      </script>\n",
              "    </div>\n",
              "  </div>\n",
              "  "
            ]
          },
          "metadata": {},
          "execution_count": 128
        }
      ]
    },
    {
      "cell_type": "code",
      "source": [
        "t_new.to_csv('/content/985_true_preproc_wer_new.csv')\n",
        "#t1.to_csv('1000_opp.csv')"
      ],
      "metadata": {
        "id": "-8u98tEJS-Tt"
      },
      "execution_count": 45,
      "outputs": []
    },
    {
      "cell_type": "code",
      "source": [
        ""
      ],
      "metadata": {
        "id": "RenP3ohXadfv"
      },
      "execution_count": null,
      "outputs": []
    },
    {
      "cell_type": "code",
      "source": [
        "t1_copy = t[0].copy()"
      ],
      "metadata": {
        "id": "_zU6j1ZfYIJB"
      },
      "execution_count": 130,
      "outputs": []
    },
    {
      "cell_type": "code",
      "source": [
        "t1_copy[t1_copy['cer_with_preproc'] <0.07]"
      ],
      "metadata": {
        "colab": {
          "base_uri": "https://localhost:8080/",
          "height": 589
        },
        "id": "HQXAByXKYcpk",
        "outputId": "c8103e0e-1810-401e-f0ca-cd7bd624abbb"
      },
      "execution_count": null,
      "outputs": [
        {
          "output_type": "execute_result",
          "data": {
            "text/plain": [
              "                                            Prediction  \\\n",
              "12     а вот карточки сильно перерабатывать мне стали    \n",
              "16   новые в обычных кнопках полностью закруглили у...   \n",
              "19      поговорим подробнее про каждый из компонентов    \n",
              "23         ближайший визуальный аналок обычная кнобка    \n",
              "25   теперь они все одинаковые  премолгольные с зак...   \n",
              "..                                                 ...   \n",
              "971  в дальнейшем контейнер будет брать файлы именн...   \n",
              "974  в планировании архитектуры программы количеств...   \n",
              "979  в легасе проекте тема может быть достаточно бо...   \n",
              "981             поэтому нужен мост между двумя темами    \n",
              "983  исходники простые их можно дополнить или сдела...   \n",
              "\n",
              "                                             True_text  cer_with_preproc  \n",
              "12       а вот карточки сильно перерабатывать не стали          0.025000  \n",
              "16    новое в обычных кнопках полностью закруглили ...          0.023256  \n",
              "19       поговорим подробнее про каждый из компонентов          0.000000  \n",
              "23          ближайший визуальный аналог обычная кнопка          0.052632  \n",
              "25    теперь они все одинаковые прямоугольные с зак...          0.035714  \n",
              "..                                                 ...               ...  \n",
              "971   в дальнейшем контейнер будет брать файлы имен...          0.019231  \n",
              "974   в планировании архитектуры программы количест...          0.016807  \n",
              "979   в легаси проекте тема может быть достаточно б...          0.034884  \n",
              "981              поэтому нужен мост между двумя темами          0.000000  \n",
              "983   исходники простые их можно дополнить или сдел...          0.010309  \n",
              "\n",
              "[289 rows x 3 columns]"
            ],
            "text/html": [
              "\n",
              "  <div id=\"df-4582423b-8109-4008-9194-728f9886ddf6\">\n",
              "    <div class=\"colab-df-container\">\n",
              "      <div>\n",
              "<style scoped>\n",
              "    .dataframe tbody tr th:only-of-type {\n",
              "        vertical-align: middle;\n",
              "    }\n",
              "\n",
              "    .dataframe tbody tr th {\n",
              "        vertical-align: top;\n",
              "    }\n",
              "\n",
              "    .dataframe thead th {\n",
              "        text-align: right;\n",
              "    }\n",
              "</style>\n",
              "<table border=\"1\" class=\"dataframe\">\n",
              "  <thead>\n",
              "    <tr style=\"text-align: right;\">\n",
              "      <th></th>\n",
              "      <th>Prediction</th>\n",
              "      <th>True_text</th>\n",
              "      <th>cer_with_preproc</th>\n",
              "    </tr>\n",
              "  </thead>\n",
              "  <tbody>\n",
              "    <tr>\n",
              "      <th>12</th>\n",
              "      <td>а вот карточки сильно перерабатывать мне стали</td>\n",
              "      <td>а вот карточки сильно перерабатывать не стали</td>\n",
              "      <td>0.025000</td>\n",
              "    </tr>\n",
              "    <tr>\n",
              "      <th>16</th>\n",
              "      <td>новые в обычных кнопках полностью закруглили у...</td>\n",
              "      <td>новое в обычных кнопках полностью закруглили ...</td>\n",
              "      <td>0.023256</td>\n",
              "    </tr>\n",
              "    <tr>\n",
              "      <th>19</th>\n",
              "      <td>поговорим подробнее про каждый из компонентов</td>\n",
              "      <td>поговорим подробнее про каждый из компонентов</td>\n",
              "      <td>0.000000</td>\n",
              "    </tr>\n",
              "    <tr>\n",
              "      <th>23</th>\n",
              "      <td>ближайший визуальный аналок обычная кнобка</td>\n",
              "      <td>ближайший визуальный аналог обычная кнопка</td>\n",
              "      <td>0.052632</td>\n",
              "    </tr>\n",
              "    <tr>\n",
              "      <th>25</th>\n",
              "      <td>теперь они все одинаковые  премолгольные с зак...</td>\n",
              "      <td>теперь они все одинаковые прямоугольные с зак...</td>\n",
              "      <td>0.035714</td>\n",
              "    </tr>\n",
              "    <tr>\n",
              "      <th>...</th>\n",
              "      <td>...</td>\n",
              "      <td>...</td>\n",
              "      <td>...</td>\n",
              "    </tr>\n",
              "    <tr>\n",
              "      <th>971</th>\n",
              "      <td>в дальнейшем контейнер будет брать файлы именн...</td>\n",
              "      <td>в дальнейшем контейнер будет брать файлы имен...</td>\n",
              "      <td>0.019231</td>\n",
              "    </tr>\n",
              "    <tr>\n",
              "      <th>974</th>\n",
              "      <td>в планировании архитектуры программы количеств...</td>\n",
              "      <td>в планировании архитектуры программы количест...</td>\n",
              "      <td>0.016807</td>\n",
              "    </tr>\n",
              "    <tr>\n",
              "      <th>979</th>\n",
              "      <td>в легасе проекте тема может быть достаточно бо...</td>\n",
              "      <td>в легаси проекте тема может быть достаточно б...</td>\n",
              "      <td>0.034884</td>\n",
              "    </tr>\n",
              "    <tr>\n",
              "      <th>981</th>\n",
              "      <td>поэтому нужен мост между двумя темами</td>\n",
              "      <td>поэтому нужен мост между двумя темами</td>\n",
              "      <td>0.000000</td>\n",
              "    </tr>\n",
              "    <tr>\n",
              "      <th>983</th>\n",
              "      <td>исходники простые их можно дополнить или сдела...</td>\n",
              "      <td>исходники простые их можно дополнить или сдел...</td>\n",
              "      <td>0.010309</td>\n",
              "    </tr>\n",
              "  </tbody>\n",
              "</table>\n",
              "<p>289 rows × 3 columns</p>\n",
              "</div>\n",
              "      <button class=\"colab-df-convert\" onclick=\"convertToInteractive('df-4582423b-8109-4008-9194-728f9886ddf6')\"\n",
              "              title=\"Convert this dataframe to an interactive table.\"\n",
              "              style=\"display:none;\">\n",
              "        \n",
              "  <svg xmlns=\"http://www.w3.org/2000/svg\" height=\"24px\"viewBox=\"0 0 24 24\"\n",
              "       width=\"24px\">\n",
              "    <path d=\"M0 0h24v24H0V0z\" fill=\"none\"/>\n",
              "    <path d=\"M18.56 5.44l.94 2.06.94-2.06 2.06-.94-2.06-.94-.94-2.06-.94 2.06-2.06.94zm-11 1L8.5 8.5l.94-2.06 2.06-.94-2.06-.94L8.5 2.5l-.94 2.06-2.06.94zm10 10l.94 2.06.94-2.06 2.06-.94-2.06-.94-.94-2.06-.94 2.06-2.06.94z\"/><path d=\"M17.41 7.96l-1.37-1.37c-.4-.4-.92-.59-1.43-.59-.52 0-1.04.2-1.43.59L10.3 9.45l-7.72 7.72c-.78.78-.78 2.05 0 2.83L4 21.41c.39.39.9.59 1.41.59.51 0 1.02-.2 1.41-.59l7.78-7.78 2.81-2.81c.8-.78.8-2.07 0-2.86zM5.41 20L4 18.59l7.72-7.72 1.47 1.35L5.41 20z\"/>\n",
              "  </svg>\n",
              "      </button>\n",
              "      \n",
              "  <style>\n",
              "    .colab-df-container {\n",
              "      display:flex;\n",
              "      flex-wrap:wrap;\n",
              "      gap: 12px;\n",
              "    }\n",
              "\n",
              "    .colab-df-convert {\n",
              "      background-color: #E8F0FE;\n",
              "      border: none;\n",
              "      border-radius: 50%;\n",
              "      cursor: pointer;\n",
              "      display: none;\n",
              "      fill: #1967D2;\n",
              "      height: 32px;\n",
              "      padding: 0 0 0 0;\n",
              "      width: 32px;\n",
              "    }\n",
              "\n",
              "    .colab-df-convert:hover {\n",
              "      background-color: #E2EBFA;\n",
              "      box-shadow: 0px 1px 2px rgba(60, 64, 67, 0.3), 0px 1px 3px 1px rgba(60, 64, 67, 0.15);\n",
              "      fill: #174EA6;\n",
              "    }\n",
              "\n",
              "    [theme=dark] .colab-df-convert {\n",
              "      background-color: #3B4455;\n",
              "      fill: #D2E3FC;\n",
              "    }\n",
              "\n",
              "    [theme=dark] .colab-df-convert:hover {\n",
              "      background-color: #434B5C;\n",
              "      box-shadow: 0px 1px 3px 1px rgba(0, 0, 0, 0.15);\n",
              "      filter: drop-shadow(0px 1px 2px rgba(0, 0, 0, 0.3));\n",
              "      fill: #FFFFFF;\n",
              "    }\n",
              "  </style>\n",
              "\n",
              "      <script>\n",
              "        const buttonEl =\n",
              "          document.querySelector('#df-4582423b-8109-4008-9194-728f9886ddf6 button.colab-df-convert');\n",
              "        buttonEl.style.display =\n",
              "          google.colab.kernel.accessAllowed ? 'block' : 'none';\n",
              "\n",
              "        async function convertToInteractive(key) {\n",
              "          const element = document.querySelector('#df-4582423b-8109-4008-9194-728f9886ddf6');\n",
              "          const dataTable =\n",
              "            await google.colab.kernel.invokeFunction('convertToInteractive',\n",
              "                                                     [key], {});\n",
              "          if (!dataTable) return;\n",
              "\n",
              "          const docLinkHtml = 'Like what you see? Visit the ' +\n",
              "            '<a target=\"_blank\" href=https://colab.research.google.com/notebooks/data_table.ipynb>data table notebook</a>'\n",
              "            + ' to learn more about interactive tables.';\n",
              "          element.innerHTML = '';\n",
              "          dataTable['output_type'] = 'display_data';\n",
              "          await google.colab.output.renderOutput(dataTable, element);\n",
              "          const docLink = document.createElement('div');\n",
              "          docLink.innerHTML = docLinkHtml;\n",
              "          element.appendChild(docLink);\n",
              "        }\n",
              "      </script>\n",
              "    </div>\n",
              "  </div>\n",
              "  "
            ]
          },
          "metadata": {},
          "execution_count": 149
        }
      ]
    },
    {
      "cell_type": "code",
      "source": [
        "t_eng = t1_copy[t1_copy['True_text'].str.contains('[a-z]', regex = True)]"
      ],
      "metadata": {
        "id": "AYPxzlIfaevV"
      },
      "execution_count": null,
      "outputs": []
    },
    {
      "cell_type": "code",
      "source": [
        "t_ru = t1_copy[~t1_copy['True_text'].str.contains('[a-z]', regex = True)]"
      ],
      "metadata": {
        "id": "9_Nj-cNMDV33"
      },
      "execution_count": null,
      "outputs": []
    },
    {
      "cell_type": "code",
      "source": [
        "t_ru"
      ],
      "metadata": {
        "colab": {
          "base_uri": "https://localhost:8080/",
          "height": 606
        },
        "id": "2L_WV_IxDooA",
        "outputId": "652125b8-f077-436f-fc58-810f7dafd6a8"
      },
      "execution_count": null,
      "outputs": [
        {
          "output_type": "execute_result",
          "data": {
            "text/plain": [
              "                                            Prediction  \\\n",
              "4    правда на планшетах этот диалог будет не полно...   \n",
              "5    их можно использовать для вода данных наикрана...   \n",
              "12     а вот карточки сильно перерабатывать мне стали    \n",
              "16   новые в обычных кнопках полностью закруглили у...   \n",
              "19      поговорим подробнее про каждый из компонентов    \n",
              "..                                                 ...   \n",
              "974  в планировании архитектуры программы количеств...   \n",
              "977  если над объектом необходимо произвести некото...   \n",
              "979  в легасе проекте тема может быть достаточно бо...   \n",
              "981             поэтому нужен мост между двумя темами    \n",
              "983  исходники простые их можно дополнить или сдела...   \n",
              "\n",
              "                                             True_text  cer_with_preproc  \n",
              "4     правда на планшетах этот диалог будет не полн...          0.194030  \n",
              "5     их можно использовать для ввода данных на экр...          0.161765  \n",
              "12       а вот карточки сильно перерабатывать не стали          0.025000  \n",
              "16    новое в обычных кнопках полностью закруглили ...          0.023256  \n",
              "19       поговорим подробнее про каждый из компонентов          0.000000  \n",
              "..                                                 ...               ...  \n",
              "974   в планировании архитектуры программы количест...          0.016807  \n",
              "977   если над объектом необходимо произвести некот...          0.089552  \n",
              "979   в легаси проекте тема может быть достаточно б...          0.034884  \n",
              "981              поэтому нужен мост между двумя темами          0.000000  \n",
              "983   исходники простые их можно дополнить или сдел...          0.010309  \n",
              "\n",
              "[379 rows x 3 columns]"
            ],
            "text/html": [
              "\n",
              "  <div id=\"df-0591c242-9707-4724-8069-ee9e0b5a073b\">\n",
              "    <div class=\"colab-df-container\">\n",
              "      <div>\n",
              "<style scoped>\n",
              "    .dataframe tbody tr th:only-of-type {\n",
              "        vertical-align: middle;\n",
              "    }\n",
              "\n",
              "    .dataframe tbody tr th {\n",
              "        vertical-align: top;\n",
              "    }\n",
              "\n",
              "    .dataframe thead th {\n",
              "        text-align: right;\n",
              "    }\n",
              "</style>\n",
              "<table border=\"1\" class=\"dataframe\">\n",
              "  <thead>\n",
              "    <tr style=\"text-align: right;\">\n",
              "      <th></th>\n",
              "      <th>Prediction</th>\n",
              "      <th>True_text</th>\n",
              "      <th>cer_with_preproc</th>\n",
              "    </tr>\n",
              "  </thead>\n",
              "  <tbody>\n",
              "    <tr>\n",
              "      <th>4</th>\n",
              "      <td>правда на планшетах этот диалог будет не полно...</td>\n",
              "      <td>правда на планшетах этот диалог будет не полн...</td>\n",
              "      <td>0.194030</td>\n",
              "    </tr>\n",
              "    <tr>\n",
              "      <th>5</th>\n",
              "      <td>их можно использовать для вода данных наикрана...</td>\n",
              "      <td>их можно использовать для ввода данных на экр...</td>\n",
              "      <td>0.161765</td>\n",
              "    </tr>\n",
              "    <tr>\n",
              "      <th>12</th>\n",
              "      <td>а вот карточки сильно перерабатывать мне стали</td>\n",
              "      <td>а вот карточки сильно перерабатывать не стали</td>\n",
              "      <td>0.025000</td>\n",
              "    </tr>\n",
              "    <tr>\n",
              "      <th>16</th>\n",
              "      <td>новые в обычных кнопках полностью закруглили у...</td>\n",
              "      <td>новое в обычных кнопках полностью закруглили ...</td>\n",
              "      <td>0.023256</td>\n",
              "    </tr>\n",
              "    <tr>\n",
              "      <th>19</th>\n",
              "      <td>поговорим подробнее про каждый из компонентов</td>\n",
              "      <td>поговорим подробнее про каждый из компонентов</td>\n",
              "      <td>0.000000</td>\n",
              "    </tr>\n",
              "    <tr>\n",
              "      <th>...</th>\n",
              "      <td>...</td>\n",
              "      <td>...</td>\n",
              "      <td>...</td>\n",
              "    </tr>\n",
              "    <tr>\n",
              "      <th>974</th>\n",
              "      <td>в планировании архитектуры программы количеств...</td>\n",
              "      <td>в планировании архитектуры программы количест...</td>\n",
              "      <td>0.016807</td>\n",
              "    </tr>\n",
              "    <tr>\n",
              "      <th>977</th>\n",
              "      <td>если над объектом необходимо произвести некото...</td>\n",
              "      <td>если над объектом необходимо произвести некот...</td>\n",
              "      <td>0.089552</td>\n",
              "    </tr>\n",
              "    <tr>\n",
              "      <th>979</th>\n",
              "      <td>в легасе проекте тема может быть достаточно бо...</td>\n",
              "      <td>в легаси проекте тема может быть достаточно б...</td>\n",
              "      <td>0.034884</td>\n",
              "    </tr>\n",
              "    <tr>\n",
              "      <th>981</th>\n",
              "      <td>поэтому нужен мост между двумя темами</td>\n",
              "      <td>поэтому нужен мост между двумя темами</td>\n",
              "      <td>0.000000</td>\n",
              "    </tr>\n",
              "    <tr>\n",
              "      <th>983</th>\n",
              "      <td>исходники простые их можно дополнить или сдела...</td>\n",
              "      <td>исходники простые их можно дополнить или сдел...</td>\n",
              "      <td>0.010309</td>\n",
              "    </tr>\n",
              "  </tbody>\n",
              "</table>\n",
              "<p>379 rows × 3 columns</p>\n",
              "</div>\n",
              "      <button class=\"colab-df-convert\" onclick=\"convertToInteractive('df-0591c242-9707-4724-8069-ee9e0b5a073b')\"\n",
              "              title=\"Convert this dataframe to an interactive table.\"\n",
              "              style=\"display:none;\">\n",
              "        \n",
              "  <svg xmlns=\"http://www.w3.org/2000/svg\" height=\"24px\"viewBox=\"0 0 24 24\"\n",
              "       width=\"24px\">\n",
              "    <path d=\"M0 0h24v24H0V0z\" fill=\"none\"/>\n",
              "    <path d=\"M18.56 5.44l.94 2.06.94-2.06 2.06-.94-2.06-.94-.94-2.06-.94 2.06-2.06.94zm-11 1L8.5 8.5l.94-2.06 2.06-.94-2.06-.94L8.5 2.5l-.94 2.06-2.06.94zm10 10l.94 2.06.94-2.06 2.06-.94-2.06-.94-.94-2.06-.94 2.06-2.06.94z\"/><path d=\"M17.41 7.96l-1.37-1.37c-.4-.4-.92-.59-1.43-.59-.52 0-1.04.2-1.43.59L10.3 9.45l-7.72 7.72c-.78.78-.78 2.05 0 2.83L4 21.41c.39.39.9.59 1.41.59.51 0 1.02-.2 1.41-.59l7.78-7.78 2.81-2.81c.8-.78.8-2.07 0-2.86zM5.41 20L4 18.59l7.72-7.72 1.47 1.35L5.41 20z\"/>\n",
              "  </svg>\n",
              "      </button>\n",
              "      \n",
              "  <style>\n",
              "    .colab-df-container {\n",
              "      display:flex;\n",
              "      flex-wrap:wrap;\n",
              "      gap: 12px;\n",
              "    }\n",
              "\n",
              "    .colab-df-convert {\n",
              "      background-color: #E8F0FE;\n",
              "      border: none;\n",
              "      border-radius: 50%;\n",
              "      cursor: pointer;\n",
              "      display: none;\n",
              "      fill: #1967D2;\n",
              "      height: 32px;\n",
              "      padding: 0 0 0 0;\n",
              "      width: 32px;\n",
              "    }\n",
              "\n",
              "    .colab-df-convert:hover {\n",
              "      background-color: #E2EBFA;\n",
              "      box-shadow: 0px 1px 2px rgba(60, 64, 67, 0.3), 0px 1px 3px 1px rgba(60, 64, 67, 0.15);\n",
              "      fill: #174EA6;\n",
              "    }\n",
              "\n",
              "    [theme=dark] .colab-df-convert {\n",
              "      background-color: #3B4455;\n",
              "      fill: #D2E3FC;\n",
              "    }\n",
              "\n",
              "    [theme=dark] .colab-df-convert:hover {\n",
              "      background-color: #434B5C;\n",
              "      box-shadow: 0px 1px 3px 1px rgba(0, 0, 0, 0.15);\n",
              "      filter: drop-shadow(0px 1px 2px rgba(0, 0, 0, 0.3));\n",
              "      fill: #FFFFFF;\n",
              "    }\n",
              "  </style>\n",
              "\n",
              "      <script>\n",
              "        const buttonEl =\n",
              "          document.querySelector('#df-0591c242-9707-4724-8069-ee9e0b5a073b button.colab-df-convert');\n",
              "        buttonEl.style.display =\n",
              "          google.colab.kernel.accessAllowed ? 'block' : 'none';\n",
              "\n",
              "        async function convertToInteractive(key) {\n",
              "          const element = document.querySelector('#df-0591c242-9707-4724-8069-ee9e0b5a073b');\n",
              "          const dataTable =\n",
              "            await google.colab.kernel.invokeFunction('convertToInteractive',\n",
              "                                                     [key], {});\n",
              "          if (!dataTable) return;\n",
              "\n",
              "          const docLinkHtml = 'Like what you see? Visit the ' +\n",
              "            '<a target=\"_blank\" href=https://colab.research.google.com/notebooks/data_table.ipynb>data table notebook</a>'\n",
              "            + ' to learn more about interactive tables.';\n",
              "          element.innerHTML = '';\n",
              "          dataTable['output_type'] = 'display_data';\n",
              "          await google.colab.output.renderOutput(dataTable, element);\n",
              "          const docLink = document.createElement('div');\n",
              "          docLink.innerHTML = docLinkHtml;\n",
              "          element.appendChild(docLink);\n",
              "        }\n",
              "      </script>\n",
              "    </div>\n",
              "  </div>\n",
              "  "
            ]
          },
          "metadata": {},
          "execution_count": 153
        }
      ]
    },
    {
      "cell_type": "code",
      "source": [
        "t_eng"
      ],
      "metadata": {
        "colab": {
          "base_uri": "https://localhost:8080/",
          "height": 624
        },
        "id": "42p9cbU3dU8v",
        "outputId": "8a2895ce-8f86-4185-ba24-c74e4e971712"
      },
      "execution_count": null,
      "outputs": [
        {
          "output_type": "execute_result",
          "data": {
            "text/plain": [
              "                                            Prediction  \\\n",
              "0             навагейшендрор боковая панель навигации    \n",
              "1      невагей шинба переимянованный ботом невагейшин    \n",
              "2    с матирил три в андроитунифицировали наеминг б...   \n",
              "3    вандруед всю жизнь было два способа построить ...   \n",
              "6    также гугол выкотил гайдлайны по реализации по...   \n",
              "..                                                 ...   \n",
              "976  если нужен остел олпонскат умеет рендерить фай...   \n",
              "978  пример вызова из джупета-ноутб  общий принцип ...   \n",
              "980  в легаси проектах обычна этопкампа тема  в то ...   \n",
              "982  в составе кампаност есть обкампатсим удобная о...   \n",
              "984  если проект уже использует материал дизайнсим ...   \n",
              "\n",
              "                                             True_text  cer_with_preproc  \n",
              "0           navigation drawer боковая панель навигации          0.560000  \n",
              "1     navigation bar переименованный bottom navigation          0.761905  \n",
              "2     с material 3 в android унифицировали нейминг ...          0.598131  \n",
              "3     в android всю жизнь было два способа построит...          0.325301  \n",
              "6     также google выкатил гайдлайны по реализации ...          0.118644  \n",
              "..                                                 ...               ...  \n",
              "976   если нужен stl openscad умеет рендерить файлы...          0.205479  \n",
              "978   пример вызова из jupyter notebook общий принц...          0.341772  \n",
              "980   в легаси проектах обычно это appcompat тема в...          0.439024  \n",
              "982   в составе accompanist есть appcompattheme удо...          0.442105  \n",
              "984   если проект уже использует material design th...          0.636364  \n",
              "\n",
              "[606 rows x 3 columns]"
            ],
            "text/html": [
              "\n",
              "  <div id=\"df-fdae4014-9bc8-4c9a-94e8-ca0a1f876d7f\">\n",
              "    <div class=\"colab-df-container\">\n",
              "      <div>\n",
              "<style scoped>\n",
              "    .dataframe tbody tr th:only-of-type {\n",
              "        vertical-align: middle;\n",
              "    }\n",
              "\n",
              "    .dataframe tbody tr th {\n",
              "        vertical-align: top;\n",
              "    }\n",
              "\n",
              "    .dataframe thead th {\n",
              "        text-align: right;\n",
              "    }\n",
              "</style>\n",
              "<table border=\"1\" class=\"dataframe\">\n",
              "  <thead>\n",
              "    <tr style=\"text-align: right;\">\n",
              "      <th></th>\n",
              "      <th>Prediction</th>\n",
              "      <th>True_text</th>\n",
              "      <th>cer_with_preproc</th>\n",
              "    </tr>\n",
              "  </thead>\n",
              "  <tbody>\n",
              "    <tr>\n",
              "      <th>0</th>\n",
              "      <td>навагейшендрор боковая панель навигации</td>\n",
              "      <td>navigation drawer боковая панель навигации</td>\n",
              "      <td>0.560000</td>\n",
              "    </tr>\n",
              "    <tr>\n",
              "      <th>1</th>\n",
              "      <td>невагей шинба переимянованный ботом невагейшин</td>\n",
              "      <td>navigation bar переименованный bottom navigation</td>\n",
              "      <td>0.761905</td>\n",
              "    </tr>\n",
              "    <tr>\n",
              "      <th>2</th>\n",
              "      <td>с матирил три в андроитунифицировали наеминг б...</td>\n",
              "      <td>с material 3 в android унифицировали нейминг ...</td>\n",
              "      <td>0.598131</td>\n",
              "    </tr>\n",
              "    <tr>\n",
              "      <th>3</th>\n",
              "      <td>вандруед всю жизнь было два способа построить ...</td>\n",
              "      <td>в android всю жизнь было два способа построит...</td>\n",
              "      <td>0.325301</td>\n",
              "    </tr>\n",
              "    <tr>\n",
              "      <th>6</th>\n",
              "      <td>также гугол выкотил гайдлайны по реализации по...</td>\n",
              "      <td>также google выкатил гайдлайны по реализации ...</td>\n",
              "      <td>0.118644</td>\n",
              "    </tr>\n",
              "    <tr>\n",
              "      <th>...</th>\n",
              "      <td>...</td>\n",
              "      <td>...</td>\n",
              "      <td>...</td>\n",
              "    </tr>\n",
              "    <tr>\n",
              "      <th>976</th>\n",
              "      <td>если нужен остел олпонскат умеет рендерить фай...</td>\n",
              "      <td>если нужен stl openscad умеет рендерить файлы...</td>\n",
              "      <td>0.205479</td>\n",
              "    </tr>\n",
              "    <tr>\n",
              "      <th>978</th>\n",
              "      <td>пример вызова из джупета-ноутб  общий принцип ...</td>\n",
              "      <td>пример вызова из jupyter notebook общий принц...</td>\n",
              "      <td>0.341772</td>\n",
              "    </tr>\n",
              "    <tr>\n",
              "      <th>980</th>\n",
              "      <td>в легаси проектах обычна этопкампа тема  в то ...</td>\n",
              "      <td>в легаси проектах обычно это appcompat тема в...</td>\n",
              "      <td>0.439024</td>\n",
              "    </tr>\n",
              "    <tr>\n",
              "      <th>982</th>\n",
              "      <td>в составе кампаност есть обкампатсим удобная о...</td>\n",
              "      <td>в составе accompanist есть appcompattheme удо...</td>\n",
              "      <td>0.442105</td>\n",
              "    </tr>\n",
              "    <tr>\n",
              "      <th>984</th>\n",
              "      <td>если проект уже использует материал дизайнсим ...</td>\n",
              "      <td>если проект уже использует material design th...</td>\n",
              "      <td>0.636364</td>\n",
              "    </tr>\n",
              "  </tbody>\n",
              "</table>\n",
              "<p>606 rows × 3 columns</p>\n",
              "</div>\n",
              "      <button class=\"colab-df-convert\" onclick=\"convertToInteractive('df-fdae4014-9bc8-4c9a-94e8-ca0a1f876d7f')\"\n",
              "              title=\"Convert this dataframe to an interactive table.\"\n",
              "              style=\"display:none;\">\n",
              "        \n",
              "  <svg xmlns=\"http://www.w3.org/2000/svg\" height=\"24px\"viewBox=\"0 0 24 24\"\n",
              "       width=\"24px\">\n",
              "    <path d=\"M0 0h24v24H0V0z\" fill=\"none\"/>\n",
              "    <path d=\"M18.56 5.44l.94 2.06.94-2.06 2.06-.94-2.06-.94-.94-2.06-.94 2.06-2.06.94zm-11 1L8.5 8.5l.94-2.06 2.06-.94-2.06-.94L8.5 2.5l-.94 2.06-2.06.94zm10 10l.94 2.06.94-2.06 2.06-.94-2.06-.94-.94-2.06-.94 2.06-2.06.94z\"/><path d=\"M17.41 7.96l-1.37-1.37c-.4-.4-.92-.59-1.43-.59-.52 0-1.04.2-1.43.59L10.3 9.45l-7.72 7.72c-.78.78-.78 2.05 0 2.83L4 21.41c.39.39.9.59 1.41.59.51 0 1.02-.2 1.41-.59l7.78-7.78 2.81-2.81c.8-.78.8-2.07 0-2.86zM5.41 20L4 18.59l7.72-7.72 1.47 1.35L5.41 20z\"/>\n",
              "  </svg>\n",
              "      </button>\n",
              "      \n",
              "  <style>\n",
              "    .colab-df-container {\n",
              "      display:flex;\n",
              "      flex-wrap:wrap;\n",
              "      gap: 12px;\n",
              "    }\n",
              "\n",
              "    .colab-df-convert {\n",
              "      background-color: #E8F0FE;\n",
              "      border: none;\n",
              "      border-radius: 50%;\n",
              "      cursor: pointer;\n",
              "      display: none;\n",
              "      fill: #1967D2;\n",
              "      height: 32px;\n",
              "      padding: 0 0 0 0;\n",
              "      width: 32px;\n",
              "    }\n",
              "\n",
              "    .colab-df-convert:hover {\n",
              "      background-color: #E2EBFA;\n",
              "      box-shadow: 0px 1px 2px rgba(60, 64, 67, 0.3), 0px 1px 3px 1px rgba(60, 64, 67, 0.15);\n",
              "      fill: #174EA6;\n",
              "    }\n",
              "\n",
              "    [theme=dark] .colab-df-convert {\n",
              "      background-color: #3B4455;\n",
              "      fill: #D2E3FC;\n",
              "    }\n",
              "\n",
              "    [theme=dark] .colab-df-convert:hover {\n",
              "      background-color: #434B5C;\n",
              "      box-shadow: 0px 1px 3px 1px rgba(0, 0, 0, 0.15);\n",
              "      filter: drop-shadow(0px 1px 2px rgba(0, 0, 0, 0.3));\n",
              "      fill: #FFFFFF;\n",
              "    }\n",
              "  </style>\n",
              "\n",
              "      <script>\n",
              "        const buttonEl =\n",
              "          document.querySelector('#df-fdae4014-9bc8-4c9a-94e8-ca0a1f876d7f button.colab-df-convert');\n",
              "        buttonEl.style.display =\n",
              "          google.colab.kernel.accessAllowed ? 'block' : 'none';\n",
              "\n",
              "        async function convertToInteractive(key) {\n",
              "          const element = document.querySelector('#df-fdae4014-9bc8-4c9a-94e8-ca0a1f876d7f');\n",
              "          const dataTable =\n",
              "            await google.colab.kernel.invokeFunction('convertToInteractive',\n",
              "                                                     [key], {});\n",
              "          if (!dataTable) return;\n",
              "\n",
              "          const docLinkHtml = 'Like what you see? Visit the ' +\n",
              "            '<a target=\"_blank\" href=https://colab.research.google.com/notebooks/data_table.ipynb>data table notebook</a>'\n",
              "            + ' to learn more about interactive tables.';\n",
              "          element.innerHTML = '';\n",
              "          dataTable['output_type'] = 'display_data';\n",
              "          await google.colab.output.renderOutput(dataTable, element);\n",
              "          const docLink = document.createElement('div');\n",
              "          docLink.innerHTML = docLinkHtml;\n",
              "          element.appendChild(docLink);\n",
              "        }\n",
              "      </script>\n",
              "    </div>\n",
              "  </div>\n",
              "  "
            ]
          },
          "metadata": {},
          "execution_count": 154
        }
      ]
    },
    {
      "cell_type": "code",
      "source": [
        "t_eng[t_eng['cer_with_preproc'] < 0.1].sample(5).T"
      ],
      "metadata": {
        "colab": {
          "base_uri": "https://localhost:8080/",
          "height": 291
        },
        "id": "EvNeE8dcbZbl",
        "outputId": "3f94b528-22c3-4fb7-9ec5-8cb8cd7b78d3"
      },
      "execution_count": null,
      "outputs": [
        {
          "output_type": "execute_result",
          "data": {
            "text/plain": [
              "                                                                800  \\\n",
              "Prediction        пользователь профессиональные гэппеа в сервера...   \n",
              "True_text          пользователь профессиональные gpu в серверах ...   \n",
              "cer_with_preproc                                           0.087719   \n",
              "\n",
              "                                                                946  \\\n",
              "Prediction        в последующих примерах при построении фрактало...   \n",
              "True_text          в последующих примерах при построении фрактал...   \n",
              "cer_with_preproc                                           0.066265   \n",
              "\n",
              "                                                    869  \\\n",
              "Prediction        остаются только их вариации он цвета    \n",
              "True_text          остаются только их вариации on цвета   \n",
              "cer_with_preproc                               0.064516   \n",
              "\n",
              "                                                                866  \\\n",
              "Prediction        он цвета  цвета которые будут идеально смотрет...   \n",
              "True_text          on цвета цвета которые будут идеально смотрет...   \n",
              "cer_with_preproc                                           0.040323   \n",
              "\n",
              "                                                                167  \n",
              "Prediction        то есть фмпек вполне можно выбрать для качеств...  \n",
              "True_text          то есть ffmpeg вполне можно выбрать для качес...  \n",
              "cer_with_preproc                                           0.046875  "
            ],
            "text/html": [
              "\n",
              "  <div id=\"df-5d74b1c9-4f04-40eb-952b-05f59afd3a50\">\n",
              "    <div class=\"colab-df-container\">\n",
              "      <div>\n",
              "<style scoped>\n",
              "    .dataframe tbody tr th:only-of-type {\n",
              "        vertical-align: middle;\n",
              "    }\n",
              "\n",
              "    .dataframe tbody tr th {\n",
              "        vertical-align: top;\n",
              "    }\n",
              "\n",
              "    .dataframe thead th {\n",
              "        text-align: right;\n",
              "    }\n",
              "</style>\n",
              "<table border=\"1\" class=\"dataframe\">\n",
              "  <thead>\n",
              "    <tr style=\"text-align: right;\">\n",
              "      <th></th>\n",
              "      <th>800</th>\n",
              "      <th>946</th>\n",
              "      <th>869</th>\n",
              "      <th>866</th>\n",
              "      <th>167</th>\n",
              "    </tr>\n",
              "  </thead>\n",
              "  <tbody>\n",
              "    <tr>\n",
              "      <th>Prediction</th>\n",
              "      <td>пользователь профессиональные гэппеа в сервера...</td>\n",
              "      <td>в последующих примерах при построении фрактало...</td>\n",
              "      <td>остаются только их вариации он цвета</td>\n",
              "      <td>он цвета  цвета которые будут идеально смотрет...</td>\n",
              "      <td>то есть фмпек вполне можно выбрать для качеств...</td>\n",
              "    </tr>\n",
              "    <tr>\n",
              "      <th>True_text</th>\n",
              "      <td>пользователь профессиональные gpu в серверах ...</td>\n",
              "      <td>в последующих примерах при построении фрактал...</td>\n",
              "      <td>остаются только их вариации on цвета</td>\n",
              "      <td>on цвета цвета которые будут идеально смотрет...</td>\n",
              "      <td>то есть ffmpeg вполне можно выбрать для качес...</td>\n",
              "    </tr>\n",
              "    <tr>\n",
              "      <th>cer_with_preproc</th>\n",
              "      <td>0.087719</td>\n",
              "      <td>0.066265</td>\n",
              "      <td>0.064516</td>\n",
              "      <td>0.040323</td>\n",
              "      <td>0.046875</td>\n",
              "    </tr>\n",
              "  </tbody>\n",
              "</table>\n",
              "</div>\n",
              "      <button class=\"colab-df-convert\" onclick=\"convertToInteractive('df-5d74b1c9-4f04-40eb-952b-05f59afd3a50')\"\n",
              "              title=\"Convert this dataframe to an interactive table.\"\n",
              "              style=\"display:none;\">\n",
              "        \n",
              "  <svg xmlns=\"http://www.w3.org/2000/svg\" height=\"24px\"viewBox=\"0 0 24 24\"\n",
              "       width=\"24px\">\n",
              "    <path d=\"M0 0h24v24H0V0z\" fill=\"none\"/>\n",
              "    <path d=\"M18.56 5.44l.94 2.06.94-2.06 2.06-.94-2.06-.94-.94-2.06-.94 2.06-2.06.94zm-11 1L8.5 8.5l.94-2.06 2.06-.94-2.06-.94L8.5 2.5l-.94 2.06-2.06.94zm10 10l.94 2.06.94-2.06 2.06-.94-2.06-.94-.94-2.06-.94 2.06-2.06.94z\"/><path d=\"M17.41 7.96l-1.37-1.37c-.4-.4-.92-.59-1.43-.59-.52 0-1.04.2-1.43.59L10.3 9.45l-7.72 7.72c-.78.78-.78 2.05 0 2.83L4 21.41c.39.39.9.59 1.41.59.51 0 1.02-.2 1.41-.59l7.78-7.78 2.81-2.81c.8-.78.8-2.07 0-2.86zM5.41 20L4 18.59l7.72-7.72 1.47 1.35L5.41 20z\"/>\n",
              "  </svg>\n",
              "      </button>\n",
              "      \n",
              "  <style>\n",
              "    .colab-df-container {\n",
              "      display:flex;\n",
              "      flex-wrap:wrap;\n",
              "      gap: 12px;\n",
              "    }\n",
              "\n",
              "    .colab-df-convert {\n",
              "      background-color: #E8F0FE;\n",
              "      border: none;\n",
              "      border-radius: 50%;\n",
              "      cursor: pointer;\n",
              "      display: none;\n",
              "      fill: #1967D2;\n",
              "      height: 32px;\n",
              "      padding: 0 0 0 0;\n",
              "      width: 32px;\n",
              "    }\n",
              "\n",
              "    .colab-df-convert:hover {\n",
              "      background-color: #E2EBFA;\n",
              "      box-shadow: 0px 1px 2px rgba(60, 64, 67, 0.3), 0px 1px 3px 1px rgba(60, 64, 67, 0.15);\n",
              "      fill: #174EA6;\n",
              "    }\n",
              "\n",
              "    [theme=dark] .colab-df-convert {\n",
              "      background-color: #3B4455;\n",
              "      fill: #D2E3FC;\n",
              "    }\n",
              "\n",
              "    [theme=dark] .colab-df-convert:hover {\n",
              "      background-color: #434B5C;\n",
              "      box-shadow: 0px 1px 3px 1px rgba(0, 0, 0, 0.15);\n",
              "      filter: drop-shadow(0px 1px 2px rgba(0, 0, 0, 0.3));\n",
              "      fill: #FFFFFF;\n",
              "    }\n",
              "  </style>\n",
              "\n",
              "      <script>\n",
              "        const buttonEl =\n",
              "          document.querySelector('#df-5d74b1c9-4f04-40eb-952b-05f59afd3a50 button.colab-df-convert');\n",
              "        buttonEl.style.display =\n",
              "          google.colab.kernel.accessAllowed ? 'block' : 'none';\n",
              "\n",
              "        async function convertToInteractive(key) {\n",
              "          const element = document.querySelector('#df-5d74b1c9-4f04-40eb-952b-05f59afd3a50');\n",
              "          const dataTable =\n",
              "            await google.colab.kernel.invokeFunction('convertToInteractive',\n",
              "                                                     [key], {});\n",
              "          if (!dataTable) return;\n",
              "\n",
              "          const docLinkHtml = 'Like what you see? Visit the ' +\n",
              "            '<a target=\"_blank\" href=https://colab.research.google.com/notebooks/data_table.ipynb>data table notebook</a>'\n",
              "            + ' to learn more about interactive tables.';\n",
              "          element.innerHTML = '';\n",
              "          dataTable['output_type'] = 'display_data';\n",
              "          await google.colab.output.renderOutput(dataTable, element);\n",
              "          const docLink = document.createElement('div');\n",
              "          docLink.innerHTML = docLinkHtml;\n",
              "          element.appendChild(docLink);\n",
              "        }\n",
              "      </script>\n",
              "    </div>\n",
              "  </div>\n",
              "  "
            ]
          },
          "metadata": {},
          "execution_count": 155
        }
      ]
    },
    {
      "cell_type": "code",
      "source": [
        "t_eng['cer_with_preproc'].plot.hist(grid=True, bins=10, rwidth=0.9,\n",
        "                   color='#607c8e')\n"
      ],
      "metadata": {
        "colab": {
          "base_uri": "https://localhost:8080/",
          "height": 282
        },
        "id": "V8sMvTHYD_mc",
        "outputId": "6643f68b-ce2f-4bf9-9563-5cbebe28e259"
      },
      "execution_count": null,
      "outputs": [
        {
          "output_type": "execute_result",
          "data": {
            "text/plain": [
              "<matplotlib.axes._subplots.AxesSubplot at 0x7ff82bd4f510>"
            ]
          },
          "metadata": {},
          "execution_count": 161
        },
        {
          "output_type": "display_data",
          "data": {
            "text/plain": [
              "<Figure size 432x288 with 1 Axes>"
            ],
            "image/png": "[encoded data removed]"
          },
          "metadata": {
            "needs_background": "light"
          }
        }
      ]
    },
    {
      "cell_type": "code",
      "source": [
        "t_ru['cer_with_preproc'].plot.hist(grid=True, bins=10, rwidth=0.9,\n",
        "                   color='#607c8e')"
      ],
      "metadata": {
        "colab": {
          "base_uri": "https://localhost:8080/",
          "height": 282
        },
        "id": "RELMsBbWDuD6",
        "outputId": "ae0bbeb9-725a-43d4-e35f-13d6e6784562"
      },
      "execution_count": null,
      "outputs": [
        {
          "output_type": "execute_result",
          "data": {
            "text/plain": [
              "<matplotlib.axes._subplots.AxesSubplot at 0x7ff82bcf64d0>"
            ]
          },
          "metadata": {},
          "execution_count": 162
        },
        {
          "output_type": "display_data",
          "data": {
            "text/plain": [
              "<Figure size 432x288 with 1 Axes>"
            ],
            "image/png": "[encoded data removed]"
          },
          "metadata": {
            "needs_background": "light"
          }
        }
      ]
    },
    {
      "cell_type": "markdown",
      "source": [
        "csv files - t_ru, t_eng, пословный алайнмент отдельно и то, что есть сейчас. Для одного варианта"
      ],
      "metadata": {
        "id": "qj5Iu33FEgDg"
      }
    },
    {
      "cell_type": "code",
      "source": [
        "t_eng.to_csv('/content/t_eng.csv')\n",
        "t_ru.to_csv('/content/t_ru.csv')"
      ],
      "metadata": {
        "id": "FPWme4jxnsxv"
      },
      "execution_count": null,
      "outputs": []
    },
    {
      "cell_type": "code",
      "source": [
        "import matplotlib.pyplot as plt\n",
        "t_new['cer_with_preproc'].plot.hist(grid=True, bins=10, rwidth=0.9,\n",
        "                   color='#607c8e')\n",
        "plt.grid(axis='y', alpha=0.75)\n",
        "plt.xlabel('CER')\n",
        "plt.ylabel('Частота')\n",
        "plt.title('Распределение CER в предложениях')"
      ],
      "metadata": {
        "colab": {
          "base_uri": "https://localhost:8080/",
          "height": 312
        },
        "id": "3qzHt9GG3E55",
        "outputId": "50904a86-54c0-4907-e38d-2da52e07e364"
      },
      "execution_count": 53,
      "outputs": [
        {
          "output_type": "execute_result",
          "data": {
            "text/plain": [
              "Text(0.5, 1.0, 'Распределение CER в предложениях')"
            ]
          },
          "metadata": {},
          "execution_count": 53
        },
        {
          "output_type": "display_data",
          "data": {
            "text/plain": [
              "<Figure size 432x288 with 1 Axes>"
            ],
            "image/png": "[encoded data removed]"
          },
          "metadata": {
            "needs_background": "light"
          }
        }
      ]
    },
    {
      "cell_type": "code",
      "source": [
        "import matplotlib.pyplot as plt\n",
        "t_new['Wer'].plot.hist(grid=True, bins=10, rwidth=0.9,\n",
        "                   color='#607c8e')\n",
        "plt.grid(axis='y', alpha=0.75)\n",
        "plt.xlabel('WER')\n",
        "plt.ylabel('Частота')\n",
        "plt.title('Распределение WER в предложениях')"
      ],
      "metadata": {
        "colab": {
          "base_uri": "https://localhost:8080/",
          "height": 312
        },
        "id": "7fljIBHHDidB",
        "outputId": "4a73aad6-42fe-4df9-9329-84df64a1141f"
      },
      "execution_count": 133,
      "outputs": [
        {
          "output_type": "execute_result",
          "data": {
            "text/plain": [
              "Text(0.5, 1.0, 'Распределение WER в предложениях')"
            ]
          },
          "metadata": {},
          "execution_count": 133
        },
        {
          "output_type": "display_data",
          "data": {
            "text/plain": [
              "<Figure size 432x288 with 1 Axes>"
            ],
            "image/png": "[encoded data removed]"
          },
          "metadata": {
            "needs_background": "light"
          }
        }
      ]
    },
    {
      "cell_type": "code",
      "source": [
        "t_new['Wer'].mean()"
      ],
      "metadata": {
        "colab": {
          "base_uri": "https://localhost:8080/"
        },
        "id": "ipEzfSrR5ndB",
        "outputId": "cbe0f525-8193-46e5-bf13-fe0e1d2184eb"
      },
      "execution_count": 137,
      "outputs": [
        {
          "output_type": "execute_result",
          "data": {
            "text/plain": [
              "0.2814393904691566"
            ]
          },
          "metadata": {},
          "execution_count": 137
        }
      ]
    },
    {
      "cell_type": "code",
      "source": [
        "import pandas as pd\n",
        "sents_all_ipa = pd.read_csv('/content/sents_ipa_cer.csv')"
      ],
      "metadata": {
        "id": "FumTeewuFhwn"
      },
      "execution_count": 62,
      "outputs": []
    },
    {
      "cell_type": "code",
      "source": [
        "sents_all_ipa"
      ],
      "metadata": {
        "colab": {
          "base_uri": "https://localhost:8080/",
          "height": 867
        },
        "id": "Ef1CE9z1IXRW",
        "outputId": "2179b99f-1c73-488b-c233-05a8c4b93772"
      },
      "execution_count": 63,
      "outputs": [
        {
          "output_type": "execute_result",
          "data": {
            "text/plain": [
              "     Unnamed: 0                                         Prediction  \\\n",
              "0             0        navaɡejʂendror bokovaa panelʲ navʲiɡat͡sii    \n",
              "1             1  nevaɡej ʂinba pʲerʲeimʲanovannɨj botom nevaɡej...   \n",
              "2             2  s matʲirʲil trʲi v androitunifʲit͡sirovalʲi na...   \n",
              "3             3  vandrued vsʲu ʒiznʲ bɨlo dva sposoba postroitʲ...   \n",
              "4             4  pravda na planʂetax etot dʲialoɡ budʲet ne pol...   \n",
              "..          ...                                                ...   \n",
              "980         980  v lʲeɡasʲi proektax obɨt͡ɕʲna etopkampa tʲema ...   \n",
              "981         981         poetomu nuʒen most mʲeʒdu dvumʲa tʲemamʲi    \n",
              "982         982  v sostavʲe kampanost estʲ obkampatsʲim udobnaa...   \n",
              "983         983  isxodnikʲi prostɨe ix moʒno dopolnitʲ ilʲi sdʲ...   \n",
              "984         984  jeslʲi proekt uʒe ispolʲzuet matʲerʲial dʲizaj...   \n",
              "\n",
              "                                             True_text                  Cer  \\\n",
              "0         nævəɡejʃən dɹɔɹ bokovaa panelʲ navʲiɡat͡sii                     -   \n",
              "1    nævəɡejʃən bɑɹ pʲerʲeimʲenovannɨj bɑtəm nævəɡe...                    -   \n",
              "2    s mətɪɹiəl 3 v ændɹojd unifʲit͡sirovalʲi nejmʲ...                    -   \n",
              "3    v ændɹojd vsʲu ʒiznʲ bɨlo dva sposoba postroit...   0.1368421052631579   \n",
              "4    pravda na planʂetax etot dʲialoɡ budʲet ne pol...                    -   \n",
              "..                                                 ...                  ...   \n",
              "980  v lʲeɡasʲi proektax obɨt͡ɕʲno eto æpkɑmpæt tʲe...  0.18556701030927836   \n",
              "981         poetomu nuʒen most mʲeʒdu dvumʲa tʲemamʲi                   0.0   \n",
              "982  v sostavʲe əkʌmpənəst jestʲ æpkɑmpɑtθejm udobn...                    -   \n",
              "983  isxodnikʲi prostɨe ix moʒno dopolnitʲ ilʲi sdʲ...                    -   \n",
              "984  jeslʲi proekt uʒe ispolʲzuet mətɪɹiəl dɪzajn θ...                    -   \n",
              "\n",
              "     Cer_abydos                                          true_sent       Wer  \n",
              "0         0.036       navigation drawer боковая панель навигации\\n  0.400000  \n",
              "1         0.083   navigation bar переименованный bottom navigat...  1.000000  \n",
              "2         0.086   с material 3 в android унифицировали нейминг ...  0.466667  \n",
              "3         0.063   в android всю жизнь было два способа построит...  0.266667  \n",
              "4         0.029   правда на планшетах этот диалог будет не полн...  0.200000  \n",
              "..          ...                                                ...       ...  \n",
              "980       0.079   в легаси проектах обычно это appcompat тема в...  0.357143  \n",
              "981       0.000            поэтому нужен мост между двумя темами\\n  0.000000  \n",
              "982       0.077   в составе accompanist есть appcompattheme удо...  0.444444  \n",
              "983       0.010   исходники простые их можно дополнить или сдел...  0.117647  \n",
              "984       0.131   если проект уже использует material design th...  0.523810  \n",
              "\n",
              "[985 rows x 7 columns]"
            ],
            "text/html": [
              "\n",
              "  <div id=\"df-dce56de6-5360-406a-a40e-64f067e4a6aa\">\n",
              "    <div class=\"colab-df-container\">\n",
              "      <div>\n",
              "<style scoped>\n",
              "    .dataframe tbody tr th:only-of-type {\n",
              "        vertical-align: middle;\n",
              "    }\n",
              "\n",
              "    .dataframe tbody tr th {\n",
              "        vertical-align: top;\n",
              "    }\n",
              "\n",
              "    .dataframe thead th {\n",
              "        text-align: right;\n",
              "    }\n",
              "</style>\n",
              "<table border=\"1\" class=\"dataframe\">\n",
              "  <thead>\n",
              "    <tr style=\"text-align: right;\">\n",
              "      <th></th>\n",
              "      <th>Unnamed: 0</th>\n",
              "      <th>Prediction</th>\n",
              "      <th>True_text</th>\n",
              "      <th>Cer</th>\n",
              "      <th>Cer_abydos</th>\n",
              "      <th>true_sent</th>\n",
              "      <th>Wer</th>\n",
              "    </tr>\n",
              "  </thead>\n",
              "  <tbody>\n",
              "    <tr>\n",
              "      <th>0</th>\n",
              "      <td>0</td>\n",
              "      <td>navaɡejʂendror bokovaa panelʲ navʲiɡat͡sii</td>\n",
              "      <td>nævəɡejʃən dɹɔɹ bokovaa panelʲ navʲiɡat͡sii</td>\n",
              "      <td>-</td>\n",
              "      <td>0.036</td>\n",
              "      <td>navigation drawer боковая панель навигации\\n</td>\n",
              "      <td>0.400000</td>\n",
              "    </tr>\n",
              "    <tr>\n",
              "      <th>1</th>\n",
              "      <td>1</td>\n",
              "      <td>nevaɡej ʂinba pʲerʲeimʲanovannɨj botom nevaɡej...</td>\n",
              "      <td>nævəɡejʃən bɑɹ pʲerʲeimʲenovannɨj bɑtəm nævəɡe...</td>\n",
              "      <td>-</td>\n",
              "      <td>0.083</td>\n",
              "      <td>navigation bar переименованный bottom navigat...</td>\n",
              "      <td>1.000000</td>\n",
              "    </tr>\n",
              "    <tr>\n",
              "      <th>2</th>\n",
              "      <td>2</td>\n",
              "      <td>s matʲirʲil trʲi v androitunifʲit͡sirovalʲi na...</td>\n",
              "      <td>s mətɪɹiəl 3 v ændɹojd unifʲit͡sirovalʲi nejmʲ...</td>\n",
              "      <td>-</td>\n",
              "      <td>0.086</td>\n",
              "      <td>с material 3 в android унифицировали нейминг ...</td>\n",
              "      <td>0.466667</td>\n",
              "    </tr>\n",
              "    <tr>\n",
              "      <th>3</th>\n",
              "      <td>3</td>\n",
              "      <td>vandrued vsʲu ʒiznʲ bɨlo dva sposoba postroitʲ...</td>\n",
              "      <td>v ændɹojd vsʲu ʒiznʲ bɨlo dva sposoba postroit...</td>\n",
              "      <td>0.1368421052631579</td>\n",
              "      <td>0.063</td>\n",
              "      <td>в android всю жизнь было два способа построит...</td>\n",
              "      <td>0.266667</td>\n",
              "    </tr>\n",
              "    <tr>\n",
              "      <th>4</th>\n",
              "      <td>4</td>\n",
              "      <td>pravda na planʂetax etot dʲialoɡ budʲet ne pol...</td>\n",
              "      <td>pravda na planʂetax etot dʲialoɡ budʲet ne pol...</td>\n",
              "      <td>-</td>\n",
              "      <td>0.029</td>\n",
              "      <td>правда на планшетах этот диалог будет не полн...</td>\n",
              "      <td>0.200000</td>\n",
              "    </tr>\n",
              "    <tr>\n",
              "      <th>...</th>\n",
              "      <td>...</td>\n",
              "      <td>...</td>\n",
              "      <td>...</td>\n",
              "      <td>...</td>\n",
              "      <td>...</td>\n",
              "      <td>...</td>\n",
              "      <td>...</td>\n",
              "    </tr>\n",
              "    <tr>\n",
              "      <th>980</th>\n",
              "      <td>980</td>\n",
              "      <td>v lʲeɡasʲi proektax obɨt͡ɕʲna etopkampa tʲema ...</td>\n",
              "      <td>v lʲeɡasʲi proektax obɨt͡ɕʲno eto æpkɑmpæt tʲe...</td>\n",
              "      <td>0.18556701030927836</td>\n",
              "      <td>0.079</td>\n",
              "      <td>в легаси проектах обычно это appcompat тема в...</td>\n",
              "      <td>0.357143</td>\n",
              "    </tr>\n",
              "    <tr>\n",
              "      <th>981</th>\n",
              "      <td>981</td>\n",
              "      <td>poetomu nuʒen most mʲeʒdu dvumʲa tʲemamʲi</td>\n",
              "      <td>poetomu nuʒen most mʲeʒdu dvumʲa tʲemamʲi</td>\n",
              "      <td>0.0</td>\n",
              "      <td>0.000</td>\n",
              "      <td>поэтому нужен мост между двумя темами\\n</td>\n",
              "      <td>0.000000</td>\n",
              "    </tr>\n",
              "    <tr>\n",
              "      <th>982</th>\n",
              "      <td>982</td>\n",
              "      <td>v sostavʲe kampanost estʲ obkampatsʲim udobnaa...</td>\n",
              "      <td>v sostavʲe əkʌmpənəst jestʲ æpkɑmpɑtθejm udobn...</td>\n",
              "      <td>-</td>\n",
              "      <td>0.077</td>\n",
              "      <td>в составе accompanist есть appcompattheme удо...</td>\n",
              "      <td>0.444444</td>\n",
              "    </tr>\n",
              "    <tr>\n",
              "      <th>983</th>\n",
              "      <td>983</td>\n",
              "      <td>isxodnikʲi prostɨe ix moʒno dopolnitʲ ilʲi sdʲ...</td>\n",
              "      <td>isxodnikʲi prostɨe ix moʒno dopolnitʲ ilʲi sdʲ...</td>\n",
              "      <td>-</td>\n",
              "      <td>0.010</td>\n",
              "      <td>исходники простые их можно дополнить или сдел...</td>\n",
              "      <td>0.117647</td>\n",
              "    </tr>\n",
              "    <tr>\n",
              "      <th>984</th>\n",
              "      <td>984</td>\n",
              "      <td>jeslʲi proekt uʒe ispolʲzuet matʲerʲial dʲizaj...</td>\n",
              "      <td>jeslʲi proekt uʒe ispolʲzuet mətɪɹiəl dɪzajn θ...</td>\n",
              "      <td>-</td>\n",
              "      <td>0.131</td>\n",
              "      <td>если проект уже использует material design th...</td>\n",
              "      <td>0.523810</td>\n",
              "    </tr>\n",
              "  </tbody>\n",
              "</table>\n",
              "<p>985 rows × 7 columns</p>\n",
              "</div>\n",
              "      <button class=\"colab-df-convert\" onclick=\"convertToInteractive('df-dce56de6-5360-406a-a40e-64f067e4a6aa')\"\n",
              "              title=\"Convert this dataframe to an interactive table.\"\n",
              "              style=\"display:none;\">\n",
              "        \n",
              "  <svg xmlns=\"http://www.w3.org/2000/svg\" height=\"24px\"viewBox=\"0 0 24 24\"\n",
              "       width=\"24px\">\n",
              "    <path d=\"M0 0h24v24H0V0z\" fill=\"none\"/>\n",
              "    <path d=\"M18.56 5.44l.94 2.06.94-2.06 2.06-.94-2.06-.94-.94-2.06-.94 2.06-2.06.94zm-11 1L8.5 8.5l.94-2.06 2.06-.94-2.06-.94L8.5 2.5l-.94 2.06-2.06.94zm10 10l.94 2.06.94-2.06 2.06-.94-2.06-.94-.94-2.06-.94 2.06-2.06.94z\"/><path d=\"M17.41 7.96l-1.37-1.37c-.4-.4-.92-.59-1.43-.59-.52 0-1.04.2-1.43.59L10.3 9.45l-7.72 7.72c-.78.78-.78 2.05 0 2.83L4 21.41c.39.39.9.59 1.41.59.51 0 1.02-.2 1.41-.59l7.78-7.78 2.81-2.81c.8-.78.8-2.07 0-2.86zM5.41 20L4 18.59l7.72-7.72 1.47 1.35L5.41 20z\"/>\n",
              "  </svg>\n",
              "      </button>\n",
              "      \n",
              "  <style>\n",
              "    .colab-df-container {\n",
              "      display:flex;\n",
              "      flex-wrap:wrap;\n",
              "      gap: 12px;\n",
              "    }\n",
              "\n",
              "    .colab-df-convert {\n",
              "      background-color: #E8F0FE;\n",
              "      border: none;\n",
              "      border-radius: 50%;\n",
              "      cursor: pointer;\n",
              "      display: none;\n",
              "      fill: #1967D2;\n",
              "      height: 32px;\n",
              "      padding: 0 0 0 0;\n",
              "      width: 32px;\n",
              "    }\n",
              "\n",
              "    .colab-df-convert:hover {\n",
              "      background-color: #E2EBFA;\n",
              "      box-shadow: 0px 1px 2px rgba(60, 64, 67, 0.3), 0px 1px 3px 1px rgba(60, 64, 67, 0.15);\n",
              "      fill: #174EA6;\n",
              "    }\n",
              "\n",
              "    [theme=dark] .colab-df-convert {\n",
              "      background-color: #3B4455;\n",
              "      fill: #D2E3FC;\n",
              "    }\n",
              "\n",
              "    [theme=dark] .colab-df-convert:hover {\n",
              "      background-color: #434B5C;\n",
              "      box-shadow: 0px 1px 3px 1px rgba(0, 0, 0, 0.15);\n",
              "      filter: drop-shadow(0px 1px 2px rgba(0, 0, 0, 0.3));\n",
              "      fill: #FFFFFF;\n",
              "    }\n",
              "  </style>\n",
              "\n",
              "      <script>\n",
              "        const buttonEl =\n",
              "          document.querySelector('#df-dce56de6-5360-406a-a40e-64f067e4a6aa button.colab-df-convert');\n",
              "        buttonEl.style.display =\n",
              "          google.colab.kernel.accessAllowed ? 'block' : 'none';\n",
              "\n",
              "        async function convertToInteractive(key) {\n",
              "          const element = document.querySelector('#df-dce56de6-5360-406a-a40e-64f067e4a6aa');\n",
              "          const dataTable =\n",
              "            await google.colab.kernel.invokeFunction('convertToInteractive',\n",
              "                                                     [key], {});\n",
              "          if (!dataTable) return;\n",
              "\n",
              "          const docLinkHtml = 'Like what you see? Visit the ' +\n",
              "            '<a target=\"_blank\" href=https://colab.research.google.com/notebooks/data_table.ipynb>data table notebook</a>'\n",
              "            + ' to learn more about interactive tables.';\n",
              "          element.innerHTML = '';\n",
              "          dataTable['output_type'] = 'display_data';\n",
              "          await google.colab.output.renderOutput(dataTable, element);\n",
              "          const docLink = document.createElement('div');\n",
              "          docLink.innerHTML = docLinkHtml;\n",
              "          element.appendChild(docLink);\n",
              "        }\n",
              "      </script>\n",
              "    </div>\n",
              "  </div>\n",
              "  "
            ]
          },
          "metadata": {},
          "execution_count": 63
        }
      ]
    },
    {
      "cell_type": "code",
      "source": [
        "\n",
        "sents_all_ipa['Cer_abydos'].plot.hist(grid=True, bins=10, rwidth=0.9,\n",
        "                   color='#607c8e')\n",
        "plt.grid(axis='y', alpha=0.75)\n",
        "plt.xlabel('CER')\n",
        "plt.ylabel('Частота')\n",
        "plt.title('Распределение CER в предложениях, переведенных в МФА')"
      ],
      "metadata": {
        "colab": {
          "base_uri": "https://localhost:8080/",
          "height": 312
        },
        "id": "OWh9kZmwIdb-",
        "outputId": "aada73f6-c906-4dba-b2ee-fc14bbcf71ff"
      },
      "execution_count": 66,
      "outputs": [
        {
          "output_type": "execute_result",
          "data": {
            "text/plain": [
              "Text(0.5, 1.0, 'Распределение CER в предложениях, переведенных в МФА')"
            ]
          },
          "metadata": {},
          "execution_count": 66
        },
        {
          "output_type": "display_data",
          "data": {
            "text/plain": [
              "<Figure size 432x288 with 1 Axes>"
            ],
            "image/png": "[encoded data removed]"
          },
          "metadata": {
            "needs_background": "light"
          }
        }
      ]
    },
    {
      "cell_type": "code",
      "source": [
        "sents_all_ipa[sents_all_ipa['Cer_abydos'] >0.4]"
      ],
      "metadata": {
        "colab": {
          "base_uri": "https://localhost:8080/",
          "height": 438
        },
        "id": "3OxL0ZSGJNfp",
        "outputId": "ed869df9-03f9-4f67-c8e9-e2d43e2a97e1"
      },
      "execution_count": 67,
      "outputs": [
        {
          "output_type": "execute_result",
          "data": {
            "text/plain": [
              "     Unnamed: 0                                         Prediction  \\\n",
              "221         221  v etom slut͡ɕʲae smotrʲitʲe v storonu bʲil taj...   \n",
              "272         272  ibɨdʲesʲiɡnablʲes rasʂirʲenie do urovne fʲiɡma...   \n",
              "468         468                            sʲinoma t͡ɕʲetɨrʲe dʲe    \n",
              "497         497  jeslʲi v dvʲe tɨsʲat͡ɕʲa vosʲemnadt͡satom ɡodu...   \n",
              "916         916  v obɕːem nado sdʲelatʲ t͡ɕʲto-to tʲipa toɡo fp...   \n",
              "934         934  naprʲimʲeru utʲu prajmoj rʲet͡svʲet rʲeʂetka f...   \n",
              "\n",
              "                                             True_text Cer  Cer_abydos  \\\n",
              "221  flejvɹ̩z ne lut͡ɕʲʂij vɨbor jeslʲi vam nuʒno p...   -       0.521   \n",
              "272  ɪb dɛzəɡnəbəlz rasʂirʲenie do urovna fɪɡmə zkowd    -       0.546   \n",
              "468                                        sɪnəmə 4di    -       0.513   \n",
              "497  jeslʲi v 2018 ɡodu lʲudʲi tratʲilʲi na prosmot...   -       0.458   \n",
              "916  v obɕːem nado sdʲelatʲ t͡ɕʲto to tʲipa toɡo fm...   -       0.420   \n",
              "934  naprʲimʲer u jutub pɹajmɛɹi t͡svʲet f0000 kras...   -       0.508   \n",
              "\n",
              "                                             true_sent       Wer  \n",
              "221   flavors не лучший выбор если вам нужно просто...  2.157895  \n",
              "272   ib designables расширение до уровня figma xco...  1.571429  \n",
              "468                                        cinema 4d\\n  1.500000  \n",
              "497   если в 2018 году люди тратили на просмотр вид...  0.708333  \n",
              "916   в общем надо сделать что то типа того ffmpeg ...  0.818182  \n",
              "934   например у youtube primary цвет ff0000 красны...  1.181818  "
            ],
            "text/html": [
              "\n",
              "  <div id=\"df-10f8ea7b-0686-49a2-bca0-627f3aa55d8a\">\n",
              "    <div class=\"colab-df-container\">\n",
              "      <div>\n",
              "<style scoped>\n",
              "    .dataframe tbody tr th:only-of-type {\n",
              "        vertical-align: middle;\n",
              "    }\n",
              "\n",
              "    .dataframe tbody tr th {\n",
              "        vertical-align: top;\n",
              "    }\n",
              "\n",
              "    .dataframe thead th {\n",
              "        text-align: right;\n",
              "    }\n",
              "</style>\n",
              "<table border=\"1\" class=\"dataframe\">\n",
              "  <thead>\n",
              "    <tr style=\"text-align: right;\">\n",
              "      <th></th>\n",
              "      <th>Unnamed: 0</th>\n",
              "      <th>Prediction</th>\n",
              "      <th>True_text</th>\n",
              "      <th>Cer</th>\n",
              "      <th>Cer_abydos</th>\n",
              "      <th>true_sent</th>\n",
              "      <th>Wer</th>\n",
              "    </tr>\n",
              "  </thead>\n",
              "  <tbody>\n",
              "    <tr>\n",
              "      <th>221</th>\n",
              "      <td>221</td>\n",
              "      <td>v etom slut͡ɕʲae smotrʲitʲe v storonu bʲil taj...</td>\n",
              "      <td>flejvɹ̩z ne lut͡ɕʲʂij vɨbor jeslʲi vam nuʒno p...</td>\n",
              "      <td>-</td>\n",
              "      <td>0.521</td>\n",
              "      <td>flavors не лучший выбор если вам нужно просто...</td>\n",
              "      <td>2.157895</td>\n",
              "    </tr>\n",
              "    <tr>\n",
              "      <th>272</th>\n",
              "      <td>272</td>\n",
              "      <td>ibɨdʲesʲiɡnablʲes rasʂirʲenie do urovne fʲiɡma...</td>\n",
              "      <td>ɪb dɛzəɡnəbəlz rasʂirʲenie do urovna fɪɡmə zkowd</td>\n",
              "      <td>-</td>\n",
              "      <td>0.546</td>\n",
              "      <td>ib designables расширение до уровня figma xco...</td>\n",
              "      <td>1.571429</td>\n",
              "    </tr>\n",
              "    <tr>\n",
              "      <th>468</th>\n",
              "      <td>468</td>\n",
              "      <td>sʲinoma t͡ɕʲetɨrʲe dʲe</td>\n",
              "      <td>sɪnəmə 4di</td>\n",
              "      <td>-</td>\n",
              "      <td>0.513</td>\n",
              "      <td>cinema 4d\\n</td>\n",
              "      <td>1.500000</td>\n",
              "    </tr>\n",
              "    <tr>\n",
              "      <th>497</th>\n",
              "      <td>497</td>\n",
              "      <td>jeslʲi v dvʲe tɨsʲat͡ɕʲa vosʲemnadt͡satom ɡodu...</td>\n",
              "      <td>jeslʲi v 2018 ɡodu lʲudʲi tratʲilʲi na prosmot...</td>\n",
              "      <td>-</td>\n",
              "      <td>0.458</td>\n",
              "      <td>если в 2018 году люди тратили на просмотр вид...</td>\n",
              "      <td>0.708333</td>\n",
              "    </tr>\n",
              "    <tr>\n",
              "      <th>916</th>\n",
              "      <td>916</td>\n",
              "      <td>v obɕːem nado sdʲelatʲ t͡ɕʲto-to tʲipa toɡo fp...</td>\n",
              "      <td>v obɕːem nado sdʲelatʲ t͡ɕʲto to tʲipa toɡo fm...</td>\n",
              "      <td>-</td>\n",
              "      <td>0.420</td>\n",
              "      <td>в общем надо сделать что то типа того ffmpeg ...</td>\n",
              "      <td>0.818182</td>\n",
              "    </tr>\n",
              "    <tr>\n",
              "      <th>934</th>\n",
              "      <td>934</td>\n",
              "      <td>naprʲimʲeru utʲu prajmoj rʲet͡svʲet rʲeʂetka f...</td>\n",
              "      <td>naprʲimʲer u jutub pɹajmɛɹi t͡svʲet f0000 kras...</td>\n",
              "      <td>-</td>\n",
              "      <td>0.508</td>\n",
              "      <td>например у youtube primary цвет ff0000 красны...</td>\n",
              "      <td>1.181818</td>\n",
              "    </tr>\n",
              "  </tbody>\n",
              "</table>\n",
              "</div>\n",
              "      <button class=\"colab-df-convert\" onclick=\"convertToInteractive('df-10f8ea7b-0686-49a2-bca0-627f3aa55d8a')\"\n",
              "              title=\"Convert this dataframe to an interactive table.\"\n",
              "              style=\"display:none;\">\n",
              "        \n",
              "  <svg xmlns=\"http://www.w3.org/2000/svg\" height=\"24px\"viewBox=\"0 0 24 24\"\n",
              "       width=\"24px\">\n",
              "    <path d=\"M0 0h24v24H0V0z\" fill=\"none\"/>\n",
              "    <path d=\"M18.56 5.44l.94 2.06.94-2.06 2.06-.94-2.06-.94-.94-2.06-.94 2.06-2.06.94zm-11 1L8.5 8.5l.94-2.06 2.06-.94-2.06-.94L8.5 2.5l-.94 2.06-2.06.94zm10 10l.94 2.06.94-2.06 2.06-.94-2.06-.94-.94-2.06-.94 2.06-2.06.94z\"/><path d=\"M17.41 7.96l-1.37-1.37c-.4-.4-.92-.59-1.43-.59-.52 0-1.04.2-1.43.59L10.3 9.45l-7.72 7.72c-.78.78-.78 2.05 0 2.83L4 21.41c.39.39.9.59 1.41.59.51 0 1.02-.2 1.41-.59l7.78-7.78 2.81-2.81c.8-.78.8-2.07 0-2.86zM5.41 20L4 18.59l7.72-7.72 1.47 1.35L5.41 20z\"/>\n",
              "  </svg>\n",
              "      </button>\n",
              "      \n",
              "  <style>\n",
              "    .colab-df-container {\n",
              "      display:flex;\n",
              "      flex-wrap:wrap;\n",
              "      gap: 12px;\n",
              "    }\n",
              "\n",
              "    .colab-df-convert {\n",
              "      background-color: #E8F0FE;\n",
              "      border: none;\n",
              "      border-radius: 50%;\n",
              "      cursor: pointer;\n",
              "      display: none;\n",
              "      fill: #1967D2;\n",
              "      height: 32px;\n",
              "      padding: 0 0 0 0;\n",
              "      width: 32px;\n",
              "    }\n",
              "\n",
              "    .colab-df-convert:hover {\n",
              "      background-color: #E2EBFA;\n",
              "      box-shadow: 0px 1px 2px rgba(60, 64, 67, 0.3), 0px 1px 3px 1px rgba(60, 64, 67, 0.15);\n",
              "      fill: #174EA6;\n",
              "    }\n",
              "\n",
              "    [theme=dark] .colab-df-convert {\n",
              "      background-color: #3B4455;\n",
              "      fill: #D2E3FC;\n",
              "    }\n",
              "\n",
              "    [theme=dark] .colab-df-convert:hover {\n",
              "      background-color: #434B5C;\n",
              "      box-shadow: 0px 1px 3px 1px rgba(0, 0, 0, 0.15);\n",
              "      filter: drop-shadow(0px 1px 2px rgba(0, 0, 0, 0.3));\n",
              "      fill: #FFFFFF;\n",
              "    }\n",
              "  </style>\n",
              "\n",
              "      <script>\n",
              "        const buttonEl =\n",
              "          document.querySelector('#df-10f8ea7b-0686-49a2-bca0-627f3aa55d8a button.colab-df-convert');\n",
              "        buttonEl.style.display =\n",
              "          google.colab.kernel.accessAllowed ? 'block' : 'none';\n",
              "\n",
              "        async function convertToInteractive(key) {\n",
              "          const element = document.querySelector('#df-10f8ea7b-0686-49a2-bca0-627f3aa55d8a');\n",
              "          const dataTable =\n",
              "            await google.colab.kernel.invokeFunction('convertToInteractive',\n",
              "                                                     [key], {});\n",
              "          if (!dataTable) return;\n",
              "\n",
              "          const docLinkHtml = 'Like what you see? Visit the ' +\n",
              "            '<a target=\"_blank\" href=https://colab.research.google.com/notebooks/data_table.ipynb>data table notebook</a>'\n",
              "            + ' to learn more about interactive tables.';\n",
              "          element.innerHTML = '';\n",
              "          dataTable['output_type'] = 'display_data';\n",
              "          await google.colab.output.renderOutput(dataTable, element);\n",
              "          const docLink = document.createElement('div');\n",
              "          docLink.innerHTML = docLinkHtml;\n",
              "          element.appendChild(docLink);\n",
              "        }\n",
              "      </script>\n",
              "    </div>\n",
              "  </div>\n",
              "  "
            ]
          },
          "metadata": {},
          "execution_count": 67
        }
      ]
    },
    {
      "cell_type": "code",
      "source": [
        "sents_all_ipa_1= sents_all_ipa.copy()\n"
      ],
      "metadata": {
        "id": "F2sF1ehbKOal"
      },
      "execution_count": 68,
      "outputs": []
    },
    {
      "cell_type": "code",
      "source": [
        "sents_all_ipa_1['Numbers Only'] = sents_all_ipa_1['true_sent'].astype('str').str.extractall('(\\d+)').unstack().fillna('').sum(axis=1).astype(int)"
      ],
      "metadata": {
        "id": "R9Rft0-rKWIv"
      },
      "execution_count": 69,
      "outputs": []
    },
    {
      "cell_type": "code",
      "source": [
        "sents_all_ipa_1"
      ],
      "metadata": {
        "colab": {
          "base_uri": "https://localhost:8080/",
          "height": 973
        },
        "id": "kLPMJiOLKefw",
        "outputId": "3d2c2b32-bb15-4f0b-b220-9ebbb413a473"
      },
      "execution_count": 70,
      "outputs": [
        {
          "output_type": "execute_result",
          "data": {
            "text/plain": [
              "     Unnamed: 0                                         Prediction  \\\n",
              "0             0        navaɡejʂendror bokovaa panelʲ navʲiɡat͡sii    \n",
              "1             1  nevaɡej ʂinba pʲerʲeimʲanovannɨj botom nevaɡej...   \n",
              "2             2  s matʲirʲil trʲi v androitunifʲit͡sirovalʲi na...   \n",
              "3             3  vandrued vsʲu ʒiznʲ bɨlo dva sposoba postroitʲ...   \n",
              "4             4  pravda na planʂetax etot dʲialoɡ budʲet ne pol...   \n",
              "..          ...                                                ...   \n",
              "980         980  v lʲeɡasʲi proektax obɨt͡ɕʲna etopkampa tʲema ...   \n",
              "981         981         poetomu nuʒen most mʲeʒdu dvumʲa tʲemamʲi    \n",
              "982         982  v sostavʲe kampanost estʲ obkampatsʲim udobnaa...   \n",
              "983         983  isxodnikʲi prostɨe ix moʒno dopolnitʲ ilʲi sdʲ...   \n",
              "984         984  jeslʲi proekt uʒe ispolʲzuet matʲerʲial dʲizaj...   \n",
              "\n",
              "                                             True_text                  Cer  \\\n",
              "0         nævəɡejʃən dɹɔɹ bokovaa panelʲ navʲiɡat͡sii                     -   \n",
              "1    nævəɡejʃən bɑɹ pʲerʲeimʲenovannɨj bɑtəm nævəɡe...                    -   \n",
              "2    s mətɪɹiəl 3 v ændɹojd unifʲit͡sirovalʲi nejmʲ...                    -   \n",
              "3    v ændɹojd vsʲu ʒiznʲ bɨlo dva sposoba postroit...   0.1368421052631579   \n",
              "4    pravda na planʂetax etot dʲialoɡ budʲet ne pol...                    -   \n",
              "..                                                 ...                  ...   \n",
              "980  v lʲeɡasʲi proektax obɨt͡ɕʲno eto æpkɑmpæt tʲe...  0.18556701030927836   \n",
              "981         poetomu nuʒen most mʲeʒdu dvumʲa tʲemamʲi                   0.0   \n",
              "982  v sostavʲe əkʌmpənəst jestʲ æpkɑmpɑtθejm udobn...                    -   \n",
              "983  isxodnikʲi prostɨe ix moʒno dopolnitʲ ilʲi sdʲ...                    -   \n",
              "984  jeslʲi proekt uʒe ispolʲzuet mətɪɹiəl dɪzajn θ...                    -   \n",
              "\n",
              "     Cer_abydos                                          true_sent       Wer  \\\n",
              "0         0.036       navigation drawer боковая панель навигации\\n  0.400000   \n",
              "1         0.083   navigation bar переименованный bottom navigat...  1.000000   \n",
              "2         0.086   с material 3 в android унифицировали нейминг ...  0.466667   \n",
              "3         0.063   в android всю жизнь было два способа построит...  0.266667   \n",
              "4         0.029   правда на планшетах этот диалог будет не полн...  0.200000   \n",
              "..          ...                                                ...       ...   \n",
              "980       0.079   в легаси проектах обычно это appcompat тема в...  0.357143   \n",
              "981       0.000            поэтому нужен мост между двумя темами\\n  0.000000   \n",
              "982       0.077   в составе accompanist есть appcompattheme удо...  0.444444   \n",
              "983       0.010   исходники простые их можно дополнить или сдел...  0.117647   \n",
              "984       0.131   если проект уже использует material design th...  0.523810   \n",
              "\n",
              "     Numbers Only  \n",
              "0             NaN  \n",
              "1             NaN  \n",
              "2             3.0  \n",
              "3             NaN  \n",
              "4             NaN  \n",
              "..            ...  \n",
              "980           NaN  \n",
              "981           NaN  \n",
              "982           NaN  \n",
              "983           NaN  \n",
              "984           NaN  \n",
              "\n",
              "[985 rows x 8 columns]"
            ],
            "text/html": [
              "\n",
              "  <div id=\"df-7d8fe4c2-e6ca-4c49-8814-abca6c0f51f4\">\n",
              "    <div class=\"colab-df-container\">\n",
              "      <div>\n",
              "<style scoped>\n",
              "    .dataframe tbody tr th:only-of-type {\n",
              "        vertical-align: middle;\n",
              "    }\n",
              "\n",
              "    .dataframe tbody tr th {\n",
              "        vertical-align: top;\n",
              "    }\n",
              "\n",
              "    .dataframe thead th {\n",
              "        text-align: right;\n",
              "    }\n",
              "</style>\n",
              "<table border=\"1\" class=\"dataframe\">\n",
              "  <thead>\n",
              "    <tr style=\"text-align: right;\">\n",
              "      <th></th>\n",
              "      <th>Unnamed: 0</th>\n",
              "      <th>Prediction</th>\n",
              "      <th>True_text</th>\n",
              "      <th>Cer</th>\n",
              "      <th>Cer_abydos</th>\n",
              "      <th>true_sent</th>\n",
              "      <th>Wer</th>\n",
              "      <th>Numbers Only</th>\n",
              "    </tr>\n",
              "  </thead>\n",
              "  <tbody>\n",
              "    <tr>\n",
              "      <th>0</th>\n",
              "      <td>0</td>\n",
              "      <td>navaɡejʂendror bokovaa panelʲ navʲiɡat͡sii</td>\n",
              "      <td>nævəɡejʃən dɹɔɹ bokovaa panelʲ navʲiɡat͡sii</td>\n",
              "      <td>-</td>\n",
              "      <td>0.036</td>\n",
              "      <td>navigation drawer боковая панель навигации\\n</td>\n",
              "      <td>0.400000</td>\n",
              "      <td>NaN</td>\n",
              "    </tr>\n",
              "    <tr>\n",
              "      <th>1</th>\n",
              "      <td>1</td>\n",
              "      <td>nevaɡej ʂinba pʲerʲeimʲanovannɨj botom nevaɡej...</td>\n",
              "      <td>nævəɡejʃən bɑɹ pʲerʲeimʲenovannɨj bɑtəm nævəɡe...</td>\n",
              "      <td>-</td>\n",
              "      <td>0.083</td>\n",
              "      <td>navigation bar переименованный bottom navigat...</td>\n",
              "      <td>1.000000</td>\n",
              "      <td>NaN</td>\n",
              "    </tr>\n",
              "    <tr>\n",
              "      <th>2</th>\n",
              "      <td>2</td>\n",
              "      <td>s matʲirʲil trʲi v androitunifʲit͡sirovalʲi na...</td>\n",
              "      <td>s mətɪɹiəl 3 v ændɹojd unifʲit͡sirovalʲi nejmʲ...</td>\n",
              "      <td>-</td>\n",
              "      <td>0.086</td>\n",
              "      <td>с material 3 в android унифицировали нейминг ...</td>\n",
              "      <td>0.466667</td>\n",
              "      <td>3.0</td>\n",
              "    </tr>\n",
              "    <tr>\n",
              "      <th>3</th>\n",
              "      <td>3</td>\n",
              "      <td>vandrued vsʲu ʒiznʲ bɨlo dva sposoba postroitʲ...</td>\n",
              "      <td>v ændɹojd vsʲu ʒiznʲ bɨlo dva sposoba postroit...</td>\n",
              "      <td>0.1368421052631579</td>\n",
              "      <td>0.063</td>\n",
              "      <td>в android всю жизнь было два способа построит...</td>\n",
              "      <td>0.266667</td>\n",
              "      <td>NaN</td>\n",
              "    </tr>\n",
              "    <tr>\n",
              "      <th>4</th>\n",
              "      <td>4</td>\n",
              "      <td>pravda na planʂetax etot dʲialoɡ budʲet ne pol...</td>\n",
              "      <td>pravda na planʂetax etot dʲialoɡ budʲet ne pol...</td>\n",
              "      <td>-</td>\n",
              "      <td>0.029</td>\n",
              "      <td>правда на планшетах этот диалог будет не полн...</td>\n",
              "      <td>0.200000</td>\n",
              "      <td>NaN</td>\n",
              "    </tr>\n",
              "    <tr>\n",
              "      <th>...</th>\n",
              "      <td>...</td>\n",
              "      <td>...</td>\n",
              "      <td>...</td>\n",
              "      <td>...</td>\n",
              "      <td>...</td>\n",
              "      <td>...</td>\n",
              "      <td>...</td>\n",
              "      <td>...</td>\n",
              "    </tr>\n",
              "    <tr>\n",
              "      <th>980</th>\n",
              "      <td>980</td>\n",
              "      <td>v lʲeɡasʲi proektax obɨt͡ɕʲna etopkampa tʲema ...</td>\n",
              "      <td>v lʲeɡasʲi proektax obɨt͡ɕʲno eto æpkɑmpæt tʲe...</td>\n",
              "      <td>0.18556701030927836</td>\n",
              "      <td>0.079</td>\n",
              "      <td>в легаси проектах обычно это appcompat тема в...</td>\n",
              "      <td>0.357143</td>\n",
              "      <td>NaN</td>\n",
              "    </tr>\n",
              "    <tr>\n",
              "      <th>981</th>\n",
              "      <td>981</td>\n",
              "      <td>poetomu nuʒen most mʲeʒdu dvumʲa tʲemamʲi</td>\n",
              "      <td>poetomu nuʒen most mʲeʒdu dvumʲa tʲemamʲi</td>\n",
              "      <td>0.0</td>\n",
              "      <td>0.000</td>\n",
              "      <td>поэтому нужен мост между двумя темами\\n</td>\n",
              "      <td>0.000000</td>\n",
              "      <td>NaN</td>\n",
              "    </tr>\n",
              "    <tr>\n",
              "      <th>982</th>\n",
              "      <td>982</td>\n",
              "      <td>v sostavʲe kampanost estʲ obkampatsʲim udobnaa...</td>\n",
              "      <td>v sostavʲe əkʌmpənəst jestʲ æpkɑmpɑtθejm udobn...</td>\n",
              "      <td>-</td>\n",
              "      <td>0.077</td>\n",
              "      <td>в составе accompanist есть appcompattheme удо...</td>\n",
              "      <td>0.444444</td>\n",
              "      <td>NaN</td>\n",
              "    </tr>\n",
              "    <tr>\n",
              "      <th>983</th>\n",
              "      <td>983</td>\n",
              "      <td>isxodnikʲi prostɨe ix moʒno dopolnitʲ ilʲi sdʲ...</td>\n",
              "      <td>isxodnikʲi prostɨe ix moʒno dopolnitʲ ilʲi sdʲ...</td>\n",
              "      <td>-</td>\n",
              "      <td>0.010</td>\n",
              "      <td>исходники простые их можно дополнить или сдел...</td>\n",
              "      <td>0.117647</td>\n",
              "      <td>NaN</td>\n",
              "    </tr>\n",
              "    <tr>\n",
              "      <th>984</th>\n",
              "      <td>984</td>\n",
              "      <td>jeslʲi proekt uʒe ispolʲzuet matʲerʲial dʲizaj...</td>\n",
              "      <td>jeslʲi proekt uʒe ispolʲzuet mətɪɹiəl dɪzajn θ...</td>\n",
              "      <td>-</td>\n",
              "      <td>0.131</td>\n",
              "      <td>если проект уже использует material design th...</td>\n",
              "      <td>0.523810</td>\n",
              "      <td>NaN</td>\n",
              "    </tr>\n",
              "  </tbody>\n",
              "</table>\n",
              "<p>985 rows × 8 columns</p>\n",
              "</div>\n",
              "      <button class=\"colab-df-convert\" onclick=\"convertToInteractive('df-7d8fe4c2-e6ca-4c49-8814-abca6c0f51f4')\"\n",
              "              title=\"Convert this dataframe to an interactive table.\"\n",
              "              style=\"display:none;\">\n",
              "        \n",
              "  <svg xmlns=\"http://www.w3.org/2000/svg\" height=\"24px\"viewBox=\"0 0 24 24\"\n",
              "       width=\"24px\">\n",
              "    <path d=\"M0 0h24v24H0V0z\" fill=\"none\"/>\n",
              "    <path d=\"M18.56 5.44l.94 2.06.94-2.06 2.06-.94-2.06-.94-.94-2.06-.94 2.06-2.06.94zm-11 1L8.5 8.5l.94-2.06 2.06-.94-2.06-.94L8.5 2.5l-.94 2.06-2.06.94zm10 10l.94 2.06.94-2.06 2.06-.94-2.06-.94-.94-2.06-.94 2.06-2.06.94z\"/><path d=\"M17.41 7.96l-1.37-1.37c-.4-.4-.92-.59-1.43-.59-.52 0-1.04.2-1.43.59L10.3 9.45l-7.72 7.72c-.78.78-.78 2.05 0 2.83L4 21.41c.39.39.9.59 1.41.59.51 0 1.02-.2 1.41-.59l7.78-7.78 2.81-2.81c.8-.78.8-2.07 0-2.86zM5.41 20L4 18.59l7.72-7.72 1.47 1.35L5.41 20z\"/>\n",
              "  </svg>\n",
              "      </button>\n",
              "      \n",
              "  <style>\n",
              "    .colab-df-container {\n",
              "      display:flex;\n",
              "      flex-wrap:wrap;\n",
              "      gap: 12px;\n",
              "    }\n",
              "\n",
              "    .colab-df-convert {\n",
              "      background-color: #E8F0FE;\n",
              "      border: none;\n",
              "      border-radius: 50%;\n",
              "      cursor: pointer;\n",
              "      display: none;\n",
              "      fill: #1967D2;\n",
              "      height: 32px;\n",
              "      padding: 0 0 0 0;\n",
              "      width: 32px;\n",
              "    }\n",
              "\n",
              "    .colab-df-convert:hover {\n",
              "      background-color: #E2EBFA;\n",
              "      box-shadow: 0px 1px 2px rgba(60, 64, 67, 0.3), 0px 1px 3px 1px rgba(60, 64, 67, 0.15);\n",
              "      fill: #174EA6;\n",
              "    }\n",
              "\n",
              "    [theme=dark] .colab-df-convert {\n",
              "      background-color: #3B4455;\n",
              "      fill: #D2E3FC;\n",
              "    }\n",
              "\n",
              "    [theme=dark] .colab-df-convert:hover {\n",
              "      background-color: #434B5C;\n",
              "      box-shadow: 0px 1px 3px 1px rgba(0, 0, 0, 0.15);\n",
              "      filter: drop-shadow(0px 1px 2px rgba(0, 0, 0, 0.3));\n",
              "      fill: #FFFFFF;\n",
              "    }\n",
              "  </style>\n",
              "\n",
              "      <script>\n",
              "        const buttonEl =\n",
              "          document.querySelector('#df-7d8fe4c2-e6ca-4c49-8814-abca6c0f51f4 button.colab-df-convert');\n",
              "        buttonEl.style.display =\n",
              "          google.colab.kernel.accessAllowed ? 'block' : 'none';\n",
              "\n",
              "        async function convertToInteractive(key) {\n",
              "          const element = document.querySelector('#df-7d8fe4c2-e6ca-4c49-8814-abca6c0f51f4');\n",
              "          const dataTable =\n",
              "            await google.colab.kernel.invokeFunction('convertToInteractive',\n",
              "                                                     [key], {});\n",
              "          if (!dataTable) return;\n",
              "\n",
              "          const docLinkHtml = 'Like what you see? Visit the ' +\n",
              "            '<a target=\"_blank\" href=https://colab.research.google.com/notebooks/data_table.ipynb>data table notebook</a>'\n",
              "            + ' to learn more about interactive tables.';\n",
              "          element.innerHTML = '';\n",
              "          dataTable['output_type'] = 'display_data';\n",
              "          await google.colab.output.renderOutput(dataTable, element);\n",
              "          const docLink = document.createElement('div');\n",
              "          docLink.innerHTML = docLinkHtml;\n",
              "          element.appendChild(docLink);\n",
              "        }\n",
              "      </script>\n",
              "    </div>\n",
              "  </div>\n",
              "  "
            ]
          },
          "metadata": {},
          "execution_count": 70
        }
      ]
    }
  ]
}